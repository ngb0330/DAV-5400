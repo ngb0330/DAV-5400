{
 "cells": [
  {
   "cell_type": "markdown",
   "metadata": {},
   "source": [
    "# DAV 5400 Project 1\n",
    "\n",
    "## Continental Airlines Analysis\n",
    "\n",
    "I chose to focus my analysis on one airline - Continental Airlines (CO). <br>\n",
    "I wanted to help Continental find out more information about its flights in 3 different areas: <br>\n",
    "    1. Cancellations\n",
    "    2. Delays\n",
    "    3. Early Arrivals\n",
    "Within each category, I want to answer the following questions:\n",
    "    1. How many of each category have we had (ie. Cancellations, Delays, Early Arrivals)?\n",
    "    2. How do we compare to other airlines within the category?\n",
    "    3. Within the category, to what destinations are most of our flights?\n",
    "    4. Within the category, on which day are most of our flights?\n",
    "    5. For cancellations only, what is the reason most of our flights are cancelled?\n",
    "I think that Continental can use this information to determine which of their flights are doing well, which need improvements, what other changes they need to make, and how best ot improve their service."
   ]
  },
  {
   "cell_type": "markdown",
   "metadata": {},
   "source": [
    "## Initializing the Data Set\n",
    "I imported the pandas package to handle the Houston Flights data. <br>\n",
    "The data contains 20,000 rows of flights data on flights departing from Houston airports in 2011. <br>\n",
    "The data is loaded into a pandas DataFrame and stored in the planes variable. <br>"
   ]
  },
  {
   "cell_type": "code",
   "execution_count": 1,
   "metadata": {},
   "outputs": [],
   "source": [
    "import pandas as pd"
   ]
  },
  {
   "cell_type": "code",
   "execution_count": 2,
   "metadata": {},
   "outputs": [],
   "source": [
    "filename = \"https://raw.githubusercontent.com/jtopor/DAV-5400/master/Project1/hflights.csv\" #set filename\n",
    "planes = pd.read_csv(filename) #read file into dataframe."
   ]
  },
  {
   "cell_type": "markdown",
   "metadata": {},
   "source": [
    "### Exploration of the Planes Data\n",
    "I looked at the first 5 rows of the planes Data Frame to see what the data looked like. <br>\n",
    "I used the describe function to find out information about the dataset, such as the mean of numerical columns. <br>\n",
    "From the description of the data, I discovered that the data is missing 264 rows of arrival delays, actual elapsed time and air time data. <br>"
   ]
  },
  {
   "cell_type": "code",
   "execution_count": 3,
   "metadata": {},
   "outputs": [
    {
     "data": {
      "text/html": [
       "<div>\n",
       "<style scoped>\n",
       "    .dataframe tbody tr th:only-of-type {\n",
       "        vertical-align: middle;\n",
       "    }\n",
       "\n",
       "    .dataframe tbody tr th {\n",
       "        vertical-align: top;\n",
       "    }\n",
       "\n",
       "    .dataframe thead th {\n",
       "        text-align: right;\n",
       "    }\n",
       "</style>\n",
       "<table border=\"1\" class=\"dataframe\">\n",
       "  <thead>\n",
       "    <tr style=\"text-align: right;\">\n",
       "      <th></th>\n",
       "      <th>Year</th>\n",
       "      <th>Month</th>\n",
       "      <th>DayofMonth</th>\n",
       "      <th>DayOfWeek</th>\n",
       "      <th>DepTime</th>\n",
       "      <th>ArrTime</th>\n",
       "      <th>UniqueCarrier</th>\n",
       "      <th>FlightNum</th>\n",
       "      <th>TailNum</th>\n",
       "      <th>ActualElapsedTime</th>\n",
       "      <th>...</th>\n",
       "      <th>ArrDelay</th>\n",
       "      <th>DepDelay</th>\n",
       "      <th>Origin</th>\n",
       "      <th>Dest</th>\n",
       "      <th>Distance</th>\n",
       "      <th>TaxiIn</th>\n",
       "      <th>TaxiOut</th>\n",
       "      <th>Cancelled</th>\n",
       "      <th>CancellationCode</th>\n",
       "      <th>Diverted</th>\n",
       "    </tr>\n",
       "  </thead>\n",
       "  <tbody>\n",
       "    <tr>\n",
       "      <th>0</th>\n",
       "      <td>2011</td>\n",
       "      <td>1</td>\n",
       "      <td>1</td>\n",
       "      <td>6</td>\n",
       "      <td>1400.0</td>\n",
       "      <td>1500.0</td>\n",
       "      <td>AA</td>\n",
       "      <td>428</td>\n",
       "      <td>N576AA</td>\n",
       "      <td>60.0</td>\n",
       "      <td>...</td>\n",
       "      <td>-10.0</td>\n",
       "      <td>0.0</td>\n",
       "      <td>IAH</td>\n",
       "      <td>DFW</td>\n",
       "      <td>224</td>\n",
       "      <td>7.0</td>\n",
       "      <td>13.0</td>\n",
       "      <td>0</td>\n",
       "      <td>NaN</td>\n",
       "      <td>0</td>\n",
       "    </tr>\n",
       "    <tr>\n",
       "      <th>1</th>\n",
       "      <td>2011</td>\n",
       "      <td>1</td>\n",
       "      <td>2</td>\n",
       "      <td>7</td>\n",
       "      <td>1401.0</td>\n",
       "      <td>1501.0</td>\n",
       "      <td>AA</td>\n",
       "      <td>428</td>\n",
       "      <td>N557AA</td>\n",
       "      <td>60.0</td>\n",
       "      <td>...</td>\n",
       "      <td>-9.0</td>\n",
       "      <td>1.0</td>\n",
       "      <td>IAH</td>\n",
       "      <td>DFW</td>\n",
       "      <td>224</td>\n",
       "      <td>6.0</td>\n",
       "      <td>9.0</td>\n",
       "      <td>0</td>\n",
       "      <td>NaN</td>\n",
       "      <td>0</td>\n",
       "    </tr>\n",
       "    <tr>\n",
       "      <th>2</th>\n",
       "      <td>2011</td>\n",
       "      <td>1</td>\n",
       "      <td>3</td>\n",
       "      <td>1</td>\n",
       "      <td>1352.0</td>\n",
       "      <td>1502.0</td>\n",
       "      <td>AA</td>\n",
       "      <td>428</td>\n",
       "      <td>N541AA</td>\n",
       "      <td>70.0</td>\n",
       "      <td>...</td>\n",
       "      <td>-8.0</td>\n",
       "      <td>-8.0</td>\n",
       "      <td>IAH</td>\n",
       "      <td>DFW</td>\n",
       "      <td>224</td>\n",
       "      <td>5.0</td>\n",
       "      <td>17.0</td>\n",
       "      <td>0</td>\n",
       "      <td>NaN</td>\n",
       "      <td>0</td>\n",
       "    </tr>\n",
       "    <tr>\n",
       "      <th>3</th>\n",
       "      <td>2011</td>\n",
       "      <td>1</td>\n",
       "      <td>4</td>\n",
       "      <td>2</td>\n",
       "      <td>1403.0</td>\n",
       "      <td>1513.0</td>\n",
       "      <td>AA</td>\n",
       "      <td>428</td>\n",
       "      <td>N403AA</td>\n",
       "      <td>70.0</td>\n",
       "      <td>...</td>\n",
       "      <td>3.0</td>\n",
       "      <td>3.0</td>\n",
       "      <td>IAH</td>\n",
       "      <td>DFW</td>\n",
       "      <td>224</td>\n",
       "      <td>9.0</td>\n",
       "      <td>22.0</td>\n",
       "      <td>0</td>\n",
       "      <td>NaN</td>\n",
       "      <td>0</td>\n",
       "    </tr>\n",
       "    <tr>\n",
       "      <th>4</th>\n",
       "      <td>2011</td>\n",
       "      <td>1</td>\n",
       "      <td>5</td>\n",
       "      <td>3</td>\n",
       "      <td>1405.0</td>\n",
       "      <td>1507.0</td>\n",
       "      <td>AA</td>\n",
       "      <td>428</td>\n",
       "      <td>N492AA</td>\n",
       "      <td>62.0</td>\n",
       "      <td>...</td>\n",
       "      <td>-3.0</td>\n",
       "      <td>5.0</td>\n",
       "      <td>IAH</td>\n",
       "      <td>DFW</td>\n",
       "      <td>224</td>\n",
       "      <td>9.0</td>\n",
       "      <td>9.0</td>\n",
       "      <td>0</td>\n",
       "      <td>NaN</td>\n",
       "      <td>0</td>\n",
       "    </tr>\n",
       "  </tbody>\n",
       "</table>\n",
       "<p>5 rows × 21 columns</p>\n",
       "</div>"
      ],
      "text/plain": [
       "   Year  Month  DayofMonth  DayOfWeek  DepTime  ArrTime UniqueCarrier  \\\n",
       "0  2011      1           1          6   1400.0   1500.0            AA   \n",
       "1  2011      1           2          7   1401.0   1501.0            AA   \n",
       "2  2011      1           3          1   1352.0   1502.0            AA   \n",
       "3  2011      1           4          2   1403.0   1513.0            AA   \n",
       "4  2011      1           5          3   1405.0   1507.0            AA   \n",
       "\n",
       "   FlightNum TailNum  ActualElapsedTime   ...     ArrDelay  DepDelay  Origin  \\\n",
       "0        428  N576AA               60.0   ...        -10.0       0.0     IAH   \n",
       "1        428  N557AA               60.0   ...         -9.0       1.0     IAH   \n",
       "2        428  N541AA               70.0   ...         -8.0      -8.0     IAH   \n",
       "3        428  N403AA               70.0   ...          3.0       3.0     IAH   \n",
       "4        428  N492AA               62.0   ...         -3.0       5.0     IAH   \n",
       "\n",
       "  Dest Distance  TaxiIn  TaxiOut  Cancelled  CancellationCode Diverted  \n",
       "0  DFW      224     7.0     13.0          0               NaN        0  \n",
       "1  DFW      224     6.0      9.0          0               NaN        0  \n",
       "2  DFW      224     5.0     17.0          0               NaN        0  \n",
       "3  DFW      224     9.0     22.0          0               NaN        0  \n",
       "4  DFW      224     9.0      9.0          0               NaN        0  \n",
       "\n",
       "[5 rows x 21 columns]"
      ]
     },
     "execution_count": 3,
     "metadata": {},
     "output_type": "execute_result"
    }
   ],
   "source": [
    "planes.head() #show first 5 rows of dataframe."
   ]
  },
  {
   "cell_type": "code",
   "execution_count": 4,
   "metadata": {},
   "outputs": [
    {
     "data": {
      "text/html": [
       "<div>\n",
       "<style scoped>\n",
       "    .dataframe tbody tr th:only-of-type {\n",
       "        vertical-align: middle;\n",
       "    }\n",
       "\n",
       "    .dataframe tbody tr th {\n",
       "        vertical-align: top;\n",
       "    }\n",
       "\n",
       "    .dataframe thead th {\n",
       "        text-align: right;\n",
       "    }\n",
       "</style>\n",
       "<table border=\"1\" class=\"dataframe\">\n",
       "  <thead>\n",
       "    <tr style=\"text-align: right;\">\n",
       "      <th></th>\n",
       "      <th>Year</th>\n",
       "      <th>Month</th>\n",
       "      <th>DayofMonth</th>\n",
       "      <th>DayOfWeek</th>\n",
       "      <th>DepTime</th>\n",
       "      <th>ArrTime</th>\n",
       "      <th>FlightNum</th>\n",
       "      <th>ActualElapsedTime</th>\n",
       "      <th>AirTime</th>\n",
       "      <th>ArrDelay</th>\n",
       "      <th>DepDelay</th>\n",
       "      <th>Distance</th>\n",
       "      <th>TaxiIn</th>\n",
       "      <th>TaxiOut</th>\n",
       "      <th>Cancelled</th>\n",
       "      <th>Diverted</th>\n",
       "    </tr>\n",
       "  </thead>\n",
       "  <tbody>\n",
       "    <tr>\n",
       "      <th>count</th>\n",
       "      <td>20000.0</td>\n",
       "      <td>20000.000000</td>\n",
       "      <td>20000.000000</td>\n",
       "      <td>20000.000000</td>\n",
       "      <td>19785.000000</td>\n",
       "      <td>19766.000000</td>\n",
       "      <td>20000.000000</td>\n",
       "      <td>19738.000000</td>\n",
       "      <td>19738.000000</td>\n",
       "      <td>19738.000000</td>\n",
       "      <td>19785.000000</td>\n",
       "      <td>20000.000000</td>\n",
       "      <td>19766.000000</td>\n",
       "      <td>19780.000000</td>\n",
       "      <td>20000.000000</td>\n",
       "      <td>20000.000000</td>\n",
       "    </tr>\n",
       "    <tr>\n",
       "      <th>mean</th>\n",
       "      <td>2011.0</td>\n",
       "      <td>1.054500</td>\n",
       "      <td>16.319000</td>\n",
       "      <td>4.020300</td>\n",
       "      <td>1396.328228</td>\n",
       "      <td>1586.669382</td>\n",
       "      <td>1626.416900</td>\n",
       "      <td>126.795319</td>\n",
       "      <td>105.584355</td>\n",
       "      <td>5.205340</td>\n",
       "      <td>8.297700</td>\n",
       "      <td>772.899550</td>\n",
       "      <td>6.076546</td>\n",
       "      <td>15.134328</td>\n",
       "      <td>0.011200</td>\n",
       "      <td>0.001900</td>\n",
       "    </tr>\n",
       "    <tr>\n",
       "      <th>std</th>\n",
       "      <td>0.0</td>\n",
       "      <td>0.227007</td>\n",
       "      <td>9.025692</td>\n",
       "      <td>2.096904</td>\n",
       "      <td>441.598739</td>\n",
       "      <td>458.489922</td>\n",
       "      <td>1142.067143</td>\n",
       "      <td>60.158125</td>\n",
       "      <td>57.655970</td>\n",
       "      <td>25.383494</td>\n",
       "      <td>23.934218</td>\n",
       "      <td>458.640531</td>\n",
       "      <td>4.085732</td>\n",
       "      <td>7.046056</td>\n",
       "      <td>0.105238</td>\n",
       "      <td>0.043549</td>\n",
       "    </tr>\n",
       "    <tr>\n",
       "      <th>min</th>\n",
       "      <td>2011.0</td>\n",
       "      <td>1.000000</td>\n",
       "      <td>1.000000</td>\n",
       "      <td>1.000000</td>\n",
       "      <td>1.000000</td>\n",
       "      <td>1.000000</td>\n",
       "      <td>1.000000</td>\n",
       "      <td>35.000000</td>\n",
       "      <td>23.000000</td>\n",
       "      <td>-49.000000</td>\n",
       "      <td>-18.000000</td>\n",
       "      <td>127.000000</td>\n",
       "      <td>1.000000</td>\n",
       "      <td>4.000000</td>\n",
       "      <td>0.000000</td>\n",
       "      <td>0.000000</td>\n",
       "    </tr>\n",
       "    <tr>\n",
       "      <th>25%</th>\n",
       "      <td>2011.0</td>\n",
       "      <td>1.000000</td>\n",
       "      <td>8.000000</td>\n",
       "      <td>2.000000</td>\n",
       "      <td>1026.000000</td>\n",
       "      <td>1224.250000</td>\n",
       "      <td>582.000000</td>\n",
       "      <td>74.000000</td>\n",
       "      <td>54.000000</td>\n",
       "      <td>-8.000000</td>\n",
       "      <td>-3.000000</td>\n",
       "      <td>351.000000</td>\n",
       "      <td>4.000000</td>\n",
       "      <td>10.000000</td>\n",
       "      <td>0.000000</td>\n",
       "      <td>0.000000</td>\n",
       "    </tr>\n",
       "    <tr>\n",
       "      <th>50%</th>\n",
       "      <td>2011.0</td>\n",
       "      <td>1.000000</td>\n",
       "      <td>17.000000</td>\n",
       "      <td>4.000000</td>\n",
       "      <td>1416.000000</td>\n",
       "      <td>1620.000000</td>\n",
       "      <td>1644.000000</td>\n",
       "      <td>123.000000</td>\n",
       "      <td>102.000000</td>\n",
       "      <td>0.000000</td>\n",
       "      <td>1.000000</td>\n",
       "      <td>787.000000</td>\n",
       "      <td>5.000000</td>\n",
       "      <td>14.000000</td>\n",
       "      <td>0.000000</td>\n",
       "      <td>0.000000</td>\n",
       "    </tr>\n",
       "    <tr>\n",
       "      <th>75%</th>\n",
       "      <td>2011.0</td>\n",
       "      <td>1.000000</td>\n",
       "      <td>25.000000</td>\n",
       "      <td>6.000000</td>\n",
       "      <td>1801.000000</td>\n",
       "      <td>1955.000000</td>\n",
       "      <td>2536.000000</td>\n",
       "      <td>162.000000</td>\n",
       "      <td>138.000000</td>\n",
       "      <td>11.000000</td>\n",
       "      <td>10.000000</td>\n",
       "      <td>1034.000000</td>\n",
       "      <td>7.000000</td>\n",
       "      <td>18.000000</td>\n",
       "      <td>0.000000</td>\n",
       "      <td>0.000000</td>\n",
       "    </tr>\n",
       "    <tr>\n",
       "      <th>max</th>\n",
       "      <td>2011.0</td>\n",
       "      <td>2.000000</td>\n",
       "      <td>31.000000</td>\n",
       "      <td>7.000000</td>\n",
       "      <td>2335.000000</td>\n",
       "      <td>2400.000000</td>\n",
       "      <td>7037.000000</td>\n",
       "      <td>539.000000</td>\n",
       "      <td>499.000000</td>\n",
       "      <td>775.000000</td>\n",
       "      <td>780.000000</td>\n",
       "      <td>3904.000000</td>\n",
       "      <td>140.000000</td>\n",
       "      <td>78.000000</td>\n",
       "      <td>1.000000</td>\n",
       "      <td>1.000000</td>\n",
       "    </tr>\n",
       "  </tbody>\n",
       "</table>\n",
       "</div>"
      ],
      "text/plain": [
       "          Year         Month    DayofMonth     DayOfWeek       DepTime  \\\n",
       "count  20000.0  20000.000000  20000.000000  20000.000000  19785.000000   \n",
       "mean    2011.0      1.054500     16.319000      4.020300   1396.328228   \n",
       "std        0.0      0.227007      9.025692      2.096904    441.598739   \n",
       "min     2011.0      1.000000      1.000000      1.000000      1.000000   \n",
       "25%     2011.0      1.000000      8.000000      2.000000   1026.000000   \n",
       "50%     2011.0      1.000000     17.000000      4.000000   1416.000000   \n",
       "75%     2011.0      1.000000     25.000000      6.000000   1801.000000   \n",
       "max     2011.0      2.000000     31.000000      7.000000   2335.000000   \n",
       "\n",
       "            ArrTime     FlightNum  ActualElapsedTime       AirTime  \\\n",
       "count  19766.000000  20000.000000       19738.000000  19738.000000   \n",
       "mean    1586.669382   1626.416900         126.795319    105.584355   \n",
       "std      458.489922   1142.067143          60.158125     57.655970   \n",
       "min        1.000000      1.000000          35.000000     23.000000   \n",
       "25%     1224.250000    582.000000          74.000000     54.000000   \n",
       "50%     1620.000000   1644.000000         123.000000    102.000000   \n",
       "75%     1955.000000   2536.000000         162.000000    138.000000   \n",
       "max     2400.000000   7037.000000         539.000000    499.000000   \n",
       "\n",
       "           ArrDelay      DepDelay      Distance        TaxiIn       TaxiOut  \\\n",
       "count  19738.000000  19785.000000  20000.000000  19766.000000  19780.000000   \n",
       "mean       5.205340      8.297700    772.899550      6.076546     15.134328   \n",
       "std       25.383494     23.934218    458.640531      4.085732      7.046056   \n",
       "min      -49.000000    -18.000000    127.000000      1.000000      4.000000   \n",
       "25%       -8.000000     -3.000000    351.000000      4.000000     10.000000   \n",
       "50%        0.000000      1.000000    787.000000      5.000000     14.000000   \n",
       "75%       11.000000     10.000000   1034.000000      7.000000     18.000000   \n",
       "max      775.000000    780.000000   3904.000000    140.000000     78.000000   \n",
       "\n",
       "          Cancelled      Diverted  \n",
       "count  20000.000000  20000.000000  \n",
       "mean       0.011200      0.001900  \n",
       "std        0.105238      0.043549  \n",
       "min        0.000000      0.000000  \n",
       "25%        0.000000      0.000000  \n",
       "50%        0.000000      0.000000  \n",
       "75%        0.000000      0.000000  \n",
       "max        1.000000      1.000000  "
      ]
     },
     "execution_count": 4,
     "metadata": {},
     "output_type": "execute_result"
    }
   ],
   "source": [
    "planes.describe() # descriptive stats about planes."
   ]
  },
  {
   "cell_type": "markdown",
   "metadata": {},
   "source": [
    "### New Columns Created\n",
    "I created three new columns in the dataset:\n",
    "    1. TotalDelay - the total time (in minutes) that a flight was delayed. This column is created by adding together the arrival delay and the departure delay.\n",
    "    2. Delayed - a boolean category that shows whether a flight was delayed. This column is created by checking whether TotalDelay is greater than 0 (it is possible to have a delay less than zero). \n",
    "    3. Early - a boolean category that shows whether a flight was early. This column is created by checking whether the TotalDelay is less than 0, ie. a negative delay means that a flight was early.\n",
    "I made these changes to make it easier for me to do analysis on the planes data to be able to answer my research questions about delayed flights and early flights for Continental Airlines."
   ]
  },
  {
   "cell_type": "code",
   "execution_count": 5,
   "metadata": {},
   "outputs": [],
   "source": [
    "planes['TotalDelay'] = planes['ArrDelay'] + planes['DepDelay'] # create TotalDelay column"
   ]
  },
  {
   "cell_type": "code",
   "execution_count": 6,
   "metadata": {},
   "outputs": [],
   "source": [
    "planes['Delayed'] = planes['TotalDelay'] > 0 # create Delayed column"
   ]
  },
  {
   "cell_type": "code",
   "execution_count": 7,
   "metadata": {},
   "outputs": [],
   "source": [
    "planes['Early'] = planes['TotalDelay'] < 0 # create Early column"
   ]
  },
  {
   "cell_type": "code",
   "execution_count": 8,
   "metadata": {},
   "outputs": [
    {
     "data": {
      "text/html": [
       "<div>\n",
       "<style scoped>\n",
       "    .dataframe tbody tr th:only-of-type {\n",
       "        vertical-align: middle;\n",
       "    }\n",
       "\n",
       "    .dataframe tbody tr th {\n",
       "        vertical-align: top;\n",
       "    }\n",
       "\n",
       "    .dataframe thead th {\n",
       "        text-align: right;\n",
       "    }\n",
       "</style>\n",
       "<table border=\"1\" class=\"dataframe\">\n",
       "  <thead>\n",
       "    <tr style=\"text-align: right;\">\n",
       "      <th></th>\n",
       "      <th>Year</th>\n",
       "      <th>Month</th>\n",
       "      <th>DayofMonth</th>\n",
       "      <th>DayOfWeek</th>\n",
       "      <th>DepTime</th>\n",
       "      <th>ArrTime</th>\n",
       "      <th>FlightNum</th>\n",
       "      <th>ActualElapsedTime</th>\n",
       "      <th>AirTime</th>\n",
       "      <th>ArrDelay</th>\n",
       "      <th>DepDelay</th>\n",
       "      <th>Distance</th>\n",
       "      <th>TaxiIn</th>\n",
       "      <th>TaxiOut</th>\n",
       "      <th>Cancelled</th>\n",
       "      <th>Diverted</th>\n",
       "      <th>TotalDelay</th>\n",
       "    </tr>\n",
       "  </thead>\n",
       "  <tbody>\n",
       "    <tr>\n",
       "      <th>count</th>\n",
       "      <td>694.0</td>\n",
       "      <td>694.000000</td>\n",
       "      <td>694.000000</td>\n",
       "      <td>694.000000</td>\n",
       "      <td>479.000000</td>\n",
       "      <td>460.000000</td>\n",
       "      <td>694.000000</td>\n",
       "      <td>432.000000</td>\n",
       "      <td>432.000000</td>\n",
       "      <td>432.000000</td>\n",
       "      <td>479.000000</td>\n",
       "      <td>694.000000</td>\n",
       "      <td>460.000000</td>\n",
       "      <td>474.000000</td>\n",
       "      <td>694.000000</td>\n",
       "      <td>694.000000</td>\n",
       "      <td>432.0</td>\n",
       "    </tr>\n",
       "    <tr>\n",
       "      <th>mean</th>\n",
       "      <td>2011.0</td>\n",
       "      <td>1.050432</td>\n",
       "      <td>16.001441</td>\n",
       "      <td>3.602305</td>\n",
       "      <td>1360.311065</td>\n",
       "      <td>1564.686957</td>\n",
       "      <td>1605.551873</td>\n",
       "      <td>122.129630</td>\n",
       "      <td>100.495370</td>\n",
       "      <td>-0.502315</td>\n",
       "      <td>2.356994</td>\n",
       "      <td>750.917867</td>\n",
       "      <td>6.182609</td>\n",
       "      <td>15.413502</td>\n",
       "      <td>0.322767</td>\n",
       "      <td>0.054755</td>\n",
       "      <td>0.0</td>\n",
       "    </tr>\n",
       "    <tr>\n",
       "      <th>std</th>\n",
       "      <td>0.0</td>\n",
       "      <td>0.218993</td>\n",
       "      <td>8.895659</td>\n",
       "      <td>2.122591</td>\n",
       "      <td>422.311181</td>\n",
       "      <td>433.375943</td>\n",
       "      <td>1262.603901</td>\n",
       "      <td>52.690726</td>\n",
       "      <td>50.226679</td>\n",
       "      <td>3.407375</td>\n",
       "      <td>15.173057</td>\n",
       "      <td>446.514060</td>\n",
       "      <td>3.581805</td>\n",
       "      <td>6.069881</td>\n",
       "      <td>0.467871</td>\n",
       "      <td>0.227666</td>\n",
       "      <td>0.0</td>\n",
       "    </tr>\n",
       "    <tr>\n",
       "      <th>min</th>\n",
       "      <td>2011.0</td>\n",
       "      <td>1.000000</td>\n",
       "      <td>1.000000</td>\n",
       "      <td>1.000000</td>\n",
       "      <td>553.000000</td>\n",
       "      <td>12.000000</td>\n",
       "      <td>1.000000</td>\n",
       "      <td>39.000000</td>\n",
       "      <td>28.000000</td>\n",
       "      <td>-14.000000</td>\n",
       "      <td>-10.000000</td>\n",
       "      <td>127.000000</td>\n",
       "      <td>1.000000</td>\n",
       "      <td>5.000000</td>\n",
       "      <td>0.000000</td>\n",
       "      <td>0.000000</td>\n",
       "      <td>0.0</td>\n",
       "    </tr>\n",
       "    <tr>\n",
       "      <th>25%</th>\n",
       "      <td>2011.0</td>\n",
       "      <td>1.000000</td>\n",
       "      <td>10.000000</td>\n",
       "      <td>2.000000</td>\n",
       "      <td>1014.000000</td>\n",
       "      <td>1227.250000</td>\n",
       "      <td>482.000000</td>\n",
       "      <td>75.000000</td>\n",
       "      <td>54.000000</td>\n",
       "      <td>-2.000000</td>\n",
       "      <td>-1.000000</td>\n",
       "      <td>359.000000</td>\n",
       "      <td>4.000000</td>\n",
       "      <td>11.000000</td>\n",
       "      <td>0.000000</td>\n",
       "      <td>0.000000</td>\n",
       "      <td>0.0</td>\n",
       "    </tr>\n",
       "    <tr>\n",
       "      <th>50%</th>\n",
       "      <td>2011.0</td>\n",
       "      <td>1.000000</td>\n",
       "      <td>15.000000</td>\n",
       "      <td>3.000000</td>\n",
       "      <td>1330.000000</td>\n",
       "      <td>1608.000000</td>\n",
       "      <td>1603.000000</td>\n",
       "      <td>121.500000</td>\n",
       "      <td>100.000000</td>\n",
       "      <td>0.000000</td>\n",
       "      <td>0.000000</td>\n",
       "      <td>696.000000</td>\n",
       "      <td>5.000000</td>\n",
       "      <td>15.000000</td>\n",
       "      <td>0.000000</td>\n",
       "      <td>0.000000</td>\n",
       "      <td>0.0</td>\n",
       "    </tr>\n",
       "    <tr>\n",
       "      <th>75%</th>\n",
       "      <td>2011.0</td>\n",
       "      <td>1.000000</td>\n",
       "      <td>24.000000</td>\n",
       "      <td>6.000000</td>\n",
       "      <td>1731.000000</td>\n",
       "      <td>1922.250000</td>\n",
       "      <td>2559.000000</td>\n",
       "      <td>156.250000</td>\n",
       "      <td>132.250000</td>\n",
       "      <td>1.000000</td>\n",
       "      <td>2.000000</td>\n",
       "      <td>1009.000000</td>\n",
       "      <td>7.000000</td>\n",
       "      <td>19.000000</td>\n",
       "      <td>1.000000</td>\n",
       "      <td>0.000000</td>\n",
       "      <td>0.0</td>\n",
       "    </tr>\n",
       "    <tr>\n",
       "      <th>max</th>\n",
       "      <td>2011.0</td>\n",
       "      <td>2.000000</td>\n",
       "      <td>31.000000</td>\n",
       "      <td>7.000000</td>\n",
       "      <td>2306.000000</td>\n",
       "      <td>2357.000000</td>\n",
       "      <td>7037.000000</td>\n",
       "      <td>278.000000</td>\n",
       "      <td>261.000000</td>\n",
       "      <td>10.000000</td>\n",
       "      <td>198.000000</td>\n",
       "      <td>3904.000000</td>\n",
       "      <td>32.000000</td>\n",
       "      <td>42.000000</td>\n",
       "      <td>1.000000</td>\n",
       "      <td>1.000000</td>\n",
       "      <td>0.0</td>\n",
       "    </tr>\n",
       "  </tbody>\n",
       "</table>\n",
       "</div>"
      ],
      "text/plain": [
       "         Year       Month  DayofMonth   DayOfWeek      DepTime      ArrTime  \\\n",
       "count   694.0  694.000000  694.000000  694.000000   479.000000   460.000000   \n",
       "mean   2011.0    1.050432   16.001441    3.602305  1360.311065  1564.686957   \n",
       "std       0.0    0.218993    8.895659    2.122591   422.311181   433.375943   \n",
       "min    2011.0    1.000000    1.000000    1.000000   553.000000    12.000000   \n",
       "25%    2011.0    1.000000   10.000000    2.000000  1014.000000  1227.250000   \n",
       "50%    2011.0    1.000000   15.000000    3.000000  1330.000000  1608.000000   \n",
       "75%    2011.0    1.000000   24.000000    6.000000  1731.000000  1922.250000   \n",
       "max    2011.0    2.000000   31.000000    7.000000  2306.000000  2357.000000   \n",
       "\n",
       "         FlightNum  ActualElapsedTime     AirTime    ArrDelay    DepDelay  \\\n",
       "count   694.000000         432.000000  432.000000  432.000000  479.000000   \n",
       "mean   1605.551873         122.129630  100.495370   -0.502315    2.356994   \n",
       "std    1262.603901          52.690726   50.226679    3.407375   15.173057   \n",
       "min       1.000000          39.000000   28.000000  -14.000000  -10.000000   \n",
       "25%     482.000000          75.000000   54.000000   -2.000000   -1.000000   \n",
       "50%    1603.000000         121.500000  100.000000    0.000000    0.000000   \n",
       "75%    2559.000000         156.250000  132.250000    1.000000    2.000000   \n",
       "max    7037.000000         278.000000  261.000000   10.000000  198.000000   \n",
       "\n",
       "          Distance      TaxiIn     TaxiOut   Cancelled    Diverted  TotalDelay  \n",
       "count   694.000000  460.000000  474.000000  694.000000  694.000000       432.0  \n",
       "mean    750.917867    6.182609   15.413502    0.322767    0.054755         0.0  \n",
       "std     446.514060    3.581805    6.069881    0.467871    0.227666         0.0  \n",
       "min     127.000000    1.000000    5.000000    0.000000    0.000000         0.0  \n",
       "25%     359.000000    4.000000   11.000000    0.000000    0.000000         0.0  \n",
       "50%     696.000000    5.000000   15.000000    0.000000    0.000000         0.0  \n",
       "75%    1009.000000    7.000000   19.000000    1.000000    0.000000         0.0  \n",
       "max    3904.000000   32.000000   42.000000    1.000000    1.000000         0.0  "
      ]
     },
     "execution_count": 8,
     "metadata": {},
     "output_type": "execute_result"
    }
   ],
   "source": [
    "#descriptive statistics on flights that are exactly on time (neither early nor delayed)\n",
    "planes[(planes['Early'] == False) & (planes['Delayed'] == False)].describe() "
   ]
  },
  {
   "cell_type": "markdown",
   "metadata": {},
   "source": [
    "##  Cancellations\n",
    "In this section, I examine my research questions about cancellations for Continental Airlines. <br>\n",
    "To answer these questions, I created different variables that grouped data about cancelled flights into different categories. <br>\n",
    "### Question 1 - How Do Many Cancellations Did Continental Have?\n",
    "For the first question, I created a variable co_cancelled by filtering the planes data such that the carrier was CO, and the Cancelled variable was 1 (ie. True). <br>\n",
    "I then count the number of times that one of the columns (Year) appears in the co_cancelled variable, which is the number of times that Continental Flights were cancelled. <br>\n",
    "The number of Continental cancelled flights is 53. "
   ]
  },
  {
   "cell_type": "code",
   "execution_count": 9,
   "metadata": {},
   "outputs": [
    {
     "data": {
      "text/plain": [
       "53"
      ]
     },
     "execution_count": 9,
     "metadata": {},
     "output_type": "execute_result"
    }
   ],
   "source": [
    "# all rows of planes data that are cancelled flights and carrier CO\n",
    "co_cancelled = planes[(planes['Cancelled'] == 1) & (planes['UniqueCarrier'] == 'CO')] \n",
    "co_cancelled['Year'].count() # count of cancelled CO flights"
   ]
  },
  {
   "cell_type": "markdown",
   "metadata": {},
   "source": [
    "### Question 2 - How Does Continental Compare to Other Airlines in Terms of Cancellations\n",
    "To answer this question, I filtered the data on cancellations, and grouped the data by UniqueCarrier. <bR>\n",
    "I set the variable planes_cancelled to hold the size of these groups. <br>\n",
    "So the planes_cancelled variable holds the name of each carrier and the number of cancelled flights they have.<br>\n",
    "I presented a bar graph which shows that Contintental had the most cancelled flights, descriptive statistics about the data which show that Continental is the maximum value, and about 35 more cancelled flights than the average, and then the top 5 airlines by most cancelled flights which shows that Continental is number 1."
   ]
  },
  {
   "cell_type": "code",
   "execution_count": 10,
   "metadata": {
    "scrolled": true
   },
   "outputs": [
    {
     "data": {
      "text/plain": [
       "<matplotlib.axes._subplots.AxesSubplot at 0x114952be0>"
      ]
     },
     "execution_count": 10,
     "metadata": {},
     "output_type": "execute_result"
    }
   ],
   "source": [
    "# all rows of planes data where flight is cancelled grouped by UniqueCarrier.\n",
    "# the size method is used to get a count for each UniqueCarrier.\n",
    "planes_cancelled = planes[planes['Cancelled'] == 1].groupby('UniqueCarrier').size()\n",
    "planes_cancelled.plot.bar() #plot a bar chart of the data."
   ]
  },
  {
   "cell_type": "code",
   "execution_count": 11,
   "metadata": {},
   "outputs": [
    {
     "data": {
      "text/plain": [
       "count    12.000000\n",
       "mean     18.666667\n",
       "std      17.395576\n",
       "min       3.000000\n",
       "25%       6.750000\n",
       "50%      10.500000\n",
       "75%      24.250000\n",
       "max      53.000000\n",
       "dtype: float64"
      ]
     },
     "execution_count": 11,
     "metadata": {},
     "output_type": "execute_result"
    }
   ],
   "source": [
    "# descriptive statistics about the planes_cancelled data.\n",
    "planes_cancelled.describe()"
   ]
  },
  {
   "cell_type": "code",
   "execution_count": 12,
   "metadata": {},
   "outputs": [
    {
     "data": {
      "text/plain": [
       "UniqueCarrier\n",
       "CO    53\n",
       "XE    48\n",
       "WN    37\n",
       "DL    20\n",
       "AA    14\n",
       "dtype: int64"
      ]
     },
     "execution_count": 12,
     "metadata": {},
     "output_type": "execute_result"
    }
   ],
   "source": [
    "# The top 5 carriers by planes cancelled.\n",
    "planes_cancelled.nlargest(5)"
   ]
  },
  {
   "cell_type": "markdown",
   "metadata": {},
   "source": [
    "While it may have appeared from the previous analysis that Continental was the worst offender at cancelled flights, because they had the most cancelled flights, I wanted to check the percentage of cancelled flights that each airline had, as it was possible that Continental had a lot more flights than other airlines. <br>\n",
    "To do that, I grouped all the data in planes by UniqueCarrier and got the size of those groups. <br>\n",
    "Then, I divided the planes_cancelled by the planes_copy and multiplied by 100, to get the percentage of flights cancelled for each carrier. <br>\n",
    "I then made a horizontal bar chart of this data, and you can see the Continental (CO) is amongst the lowest percentage of cancelled flights. <bR>\n",
    "I also showed the top 5 and bottom 5 of flight carriers percentage of cancelled flights, and found that Continental had the second lowest percentage of cancelled flights. <br>\n",
    "So my hypothesis was true; CO had the highest number of cancellations, because they had a lot of flights in the database. <br>"
   ]
  },
  {
   "cell_type": "code",
   "execution_count": 13,
   "metadata": {},
   "outputs": [],
   "source": [
    "# all rows of planes data grouped by UniqueCarrier.\n",
    "# The size function is used to get the number of flights for each UniqueCarier.\n",
    "planes_copy = planes.groupby('UniqueCarrier').size()"
   ]
  },
  {
   "cell_type": "code",
   "execution_count": 14,
   "metadata": {},
   "outputs": [],
   "source": [
    "# The percentage of planes cancelled is planes_cancelled divided by planes_copy\n",
    "# and multiplied by 100. \n",
    "planes_percent_cancelled = (planes_cancelled/planes_copy) * 100"
   ]
  },
  {
   "cell_type": "code",
   "execution_count": 15,
   "metadata": {
    "scrolled": true
   },
   "outputs": [
    {
     "data": {
      "text/plain": [
       "<matplotlib.axes._subplots.AxesSubplot at 0x1166601d0>"
      ]
     },
     "execution_count": 15,
     "metadata": {},
     "output_type": "execute_result"
    },
    {
     "data": {
      "image/png": "[encoded data removed]",
      "text/plain": [
       "<Figure size 432x288 with 1 Axes>"
      ]
     },
     "metadata": {
      "needs_background": "light"
     },
     "output_type": "display_data"
    }
   ],
   "source": [
    "# a horizontal bar plot of the planes_percent_cancelled.\n",
    "planes_percent_cancelled.plot.barh()"
   ]
  },
  {
   "cell_type": "code",
   "execution_count": 16,
   "metadata": {},
   "outputs": [
    {
     "data": {
      "text/plain": [
       "UniqueCarrier\n",
       "EV    8.490566\n",
       "DL    7.751938\n",
       "FL    7.638889\n",
       "B6    6.000000\n",
       "US    3.246753\n",
       "dtype: float64"
      ]
     },
     "execution_count": 16,
     "metadata": {},
     "output_type": "execute_result"
    }
   ],
   "source": [
    "# The top 5 carriers by planes_cancelled percentage.\n",
    "planes_percent_cancelled.nlargest(5)"
   ]
  },
  {
   "cell_type": "code",
   "execution_count": 17,
   "metadata": {},
   "outputs": [
    {
     "data": {
      "text/plain": [
       "UniqueCarrier\n",
       "XE    0.708487\n",
       "CO    0.775988\n",
       "WN    0.997843\n",
       "OO    1.001431\n",
       "MQ    1.812689\n",
       "dtype: float64"
      ]
     },
     "execution_count": 17,
     "metadata": {},
     "output_type": "execute_result"
    }
   ],
   "source": [
    "# The bottom 5 carriers by planes_cancelled percentage.\n",
    "planes_percent_cancelled.nsmallest(5)"
   ]
  },
  {
   "cell_type": "markdown",
   "metadata": {},
   "source": [
    "### Question 3 - Where are Most of Continental's Cancelled Flights To?\n",
    "To answer this question, I grouped all of CO's cancelled flights by Dest (destination), and again used the size function to get the counts for each category. <br>\n",
    "I then found the top 5 destinations to which Continental had cancelled flights, and found that numbers 1 and 2 were Newark Airport (EWR) and Laguardia Airport (LGA). <br>\n",
    "By percentage though, most of Continental's cancelled flights are to Hartsfield_Jackson Airport (ATL) and Laguardia again, with Newark in third. "
   ]
  },
  {
   "cell_type": "code",
   "execution_count": 18,
   "metadata": {},
   "outputs": [],
   "source": [
    "# all rows of planes data where carrier is CO and \n",
    "# flight was cancelled grouped by Dest.\n",
    "# The size function is used to get the number of flights for each Dest.\n",
    "co_cancelled_dest = planes[(planes['UniqueCarrier'] == 'CO') & (planes['Cancelled'] == 1)].groupby(\"Dest\").size()"
   ]
  },
  {
   "cell_type": "code",
   "execution_count": 19,
   "metadata": {},
   "outputs": [
    {
     "data": {
      "text/plain": [
       "Dest\n",
       "EWR    13\n",
       "LGA    11\n",
       "DCA     8\n",
       "BOS     5\n",
       "ATL     3\n",
       "dtype: int64"
      ]
     },
     "execution_count": 19,
     "metadata": {},
     "output_type": "execute_result"
    }
   ],
   "source": [
    "# the top 5 Continental cancelled destinations.\n",
    "co_cancelled_dest.nlargest(5)"
   ]
  },
  {
   "cell_type": "code",
   "execution_count": 20,
   "metadata": {},
   "outputs": [],
   "source": [
    "# all CO flights grouped by destination.\n",
    "# size is used to get the count of all flights by destination.\n",
    "co_dest = planes[planes['UniqueCarrier'] == 'CO'].groupby(\"Dest\").size()"
   ]
  },
  {
   "cell_type": "code",
   "execution_count": 21,
   "metadata": {},
   "outputs": [
    {
     "data": {
      "text/plain": [
       "Dest\n",
       "ATL    4.761905\n",
       "LGA    4.347826\n",
       "EWR    3.641457\n",
       "TUL    3.448276\n",
       "CLT    3.225806\n",
       "dtype: float64"
      ]
     },
     "execution_count": 21,
     "metadata": {},
     "output_type": "execute_result"
    }
   ],
   "source": [
    "# the percentage of CO cancelled flights by destination.\n",
    "co_cancelled_dest_pct = (co_cancelled_dest/co_dest) * 100\n",
    "# the top 5 highest CO destination cancellation percentages.\n",
    "co_cancelled_dest_pct.nlargest(5)"
   ]
  },
  {
   "cell_type": "markdown",
   "metadata": {},
   "source": [
    "### Question 4 - Which Day Has the Most Cancelled Continental Flights?\n",
    "To answer this question, I grouped all of CO's cancelled flights by DayofWeek, and again used the size function to get the counts for each category. <br>\n",
    "I then found the top 2 days that Continental had flights cancelled, which were Wednesday with 27 flights and Tuesday with 9 flights. <br>\n",
    "This time, those two days are also the top 2 days of the week that Continental had cancelled flights. "
   ]
  },
  {
   "cell_type": "code",
   "execution_count": 22,
   "metadata": {},
   "outputs": [],
   "source": [
    "# All CO cancelled flights grouped by DayofWeek.\n",
    "# The size function is used to get the number of flights for each DayofWeek.\n",
    "co_cancelled_day = planes[(planes['UniqueCarrier'] == 'CO') & (planes['Cancelled'] == 1)].groupby(\"DayOfWeek\").size()"
   ]
  },
  {
   "cell_type": "code",
   "execution_count": 23,
   "metadata": {},
   "outputs": [
    {
     "data": {
      "text/plain": [
       "DayOfWeek\n",
       "3    27\n",
       "2     9\n",
       "dtype: int64"
      ]
     },
     "execution_count": 23,
     "metadata": {},
     "output_type": "execute_result"
    }
   ],
   "source": [
    "# The top 2 days of week that CO had cancelled flights.\n",
    "co_cancelled_day.nlargest(2)"
   ]
  },
  {
   "cell_type": "code",
   "execution_count": 24,
   "metadata": {},
   "outputs": [
    {
     "data": {
      "text/plain": [
       "DayOfWeek\n",
       "3    3.683492\n",
       "2    1.250000\n",
       "dtype: float64"
      ]
     },
     "execution_count": 24,
     "metadata": {},
     "output_type": "execute_result"
    }
   ],
   "source": [
    "# All CO flights grouped by day.\n",
    "# Size is used to get the number of flights.\n",
    "co_day = planes[planes['UniqueCarrier'] == 'CO'].groupby(\"DayOfWeek\").size()\n",
    "# The percentage of flights cancelled per day.\n",
    "co_cancelled_day_pct = (co_cancelled_day/co_day) * 100\n",
    "# The top 2 days flights cancelled percentage.\n",
    "co_cancelled_day_pct.nlargest(2)"
   ]
  },
  {
   "cell_type": "markdown",
   "metadata": {},
   "source": [
    "### Question 5 - Why Are Most of Continental's Flights Cancelled?\n",
    "To answer this question, I grouped all of CO's cancelled flights by CancellationCode (cancellation reason), and again used the size function to get the counts for each category. <br>\n",
    "I then found the top 2 cancellation reasons, and that the number one reason, by far, was weather with 48 cancellations."
   ]
  },
  {
   "cell_type": "code",
   "execution_count": 25,
   "metadata": {},
   "outputs": [],
   "source": [
    "# All CO cancelled flights grouped by cancellation code.\n",
    "# The size function is used to get the number of flights.\n",
    "co_cancelled_reason = planes[(planes['UniqueCarrier'] == 'CO') & (planes['Cancelled'] == 1)].groupby(\"CancellationCode\").size()"
   ]
  },
  {
   "cell_type": "code",
   "execution_count": 26,
   "metadata": {},
   "outputs": [
    {
     "data": {
      "text/plain": [
       "CancellationCode\n",
       "B    48\n",
       "A     5\n",
       "dtype: int64"
      ]
     },
     "execution_count": 26,
     "metadata": {},
     "output_type": "execute_result"
    }
   ],
   "source": [
    "# The top 4 cancelled flight reasons, (there are only two though).\n",
    "co_cancelled_reason.nlargest(4)"
   ]
  },
  {
   "cell_type": "markdown",
   "metadata": {},
   "source": [
    "##  Delays\n",
    "In this section, I examine my research questions about delays for Continental Airlines. <br>\n",
    "To answer these questions, I created different variables that grouped data about cancelled flights into different categories. <br>\n",
    "### Question 1 - How Do Many Delays Did Continental Have?\n",
    "For the first question, I created a variable co_delayed by filtering the planes data such that the carrier was CO, and the Delayed variable was True. <br>\n",
    "I then count the number of times that one of the columns (Year) appears in the co_delayed variable, which is the number of times that Continental Flights were cancelled. <br>\n",
    "The number of Continental delayed flights is 3703. "
   ]
  },
  {
   "cell_type": "code",
   "execution_count": 27,
   "metadata": {},
   "outputs": [
    {
     "data": {
      "text/plain": [
       "3703"
      ]
     },
     "execution_count": 27,
     "metadata": {},
     "output_type": "execute_result"
    }
   ],
   "source": [
    "# all rows of planes data that are delayed flights and carrier CO\n",
    "co_delayed = planes[(planes['UniqueCarrier'] == 'CO') & (planes['Delayed'] == True)]\n",
    "co_delayed['Year'].count() # the number of CO delayed flights."
   ]
  },
  {
   "cell_type": "markdown",
   "metadata": {},
   "source": [
    "### Question 2 - How Does Continental Compare to Other Airlines in Terms of Delays\n",
    "To answer this question, I filtered the data on Delayed, and grouped the data by UniqueCarrier. <bR>\n",
    "I set the variable planes_delayed to hold the size of these groups. <br>\n",
    "So the planes_cancelled variable holds the name of each carrier and the number of delayed flights they have.<br>\n",
    "I presented a bar graph which shows that Contintental had the most cancelled flights, and the top 5 airlines by most cancelled flights which shows that Continental is number 1 by about 900 flights."
   ]
  },
  {
   "cell_type": "code",
   "execution_count": 28,
   "metadata": {},
   "outputs": [],
   "source": [
    "# all delayed flights grouped by UniqueCarrier\n",
    "# size function is used to get the count for each UniqueCarrier\n",
    "planes_delayed = planes[planes['Delayed'] == True].groupby('UniqueCarrier').size()"
   ]
  },
  {
   "cell_type": "code",
   "execution_count": 29,
   "metadata": {},
   "outputs": [
    {
     "data": {
      "text/plain": [
       "<matplotlib.axes._subplots.AxesSubplot at 0x11679b7f0>"
      ]
     },
     "execution_count": 29,
     "metadata": {},
     "output_type": "execute_result"
    },
    {
     "data": {
      "image/png": "[encoded data removed]",
      "text/plain": [
       "<Figure size 432x288 with 1 Axes>"
      ]
     },
     "metadata": {
      "needs_background": "light"
     },
     "output_type": "display_data"
    }
   ],
   "source": [
    "# bar plot of planes_delayed\n",
    "planes_delayed.plot.bar()"
   ]
  },
  {
   "cell_type": "code",
   "execution_count": 30,
   "metadata": {},
   "outputs": [
    {
     "data": {
      "text/plain": [
       "UniqueCarrier\n",
       "CO    3703\n",
       "XE    2827\n",
       "WN    2262\n",
       "OO     352\n",
       "AA     169\n",
       "dtype: int64"
      ]
     },
     "execution_count": 30,
     "metadata": {},
     "output_type": "execute_result"
    }
   ],
   "source": [
    "# Top 5 planes delayed by carrier.\n",
    "planes_delayed.nlargest(5)"
   ]
  },
  {
   "cell_type": "markdown",
   "metadata": {},
   "source": [
    "While it may have appeared from the previous analysis that Continental was the worst offender at delayed flights, because they had the most delayed flights, I wanted to check the percentage of delayed flights that each airline had, as it was possible that Continental had a lot more flights than other airlines. <br>\n",
    "To do that, I grouped all the data in planes by UniqueCarrier and got the size of those groups. <br>\n",
    "Then, I divided the planes_delayed by the planes_copy and multiplied by 100, to get the percentage of flights delayed for each carrier. <br>\n",
    "I then made a horizontal bar chart of this data, and you can see the Continental (CO) is still amongst the top percentages of delayed flights. <br>\n",
    "I also showed the top 5 flight carriers by percentage of cancelled flights, and found that Continental had the third highest percentage of cancelled flights. <br>\n",
    "So in this case, my hypothesis was false, and Continental is still amongst the worst offenders at delayed flights. <br>"
   ]
  },
  {
   "cell_type": "code",
   "execution_count": 31,
   "metadata": {},
   "outputs": [],
   "source": [
    "# percentage of planes delayed by carrier\n",
    "planes_delayed_pct=(planes_delayed/planes_copy) * 100"
   ]
  },
  {
   "cell_type": "code",
   "execution_count": 32,
   "metadata": {},
   "outputs": [
    {
     "data": {
      "text/plain": [
       "<matplotlib.axes._subplots.AxesSubplot at 0x116727fd0>"
      ]
     },
     "execution_count": 32,
     "metadata": {},
     "output_type": "execute_result"
    },
    {
     "data": {
      "image/png": "[encoded data removed]",
      "text/plain": [
       "<Figure size 432x288 with 1 Axes>"
      ]
     },
     "metadata": {
      "needs_background": "light"
     },
     "output_type": "display_data"
    }
   ],
   "source": [
    "# horizontal bar chart of percentage of planes delayed by carrier.\n",
    "planes_delayed_pct.plot.barh()"
   ]
  },
  {
   "cell_type": "code",
   "execution_count": 33,
   "metadata": {},
   "outputs": [
    {
     "data": {
      "text/plain": [
       "UniqueCarrier\n",
       "F9    64.516129\n",
       "WN    61.003236\n",
       "CO    54.216691\n",
       "AS    50.847458\n",
       "OO    50.357654\n",
       "dtype: float64"
      ]
     },
     "execution_count": 33,
     "metadata": {},
     "output_type": "execute_result"
    }
   ],
   "source": [
    "# Top 5 percentages of planes delayed by character.\n",
    "planes_delayed_pct.nlargest(5)"
   ]
  },
  {
   "cell_type": "markdown",
   "metadata": {},
   "source": [
    "### Question 3 - Where are Most of Continental's Delayed Flights To?\n",
    "To answer this question, I grouped all of CO's delayed flights by Dest (destination), and again used the size function to get the counts for each category. <br>\n",
    "I then found the top 5 destinations to which Continental had delayed flights, and found that numbers 1 and 2 were Los Angeles Airport (LAX) and Newark Airport (EWR) . <br>\n",
    "By percentage though, most of Continental's delayed flights are to Seattle-Tacoma Airport (SEA) and Minneapolis−Saint Paul Aiport (MSP). <br>\n",
    "So it appears that Continental has a lot of flights to LAX and EWR, which explains why there are so many delayed flights there. "
   ]
  },
  {
   "cell_type": "code",
   "execution_count": 34,
   "metadata": {},
   "outputs": [],
   "source": [
    "# All Delayed Continental Flights grouped by Destination.\n",
    "# Size function is again used to get the count for each group.\n",
    "co_delay_dest = planes[(planes['UniqueCarrier'] == 'CO') & (planes['Delayed'] == True)].groupby('Dest').size()"
   ]
  },
  {
   "cell_type": "code",
   "execution_count": 35,
   "metadata": {},
   "outputs": [
    {
     "data": {
      "text/plain": [
       "Dest\n",
       "LAX    228\n",
       "EWR    219\n",
       "DEN    192\n",
       "ORD    191\n",
       "MSY    178\n",
       "dtype: int64"
      ]
     },
     "execution_count": 35,
     "metadata": {},
     "output_type": "execute_result"
    }
   ],
   "source": [
    "# Top 5 Destinations with Delays for Continental\n",
    "co_delay_dest.nlargest(5)"
   ]
  },
  {
   "cell_type": "code",
   "execution_count": 36,
   "metadata": {},
   "outputs": [],
   "source": [
    "# Percentage of Delayed Continental Flights by Destination\n",
    "co_delay_dest_pct = (co_delay_dest/co_dest) * 100"
   ]
  },
  {
   "cell_type": "code",
   "execution_count": 37,
   "metadata": {},
   "outputs": [
    {
     "data": {
      "text/plain": [
       "Dest\n",
       "SEA    87.640449\n",
       "MSP    82.857143\n",
       "HNL    79.545455\n",
       "SJU    78.378378\n",
       "BHM    75.000000\n",
       "dtype: float64"
      ]
     },
     "execution_count": 37,
     "metadata": {},
     "output_type": "execute_result"
    }
   ],
   "source": [
    "# Top 5 Destinations of Delayed Continental Flights by Percentage.\n",
    "co_delay_dest_pct.nlargest(5)"
   ]
  },
  {
   "cell_type": "markdown",
   "metadata": {},
   "source": [
    "### Question 4 - Which Day Has the Most Delayed Continental Flights?\n",
    "To answer this question, I grouped all of CO's delayed flights by DayofWeek, and again used the size function to get the counts for each category. <br>\n",
    "I then found the top 2 days that Continental had flights delayed, which were Monday with 738 flights and Sunday with 706 flights. <br>\n",
    "This time, those two days are also the top 2 days of the week that Continental had delayed flights but the order is flipped, with Sunday having the largest percentage, and Monday the second largest. "
   ]
  },
  {
   "cell_type": "code",
   "execution_count": 38,
   "metadata": {},
   "outputs": [],
   "source": [
    "# All Continental Delayed Flights grouped by DayofWeek\n",
    "# Size is used to get the count for each day.\n",
    "co_delay_day = planes[(planes['UniqueCarrier'] == 'CO') & (planes['Delayed'] == True)].groupby('DayOfWeek').size()"
   ]
  },
  {
   "cell_type": "code",
   "execution_count": 39,
   "metadata": {},
   "outputs": [
    {
     "data": {
      "text/plain": [
       "DayOfWeek\n",
       "1    738\n",
       "7    706\n",
       "6    613\n",
       "5    511\n",
       "4    469\n",
       "dtype: int64"
      ]
     },
     "execution_count": 39,
     "metadata": {},
     "output_type": "execute_result"
    }
   ],
   "source": [
    "# Top 5 Days of Continental Delayed Flights.\n",
    "co_delay_day.nlargest(5)"
   ]
  },
  {
   "cell_type": "code",
   "execution_count": 40,
   "metadata": {},
   "outputs": [],
   "source": [
    "# Percentage of Continental Flights Delayed Per DAy.\n",
    "co_delay_day_pct = (co_delay_day/co_day) * 100"
   ]
  },
  {
   "cell_type": "code",
   "execution_count": 41,
   "metadata": {},
   "outputs": [
    {
     "data": {
      "text/plain": [
       "DayOfWeek\n",
       "7    59.128978\n",
       "1    58.945687\n",
       "4    56.506024\n",
       "6    56.445672\n",
       "2    51.250000\n",
       "dtype: float64"
      ]
     },
     "execution_count": 41,
     "metadata": {},
     "output_type": "execute_result"
    }
   ],
   "source": [
    "# Top 5 Days of Continental Delayed Flights by Percentage.\n",
    "co_delay_day_pct.nlargest(5)"
   ]
  },
  {
   "cell_type": "markdown",
   "metadata": {},
   "source": [
    "##  Early Arrivals\n",
    "In this section, I examine my research questions about cancellations for Continental Airlines. <br>\n",
    "To answer these questions, I created different variables that grouped data about cancelled flights into different categories. <br>\n",
    "### Question 1 - How Do Many Early Arrivals Do We Have\n",
    "For the first question, I created a variable co_early by filtering the planes data such that the carrier was CO, and the Early variable was True. <br>\n",
    "I then count the number of times that one of the columns (Year) appears in the co_early variable, which is the number of times that Continental Flights were early. <br>\n",
    "The number of Continental early flights is 2910. "
   ]
  },
  {
   "cell_type": "code",
   "execution_count": 42,
   "metadata": {},
   "outputs": [
    {
     "data": {
      "text/plain": [
       "2910"
      ]
     },
     "execution_count": 42,
     "metadata": {},
     "output_type": "execute_result"
    }
   ],
   "source": [
    "# All Continental Flights that were Early.\n",
    "co_early = planes[(planes['UniqueCarrier'] == 'CO') & (planes['Early'] == True)]\n",
    "co_early['Year'].count() # count of early Continental flights."
   ]
  },
  {
   "cell_type": "markdown",
   "metadata": {},
   "source": [
    "### Question 2 - How Does Continental Compare to Other Airlines in Terms of Early Arrivals\n",
    "To answer this question, I filtered the data on Early, and grouped the data by UniqueCarrier. <bR>\n",
    "I set the variable planes_early to hold the size of these groups. <br>\n",
    "So the planes_early variable holds the name of each carrier and the number of delayed flights they have.<br>\n",
    "I presented the top 5 airlines by most cancelled flights which shows that Continental is number 2 by about 800 flights. <br>\n",
    "This indicates that Continental is pretty good at having flights arrive early."
   ]
  },
  {
   "cell_type": "code",
   "execution_count": 43,
   "metadata": {},
   "outputs": [],
   "source": [
    "# All early arriving flights grouped by Unique Carrier.\n",
    "# size is used to get the count for each carrier.\n",
    "planes_early = planes[(planes['Early'] == True)].groupby('UniqueCarrier').size()"
   ]
  },
  {
   "cell_type": "code",
   "execution_count": 44,
   "metadata": {},
   "outputs": [
    {
     "data": {
      "text/plain": [
       "UniqueCarrier\n",
       "XE    3733\n",
       "CO    2910\n",
       "WN    1322\n",
       "AA     328\n",
       "OO     321\n",
       "dtype: int64"
      ]
     },
     "execution_count": 44,
     "metadata": {},
     "output_type": "execute_result"
    }
   ],
   "source": [
    "# The top 5 carriers with early arrivals.\n",
    "planes_early.nlargest(5)"
   ]
  },
  {
   "cell_type": "markdown",
   "metadata": {},
   "source": [
    "While it may have appeared from the previous analysis that Continental was pretty good at having flights arrive early, I wanted to check the percentage of early arriving flights that each airline had, as it was possible that Continental had a lot more flights than other airlines. <br>\n",
    "To do that, I grouped all the data in planes by UniqueCarrier and got the size of those groups. <br>\n",
    "Then, I divided the planes_early by the planes_copy and multiplied by 100, to get the percentage of flights arriving early for each carrier. <br>\n",
    "I then made a bar chart of this data, and you can see the Continental (CO) is now amongst the lowest percentages of early arriving flights. <br>\n",
    "I also showed the bottom 5 flight carriers by percentage of early arriving flights, and found that Continental had the third lowest percentage of early arriving flights. <br>\n",
    "So in this case, my hypothesis was true, and Continental is actually not great at having flights arrive early. <br>"
   ]
  },
  {
   "cell_type": "code",
   "execution_count": 45,
   "metadata": {},
   "outputs": [],
   "source": [
    "# Percentage of planes by Carrier that arrived early\n",
    "planes_early_percent = (planes_early/planes_copy) *100"
   ]
  },
  {
   "cell_type": "code",
   "execution_count": 46,
   "metadata": {
    "scrolled": true
   },
   "outputs": [
    {
     "data": {
      "text/plain": [
       "<matplotlib.axes._subplots.AxesSubplot at 0x116a65b38>"
      ]
     },
     "execution_count": 46,
     "metadata": {},
     "output_type": "execute_result"
    },
    {
     "data": {
      "image/png": "[encoded data removed]",
      "text/plain": [
       "<Figure size 432x288 with 1 Axes>"
      ]
     },
     "metadata": {
      "needs_background": "light"
     },
     "output_type": "display_data"
    }
   ],
   "source": [
    "# A bar graph of early arriving flights by carrier.\n",
    "planes_early_percent.plot.bar()"
   ]
  },
  {
   "cell_type": "code",
   "execution_count": 47,
   "metadata": {},
   "outputs": [
    {
     "data": {
      "text/plain": [
       "UniqueCarrier\n",
       "F9    35.483871\n",
       "WN    35.652643\n",
       "CO    42.606149\n",
       "OO    45.922747\n",
       "AS    47.457627\n",
       "dtype: float64"
      ]
     },
     "execution_count": 47,
     "metadata": {},
     "output_type": "execute_result"
    }
   ],
   "source": [
    "# The bottom 5 carriers by flights early arrival percentage.\n",
    "planes_early_percent.nsmallest(5)"
   ]
  },
  {
   "cell_type": "markdown",
   "metadata": {},
   "source": [
    "### Question 3 - Where are Most of Continental's Early Arriving Flights To?\n",
    "To answer this question, I grouped all of CO's early arriving flights by Dest (destination), and again used the size function to get the counts for each category. <br>\n",
    "I then found the top 5 destinations to which Continental had early arriving flights, and found that numbers 1 and 2 were Louis Armstrong New Orleans Aiport (MSY) and Ronald Reagan Airport (DCA) . <br>\n",
    "By percentage though, most of Continental's early arriving flights are to Charlotte Douglas Airport (CLT) and Albuquerque Aiport (ABQ). <br>\n",
    "So it appears that Continental has a lot of flights to MSY and DCA, which explains why there are so many early flights there. "
   ]
  },
  {
   "cell_type": "code",
   "execution_count": 48,
   "metadata": {},
   "outputs": [],
   "source": [
    "# All Early Arriving Continental Flights grouped by Destination.\n",
    "# Size function is again used to get the count for each group.\n",
    "co_early_dest = planes[(planes['UniqueCarrier'] == 'CO') & (planes['Early'] == True)].groupby('Dest').size()"
   ]
  },
  {
   "cell_type": "code",
   "execution_count": 49,
   "metadata": {},
   "outputs": [
    {
     "data": {
      "text/plain": [
       "Dest\n",
       "MSY    158\n",
       "DCA    138\n",
       "EWR    120\n",
       "CLE    118\n",
       "LGA    118\n",
       "dtype: int64"
      ]
     },
     "execution_count": 49,
     "metadata": {},
     "output_type": "execute_result"
    }
   ],
   "source": [
    "# Top 5 Destinations of Continental Early Arriving Flights.\n",
    "co_early_dest.nlargest(5)"
   ]
  },
  {
   "cell_type": "code",
   "execution_count": 50,
   "metadata": {},
   "outputs": [],
   "source": [
    "# Percentage of Continental Flights that Arrived Early\n",
    "co_early_dest_pct = (co_early_dest/co_dest) * 100"
   ]
  },
  {
   "cell_type": "code",
   "execution_count": 51,
   "metadata": {},
   "outputs": [
    {
     "data": {
      "text/plain": [
       "Dest\n",
       "CLT    87.096774\n",
       "ABQ    74.193548\n",
       "HDN    73.529412\n",
       "ELP    71.428571\n",
       "TUS    66.666667\n",
       "dtype: float64"
      ]
     },
     "execution_count": 51,
     "metadata": {},
     "output_type": "execute_result"
    }
   ],
   "source": [
    "# Top 5 Destinations of Continental Early Arriving Flights by Percentage\n",
    "co_early_dest_pct.nlargest(5)"
   ]
  },
  {
   "cell_type": "markdown",
   "metadata": {},
   "source": [
    "### Question 4 - Which Day Has the Most Early Arriving Continental Flights?\n",
    "To answer this question, I grouped all of CO's early arriving flights by DayofWeek, and again used the size function to get the counts for each category. <br>\n",
    "I then found the top 2 days that Continental had flights arrive early, which were Friday with 476 flights and Monday with 473 flights. <br>\n",
    "The top 2 early arriving flights days by percentage were Wednesday and Friday, which implies that Monday has a lot of flights on that day, as it also had a high number of delayed flights. "
   ]
  },
  {
   "cell_type": "code",
   "execution_count": 52,
   "metadata": {},
   "outputs": [],
   "source": [
    "# All Continental Early Arriving Flights grouped by DayofWeek\n",
    "# Size is used to get the count for each day.\n",
    "co_early_day = planes[(planes['UniqueCarrier'] == 'CO') & (planes['Early'] == True)].groupby('DayOfWeek').size()"
   ]
  },
  {
   "cell_type": "code",
   "execution_count": 53,
   "metadata": {},
   "outputs": [
    {
     "data": {
      "text/plain": [
       "DayOfWeek\n",
       "5    476\n",
       "1    473\n",
       "7    462\n",
       "6    441\n",
       "3    385\n",
       "dtype: int64"
      ]
     },
     "execution_count": 53,
     "metadata": {},
     "output_type": "execute_result"
    }
   ],
   "source": [
    "# Top 5 Days of Continental Early Arriving Flights.\n",
    "co_early_day.nlargest(5)"
   ]
  },
  {
   "cell_type": "code",
   "execution_count": 54,
   "metadata": {},
   "outputs": [],
   "source": [
    "# Percentage of Continental Flights Arriving Early Per Day.\n",
    "co_early_day_pct = (co_early_day/co_day) * 100"
   ]
  },
  {
   "cell_type": "code",
   "execution_count": 55,
   "metadata": {},
   "outputs": [
    {
     "data": {
      "text/plain": [
       "DayOfWeek\n",
       "3    52.523874\n",
       "5    46.896552\n",
       "2    45.694444\n",
       "4    41.445783\n",
       "6    40.607735\n",
       "dtype: float64"
      ]
     },
     "execution_count": 55,
     "metadata": {},
     "output_type": "execute_result"
    }
   ],
   "source": [
    "# Top 5 days of Continental Early Arriving Flights by Percentage.\n",
    "co_early_day_pct.nlargest(5)"
   ]
  },
  {
   "cell_type": "markdown",
   "metadata": {},
   "source": [
    "## Conclusions\n",
    "Continental can use the insights gained from the data in these three categories to improve upon their service. <br>\n",
    "As an example, Continental should try and figure out why they have so many delayed flights, and how to have fewer delays on Monday and Sunday. \n",
    "Additionally, they should fix their flight from Houston to Seattle as a large percentage of those flights are delayed. <br>\n",
    "Additionally, they should look at flights where they are consistently arriving early and promote those flights more. <br>\n",
    "They should try and advertise how good their flights are to Charlotte and Albuquerque. <br>\n",
    "I look forward to Continental using this data to improve their flight service and continue to grow their customer base."
   ]
  },
  {
   "cell_type": "code",
   "execution_count": null,
   "metadata": {},
   "outputs": [],
   "source": []
  }
 ],
 "metadata": {
  "kernelspec": {
   "display_name": "Python 3",
   "language": "python",
   "name": "python3"
  },
  "language_info": {
   "codemirror_mode": {
    "name": "ipython",
    "version": 3
   },
   "file_extension": ".py",
   "mimetype": "text/x-python",
   "name": "python",
   "nbconvert_exporter": "python",
   "pygments_lexer": "ipython3",
   "version": "3.7.1"
  }
 },
 "nbformat": 4,
 "nbformat_minor": 2
}
