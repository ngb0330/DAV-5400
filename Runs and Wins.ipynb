{
 "cells": [
  {
   "cell_type": "markdown",
   "metadata": {},
   "source": [
    "Adapted from **Analyzing Baseball Data with R**, by Marchi and Albert (CRC Press)"
   ]
  },
  {
   "cell_type": "code",
   "execution_count": 1,
   "metadata": {
    "collapsed": true
   },
   "outputs": [],
   "source": [
    "%matplotlib inline\n",
    "import numpy as np\n",
    "import pandas as pd\n",
    "import matplotlib.pyplot as plt\n",
    "import seaborn as sns\n",
    "\n",
    "DATA_DIR = '../data/lahman-csv_2015-01-24/'"
   ]
  },
  {
   "cell_type": "code",
   "execution_count": 2,
   "metadata": {
    "collapsed": false
   },
   "outputs": [
    {
     "data": {
      "text/html": [
       "<div>\n",
       "<table border=\"1\" class=\"dataframe\">\n",
       "  <thead>\n",
       "    <tr style=\"text-align: right;\">\n",
       "      <th></th>\n",
       "      <th>yearID</th>\n",
       "      <th>lgID</th>\n",
       "      <th>teamID</th>\n",
       "      <th>franchID</th>\n",
       "      <th>divID</th>\n",
       "      <th>Rank</th>\n",
       "      <th>G</th>\n",
       "      <th>Ghome</th>\n",
       "      <th>W</th>\n",
       "      <th>L</th>\n",
       "      <th>...</th>\n",
       "      <th>DP</th>\n",
       "      <th>FP</th>\n",
       "      <th>name</th>\n",
       "      <th>park</th>\n",
       "      <th>attendance</th>\n",
       "      <th>BPF</th>\n",
       "      <th>PPF</th>\n",
       "      <th>teamIDBR</th>\n",
       "      <th>teamIDlahman45</th>\n",
       "      <th>teamIDretro</th>\n",
       "    </tr>\n",
       "  </thead>\n",
       "  <tbody>\n",
       "    <tr>\n",
       "      <th>0</th>\n",
       "      <td>1871</td>\n",
       "      <td>NaN</td>\n",
       "      <td>BS1</td>\n",
       "      <td>BNA</td>\n",
       "      <td>NaN</td>\n",
       "      <td>3</td>\n",
       "      <td>31</td>\n",
       "      <td>NaN</td>\n",
       "      <td>20</td>\n",
       "      <td>10</td>\n",
       "      <td>...</td>\n",
       "      <td>NaN</td>\n",
       "      <td>0.83</td>\n",
       "      <td>Boston Red Stockings</td>\n",
       "      <td>South End Grounds I</td>\n",
       "      <td>NaN</td>\n",
       "      <td>103</td>\n",
       "      <td>98</td>\n",
       "      <td>BOS</td>\n",
       "      <td>BS1</td>\n",
       "      <td>BS1</td>\n",
       "    </tr>\n",
       "    <tr>\n",
       "      <th>1</th>\n",
       "      <td>1871</td>\n",
       "      <td>NaN</td>\n",
       "      <td>CH1</td>\n",
       "      <td>CNA</td>\n",
       "      <td>NaN</td>\n",
       "      <td>2</td>\n",
       "      <td>28</td>\n",
       "      <td>NaN</td>\n",
       "      <td>19</td>\n",
       "      <td>9</td>\n",
       "      <td>...</td>\n",
       "      <td>NaN</td>\n",
       "      <td>0.82</td>\n",
       "      <td>Chicago White Stockings</td>\n",
       "      <td>Union Base-Ball Grounds</td>\n",
       "      <td>NaN</td>\n",
       "      <td>104</td>\n",
       "      <td>102</td>\n",
       "      <td>CHI</td>\n",
       "      <td>CH1</td>\n",
       "      <td>CH1</td>\n",
       "    </tr>\n",
       "    <tr>\n",
       "      <th>2</th>\n",
       "      <td>1871</td>\n",
       "      <td>NaN</td>\n",
       "      <td>CL1</td>\n",
       "      <td>CFC</td>\n",
       "      <td>NaN</td>\n",
       "      <td>8</td>\n",
       "      <td>29</td>\n",
       "      <td>NaN</td>\n",
       "      <td>10</td>\n",
       "      <td>19</td>\n",
       "      <td>...</td>\n",
       "      <td>NaN</td>\n",
       "      <td>0.81</td>\n",
       "      <td>Cleveland Forest Citys</td>\n",
       "      <td>National Association Grounds</td>\n",
       "      <td>NaN</td>\n",
       "      <td>96</td>\n",
       "      <td>100</td>\n",
       "      <td>CLE</td>\n",
       "      <td>CL1</td>\n",
       "      <td>CL1</td>\n",
       "    </tr>\n",
       "    <tr>\n",
       "      <th>3</th>\n",
       "      <td>1871</td>\n",
       "      <td>NaN</td>\n",
       "      <td>FW1</td>\n",
       "      <td>KEK</td>\n",
       "      <td>NaN</td>\n",
       "      <td>7</td>\n",
       "      <td>19</td>\n",
       "      <td>NaN</td>\n",
       "      <td>7</td>\n",
       "      <td>12</td>\n",
       "      <td>...</td>\n",
       "      <td>NaN</td>\n",
       "      <td>0.80</td>\n",
       "      <td>Fort Wayne Kekiongas</td>\n",
       "      <td>Hamilton Field</td>\n",
       "      <td>NaN</td>\n",
       "      <td>101</td>\n",
       "      <td>107</td>\n",
       "      <td>KEK</td>\n",
       "      <td>FW1</td>\n",
       "      <td>FW1</td>\n",
       "    </tr>\n",
       "    <tr>\n",
       "      <th>4</th>\n",
       "      <td>1871</td>\n",
       "      <td>NaN</td>\n",
       "      <td>NY2</td>\n",
       "      <td>NNA</td>\n",
       "      <td>NaN</td>\n",
       "      <td>5</td>\n",
       "      <td>33</td>\n",
       "      <td>NaN</td>\n",
       "      <td>16</td>\n",
       "      <td>17</td>\n",
       "      <td>...</td>\n",
       "      <td>NaN</td>\n",
       "      <td>0.83</td>\n",
       "      <td>New York Mutuals</td>\n",
       "      <td>Union Grounds (Brooklyn)</td>\n",
       "      <td>NaN</td>\n",
       "      <td>90</td>\n",
       "      <td>88</td>\n",
       "      <td>NYU</td>\n",
       "      <td>NY2</td>\n",
       "      <td>NY2</td>\n",
       "    </tr>\n",
       "  </tbody>\n",
       "</table>\n",
       "<p>5 rows × 48 columns</p>\n",
       "</div>"
      ],
      "text/plain": [
       "   yearID lgID teamID franchID divID  Rank   G  Ghome   W   L     ...       \\\n",
       "0    1871  NaN    BS1      BNA   NaN     3  31    NaN  20  10     ...        \n",
       "1    1871  NaN    CH1      CNA   NaN     2  28    NaN  19   9     ...        \n",
       "2    1871  NaN    CL1      CFC   NaN     8  29    NaN  10  19     ...        \n",
       "3    1871  NaN    FW1      KEK   NaN     7  19    NaN   7  12     ...        \n",
       "4    1871  NaN    NY2      NNA   NaN     5  33    NaN  16  17     ...        \n",
       "\n",
       "   DP    FP                     name                          park  \\\n",
       "0 NaN  0.83     Boston Red Stockings           South End Grounds I   \n",
       "1 NaN  0.82  Chicago White Stockings       Union Base-Ball Grounds   \n",
       "2 NaN  0.81   Cleveland Forest Citys  National Association Grounds   \n",
       "3 NaN  0.80     Fort Wayne Kekiongas                Hamilton Field   \n",
       "4 NaN  0.83         New York Mutuals      Union Grounds (Brooklyn)   \n",
       "\n",
       "   attendance  BPF  PPF  teamIDBR  teamIDlahman45  teamIDretro  \n",
       "0         NaN  103   98       BOS             BS1          BS1  \n",
       "1         NaN  104  102       CHI             CH1          CH1  \n",
       "2         NaN   96  100       CLE             CL1          CL1  \n",
       "3         NaN  101  107       KEK             FW1          FW1  \n",
       "4         NaN   90   88       NYU             NY2          NY2  \n",
       "\n",
       "[5 rows x 48 columns]"
      ]
     },
     "execution_count": 2,
     "metadata": {},
     "output_type": "execute_result"
    }
   ],
   "source": [
    "teams = pd.read_csv(DATA_DIR+'Teams.csv')\n",
    "teams.head()"
   ]
  },
  {
   "cell_type": "code",
   "execution_count": 178,
   "metadata": {
    "collapsed": false
   },
   "outputs": [
    {
     "data": {
      "text/html": [
       "<div>\n",
       "<table border=\"1\" class=\"dataframe\">\n",
       "  <thead>\n",
       "    <tr style=\"text-align: right;\">\n",
       "      <th></th>\n",
       "      <th>teamID</th>\n",
       "      <th>yearID</th>\n",
       "      <th>lgID</th>\n",
       "      <th>G</th>\n",
       "      <th>W</th>\n",
       "      <th>L</th>\n",
       "      <th>R</th>\n",
       "      <th>RA</th>\n",
       "    </tr>\n",
       "  </thead>\n",
       "  <tbody>\n",
       "    <tr>\n",
       "      <th>2355</th>\n",
       "      <td>ANA</td>\n",
       "      <td>2001</td>\n",
       "      <td>AL</td>\n",
       "      <td>162</td>\n",
       "      <td>75</td>\n",
       "      <td>87</td>\n",
       "      <td>691</td>\n",
       "      <td>730</td>\n",
       "    </tr>\n",
       "    <tr>\n",
       "      <th>2356</th>\n",
       "      <td>ARI</td>\n",
       "      <td>2001</td>\n",
       "      <td>NL</td>\n",
       "      <td>162</td>\n",
       "      <td>92</td>\n",
       "      <td>70</td>\n",
       "      <td>818</td>\n",
       "      <td>677</td>\n",
       "    </tr>\n",
       "    <tr>\n",
       "      <th>2357</th>\n",
       "      <td>ATL</td>\n",
       "      <td>2001</td>\n",
       "      <td>NL</td>\n",
       "      <td>162</td>\n",
       "      <td>88</td>\n",
       "      <td>74</td>\n",
       "      <td>729</td>\n",
       "      <td>643</td>\n",
       "    </tr>\n",
       "    <tr>\n",
       "      <th>2358</th>\n",
       "      <td>BAL</td>\n",
       "      <td>2001</td>\n",
       "      <td>AL</td>\n",
       "      <td>162</td>\n",
       "      <td>63</td>\n",
       "      <td>98</td>\n",
       "      <td>687</td>\n",
       "      <td>829</td>\n",
       "    </tr>\n",
       "    <tr>\n",
       "      <th>2359</th>\n",
       "      <td>BOS</td>\n",
       "      <td>2001</td>\n",
       "      <td>AL</td>\n",
       "      <td>161</td>\n",
       "      <td>82</td>\n",
       "      <td>79</td>\n",
       "      <td>772</td>\n",
       "      <td>745</td>\n",
       "    </tr>\n",
       "  </tbody>\n",
       "</table>\n",
       "</div>"
      ],
      "text/plain": [
       "     teamID  yearID lgID    G   W   L    R   RA\n",
       "2355    ANA    2001   AL  162  75  87  691  730\n",
       "2356    ARI    2001   NL  162  92  70  818  677\n",
       "2357    ATL    2001   NL  162  88  74  729  643\n",
       "2358    BAL    2001   AL  162  63  98  687  829\n",
       "2359    BOS    2001   AL  161  82  79  772  745"
      ]
     },
     "execution_count": 178,
     "metadata": {},
     "output_type": "execute_result"
    }
   ],
   "source": [
    "since_2001 = teams.loc[teams.yearID > 2000, ['teamID', 'yearID', 'lgID', 'G', 'W', 'L', 'R', 'RA']]\n",
    "since_2001.head()"
   ]
  },
  {
   "cell_type": "code",
   "execution_count": 179,
   "metadata": {
    "collapsed": false
   },
   "outputs": [],
   "source": [
    "since_2001 = since_2001.assign(RD=since_2001.R - since_2001.RA, Wpct=since_2001.W / (since_2001.W + since_2001.L))"
   ]
  },
  {
   "cell_type": "code",
   "execution_count": 180,
   "metadata": {
    "collapsed": false
   },
   "outputs": [
    {
     "data": {
      "text/plain": [
       "<matplotlib.text.Text at 0x114cc5470>"
      ]
     },
     "execution_count": 180,
     "metadata": {},
     "output_type": "execute_result"
    },
    {
     "data": {
      "image/png": "[encoded data removed]",
      "text/plain": [
       "<matplotlib.figure.Figure at 0x114ca5b00>"
      ]
     },
     "metadata": {},
     "output_type": "display_data"
    }
   ],
   "source": [
    "axes = sns.regplot(since_2001.RD, since_2001.Wpct)\n",
    "axes.set_xlabel('Run differential')\n",
    "axes.set_ylabel('Winning percentage')"
   ]
  },
  {
   "cell_type": "markdown",
   "metadata": {},
   "source": [
    "Bayesian regression using PyMC3:"
   ]
  },
  {
   "cell_type": "code",
   "execution_count": 244,
   "metadata": {
    "collapsed": false
   },
   "outputs": [
    {
     "name": "stdout",
     "output_type": "stream",
     "text": [
      "Assigned NUTS to Intercept\n",
      "Assigned NUTS to RD\n",
      "Assigned NUTS to sd_log\n",
      " [-----------------100%-----------------] 1000 of 1000 complete in 5.4 sec\n",
      "Intercept:\n",
      "\n",
      "  Mean             SD               MC Error         95% HPD interval\n",
      "  -------------------------------------------------------------------\n",
      "  \n",
      "  0.499            0.021            0.001            [0.498, 0.502]\n",
      "\n",
      "  Posterior quantiles:\n",
      "  2.5            25             50             75             97.5\n",
      "  |--------------|==============|==============|--------------|\n",
      "  \n",
      "  0.497          0.499          0.500          0.501          0.502\n",
      "\n",
      "\n",
      "RD:\n",
      "\n",
      "  Mean             SD               MC Error         95% HPD interval\n",
      "  -------------------------------------------------------------------\n",
      "  \n",
      "  0.001            0.000            0.000            [0.001, 0.001]\n",
      "\n",
      "  Posterior quantiles:\n",
      "  2.5            25             50             75             97.5\n",
      "  |--------------|==============|==============|--------------|\n",
      "  \n",
      "  0.001          0.001          0.001          0.001          0.001\n",
      "\n",
      "\n",
      "sd_log:\n",
      "\n",
      "  Mean             SD               MC Error         95% HPD interval\n",
      "  -------------------------------------------------------------------\n",
      "  \n",
      "  -3.652           0.292            0.028            [-3.779, -3.618]\n",
      "\n",
      "  Posterior quantiles:\n",
      "  2.5            25             50             75             97.5\n",
      "  |--------------|==============|==============|--------------|\n",
      "  \n",
      "  -3.763         -3.724         -3.691         -3.664         -3.081\n",
      "\n",
      "\n",
      "sd:\n",
      "\n",
      "  Mean             SD               MC Error         95% HPD interval\n",
      "  -------------------------------------------------------------------\n",
      "  \n",
      "  0.029            0.044            0.003            [0.023, 0.027]\n",
      "\n",
      "  Posterior quantiles:\n",
      "  2.5            25             50             75             97.5\n",
      "  |--------------|==============|==============|--------------|\n",
      "  \n",
      "  0.023          0.024          0.025          0.026          0.046\n",
      "\n"
     ]
    },
    {
     "data": {
      "image/png": "[encoded data removed]",
      "text/plain": [
       "<matplotlib.figure.Figure at 0x11075ec18>"
      ]
     },
     "metadata": {},
     "output_type": "display_data"
    }
   ],
   "source": [
    "import pymc3 as pm\n",
    "\n",
    "with pm.Model() as run_model:\n",
    "    \n",
    "    pm.glm.glm('Wpct ~ RD', since_2001)\n",
    "    trace = pm.sample(1000)\n",
    "    pm.traceplot(trace, vars=['RD'])\n",
    "    pm.summary(trace)"
   ]
  },
  {
   "cell_type": "code",
   "execution_count": 245,
   "metadata": {
    "collapsed": false
   },
   "outputs": [
    {
     "name": "stdout",
     "output_type": "stream",
     "text": [
      "Assigned NUTS to β\n",
      "Assigned NUTS to σ_interval\n",
      " [-----------------100%-----------------] 2000 of 2000 complete in 52.4 sec"
     ]
    }
   ],
   "source": [
    "with pm.Model() as run_model_resid:\n",
    "    \n",
    "    β = pm.Normal('β', 0, 1e-6, shape=2)\n",
    "    μ = β[0] + β[1] * since_2001.RD\n",
    "    σ = pm.Uniform('σ', 0, 100)\n",
    "    \n",
    "    wp = pm.Normal('wp', μ, σ**-2, observed=since_2001.Wpct)\n",
    "    \n",
    "    ϵ = pm.Deterministic('ϵ', since_2001.Wpct.values - μ)\n",
    "    \n",
    "    trace = pm.sample(2000)"
   ]
  },
  {
   "cell_type": "code",
   "execution_count": 246,
   "metadata": {
    "collapsed": false
   },
   "outputs": [
    {
     "name": "stdout",
     "output_type": "stream",
     "text": [
      "\n",
      "β:\n",
      "\n",
      "  Mean             SD               MC Error         95% HPD interval\n",
      "  -------------------------------------------------------------------\n",
      "  \n",
      "  0.500048         0.001280         0.000035         [0.497660, 0.502642]\n",
      "  0.000631         0.000012         0.000000         [0.000609, 0.000653]\n",
      "\n",
      "  Posterior quantiles:\n",
      "  2.5            25             50             75             97.5\n",
      "  |--------------|==============|==============|--------------|\n",
      "  \n",
      "  0.497619       0.499232       0.500027       0.500872       0.502616\n",
      "  0.000607       0.000622       0.000631       0.000639       0.000652\n",
      "\n"
     ]
    }
   ],
   "source": [
    "pm.summary(trace[1000:], vars=['β'], roundto=6)"
   ]
  },
  {
   "cell_type": "code",
   "execution_count": 247,
   "metadata": {
    "collapsed": false
   },
   "outputs": [
    {
     "data": {
      "text/plain": [
       "<matplotlib.gridspec.GridSpec at 0x116defa20>"
      ]
     },
     "execution_count": 247,
     "metadata": {},
     "output_type": "execute_result"
    },
    {
     "data": {
      "image/png": "[encoded data removed]",
      "text/plain": [
       "<matplotlib.figure.Figure at 0x112510668>"
      ]
     },
     "metadata": {},
     "output_type": "display_data"
    }
   ],
   "source": [
    "pm.forestplot(trace[1000:], vars=['ϵ'], ylabels=['']*len(since_2001))"
   ]
  },
  {
   "cell_type": "code",
   "execution_count": 248,
   "metadata": {
    "collapsed": false
   },
   "outputs": [
    {
     "data": {
      "text/plain": [
       "<matplotlib.text.Text at 0x11b9c8828>"
      ]
     },
     "execution_count": 248,
     "metadata": {},
     "output_type": "execute_result"
    },
    {
     "data": {
      "image/png": "[encoded data removed]",
      "text/plain": [
       "<matplotlib.figure.Figure at 0x11b9b3d68>"
      ]
     },
     "metadata": {},
     "output_type": "display_data"
    }
   ],
   "source": [
    "axes = sns.regplot(since_2001.RD, trace['ϵ'][1000:].mean(axis=0))\n",
    "axes.set_ylabel('Residual')\n",
    "axes.set_xlabel('Run differential')"
   ]
  },
  {
   "cell_type": "markdown",
   "metadata": {},
   "source": [
    "Using scikit-learn:"
   ]
  },
  {
   "cell_type": "code",
   "execution_count": 182,
   "metadata": {
    "collapsed": false
   },
   "outputs": [
    {
     "data": {
      "text/plain": [
       "LinearRegression(copy_X=True, fit_intercept=True, n_jobs=1, normalize=False)"
      ]
     },
     "execution_count": 182,
     "metadata": {},
     "output_type": "execute_result"
    }
   ],
   "source": [
    "from sklearn import linear_model\n",
    "\n",
    "Wpct = since_2001.Wpct.values\n",
    "RD = since_2001.RD.reshape(-1,1)\n",
    "\n",
    "regr = linear_model.LinearRegression()\n",
    "regr.fit(RD, Wpct, since_2001.Wpct)"
   ]
  },
  {
   "cell_type": "code",
   "execution_count": 183,
   "metadata": {
    "collapsed": false
   },
   "outputs": [
    {
     "data": {
      "text/plain": [
       "array([ 0.00062709])"
      ]
     },
     "execution_count": 183,
     "metadata": {},
     "output_type": "execute_result"
    }
   ],
   "source": [
    "regr.coef_"
   ]
  },
  {
   "cell_type": "code",
   "execution_count": 184,
   "metadata": {
    "collapsed": false
   },
   "outputs": [],
   "source": [
    "Wpct_hat = regr.predict(RD)\n",
    "ϵ = Wpct - Wpct_hat"
   ]
  },
  {
   "cell_type": "code",
   "execution_count": 185,
   "metadata": {
    "collapsed": false
   },
   "outputs": [
    {
     "data": {
      "text/plain": [
       "<matplotlib.text.Text at 0x115620da0>"
      ]
     },
     "execution_count": 185,
     "metadata": {},
     "output_type": "execute_result"
    },
    {
     "data": {
      "image/png": "[encoded data removed]",
      "text/plain": [
       "<matplotlib.figure.Figure at 0x115231828>"
      ]
     },
     "metadata": {},
     "output_type": "display_data"
    }
   ],
   "source": [
    "axes = sns.regplot(since_2001.RD, ϵ)\n",
    "axes.set_ylabel('Residual')\n",
    "axes.set_xlabel('Run differential')"
   ]
  },
  {
   "cell_type": "code",
   "execution_count": 186,
   "metadata": {
    "collapsed": false
   },
   "outputs": [
    {
     "data": {
      "text/plain": [
       "0.88003554784382143"
      ]
     },
     "execution_count": 186,
     "metadata": {},
     "output_type": "execute_result"
    }
   ],
   "source": [
    "regr.score(RD, Wpct)"
   ]
  },
  {
   "cell_type": "markdown",
   "metadata": {},
   "source": [
    "Root mean squared error (RMSE)"
   ]
  },
  {
   "cell_type": "code",
   "execution_count": 187,
   "metadata": {
    "collapsed": false
   },
   "outputs": [],
   "source": [
    "rmse = np.sqrt((ϵ**2).mean())"
   ]
  },
  {
   "cell_type": "code",
   "execution_count": 188,
   "metadata": {
    "collapsed": false
   },
   "outputs": [
    {
     "data": {
      "text/plain": [
       "0.69285714285714284"
      ]
     },
     "execution_count": 188,
     "metadata": {},
     "output_type": "execute_result"
    }
   ],
   "source": [
    "(np.abs(ϵ) < rmse).mean()"
   ]
  },
  {
   "cell_type": "code",
   "execution_count": 189,
   "metadata": {
    "collapsed": false
   },
   "outputs": [
    {
     "data": {
      "text/plain": [
       "0.95714285714285718"
      ]
     },
     "execution_count": 189,
     "metadata": {},
     "output_type": "execute_result"
    }
   ],
   "source": [
    "(np.abs(ϵ) < 2*rmse).mean()"
   ]
  },
  {
   "cell_type": "markdown",
   "metadata": {},
   "source": [
    "Pythagorean wins for SF"
   ]
  },
  {
   "cell_type": "code",
   "execution_count": 243,
   "metadata": {
    "collapsed": false
   },
   "outputs": [],
   "source": [
    "R, RA = since_2001[['R', 'RA']].T.values\n",
    "since_2001 = since_2001.assign(pythWins=162 * R**2 / (RA**2 + R**2))"
   ]
  },
  {
   "cell_type": "code",
   "execution_count": 191,
   "metadata": {
    "collapsed": false
   },
   "outputs": [
    {
     "data": {
      "text/html": [
       "<div>\n",
       "<table border=\"1\" class=\"dataframe\">\n",
       "  <thead>\n",
       "    <tr style=\"text-align: right;\">\n",
       "      <th></th>\n",
       "      <th>teamID</th>\n",
       "      <th>yearID</th>\n",
       "      <th>lgID</th>\n",
       "      <th>G</th>\n",
       "      <th>W</th>\n",
       "      <th>L</th>\n",
       "      <th>R</th>\n",
       "      <th>RA</th>\n",
       "      <th>RD</th>\n",
       "      <th>Wpct</th>\n",
       "      <th>pythWins</th>\n",
       "    </tr>\n",
       "  </thead>\n",
       "  <tbody>\n",
       "    <tr>\n",
       "      <th>2679</th>\n",
       "      <td>SFN</td>\n",
       "      <td>2011</td>\n",
       "      <td>NL</td>\n",
       "      <td>162</td>\n",
       "      <td>86</td>\n",
       "      <td>76</td>\n",
       "      <td>570</td>\n",
       "      <td>578</td>\n",
       "      <td>-8</td>\n",
       "      <td>0.530864</td>\n",
       "      <td>79.871135</td>\n",
       "    </tr>\n",
       "  </tbody>\n",
       "</table>\n",
       "</div>"
      ],
      "text/plain": [
       "     teamID  yearID lgID    G   W   L    R   RA  RD      Wpct   pythWins\n",
       "2679    SFN    2011   NL  162  86  76  570  578  -8  0.530864  79.871135"
      ]
     },
     "execution_count": 191,
     "metadata": {},
     "output_type": "execute_result"
    }
   ],
   "source": [
    "since_2001[(since_2001.teamID=='SFN') & (since_2001.yearID==2011)]"
   ]
  },
  {
   "cell_type": "markdown",
   "metadata": {},
   "source": [
    "Load 2011 game logs"
   ]
  },
  {
   "cell_type": "code",
   "execution_count": 192,
   "metadata": {
    "collapsed": false
   },
   "outputs": [
    {
     "data": {
      "text/html": [
       "<div>\n",
       "<table border=\"1\" class=\"dataframe\">\n",
       "  <thead>\n",
       "    <tr style=\"text-align: right;\">\n",
       "      <th></th>\n",
       "      <th>Date</th>\n",
       "      <th>DoubleHeader</th>\n",
       "      <th>DayOfWeek</th>\n",
       "      <th>VisitingTeam</th>\n",
       "      <th>VisitingTeamLeague</th>\n",
       "      <th>VisitingTeamGameNumber</th>\n",
       "      <th>HomeTeam</th>\n",
       "      <th>HomeTeamLeague</th>\n",
       "      <th>HomeTeamGameNumber</th>\n",
       "      <th>VisitorRunsScored</th>\n",
       "      <th>...</th>\n",
       "      <th>HomeBatting7Name</th>\n",
       "      <th>HomeBatting7Position</th>\n",
       "      <th>HomeBatting8PlayerID</th>\n",
       "      <th>HomeBatting8Name</th>\n",
       "      <th>HomeBatting8Position</th>\n",
       "      <th>HomeBatting9PlayerID</th>\n",
       "      <th>HomeBatting9Name</th>\n",
       "      <th>HomeBatting9Position</th>\n",
       "      <th>AdditionalInfo</th>\n",
       "      <th>AcquisitionInfo</th>\n",
       "    </tr>\n",
       "  </thead>\n",
       "  <tbody>\n",
       "    <tr>\n",
       "      <th>0</th>\n",
       "      <td>20110331</td>\n",
       "      <td>0</td>\n",
       "      <td>Thu</td>\n",
       "      <td>MIL</td>\n",
       "      <td>NL</td>\n",
       "      <td>1</td>\n",
       "      <td>CIN</td>\n",
       "      <td>NL</td>\n",
       "      <td>1</td>\n",
       "      <td>6</td>\n",
       "      <td>...</td>\n",
       "      <td>Ramon Hernandez</td>\n",
       "      <td>2</td>\n",
       "      <td>janip001</td>\n",
       "      <td>Paul Janish</td>\n",
       "      <td>6</td>\n",
       "      <td>volqe001</td>\n",
       "      <td>Edinson Volquez</td>\n",
       "      <td>1</td>\n",
       "      <td>NaN</td>\n",
       "      <td>Y</td>\n",
       "    </tr>\n",
       "    <tr>\n",
       "      <th>1</th>\n",
       "      <td>20110331</td>\n",
       "      <td>0</td>\n",
       "      <td>Thu</td>\n",
       "      <td>SFN</td>\n",
       "      <td>NL</td>\n",
       "      <td>1</td>\n",
       "      <td>LAN</td>\n",
       "      <td>NL</td>\n",
       "      <td>1</td>\n",
       "      <td>1</td>\n",
       "      <td>...</td>\n",
       "      <td>Rod Barajas</td>\n",
       "      <td>2</td>\n",
       "      <td>carrj001</td>\n",
       "      <td>Jamey Carroll</td>\n",
       "      <td>4</td>\n",
       "      <td>kersc001</td>\n",
       "      <td>Clayton Kershaw</td>\n",
       "      <td>1</td>\n",
       "      <td>NaN</td>\n",
       "      <td>Y</td>\n",
       "    </tr>\n",
       "    <tr>\n",
       "      <th>2</th>\n",
       "      <td>20110331</td>\n",
       "      <td>0</td>\n",
       "      <td>Thu</td>\n",
       "      <td>SDN</td>\n",
       "      <td>NL</td>\n",
       "      <td>1</td>\n",
       "      <td>SLN</td>\n",
       "      <td>NL</td>\n",
       "      <td>1</td>\n",
       "      <td>5</td>\n",
       "      <td>...</td>\n",
       "      <td>Yadier Molina</td>\n",
       "      <td>2</td>\n",
       "      <td>schus001</td>\n",
       "      <td>Skip Schumaker</td>\n",
       "      <td>4</td>\n",
       "      <td>carpc002</td>\n",
       "      <td>Chris Carpenter</td>\n",
       "      <td>1</td>\n",
       "      <td>NaN</td>\n",
       "      <td>Y</td>\n",
       "    </tr>\n",
       "    <tr>\n",
       "      <th>3</th>\n",
       "      <td>20110331</td>\n",
       "      <td>0</td>\n",
       "      <td>Thu</td>\n",
       "      <td>ATL</td>\n",
       "      <td>NL</td>\n",
       "      <td>1</td>\n",
       "      <td>WAS</td>\n",
       "      <td>NL</td>\n",
       "      <td>1</td>\n",
       "      <td>2</td>\n",
       "      <td>...</td>\n",
       "      <td>Danny Espinosa</td>\n",
       "      <td>4</td>\n",
       "      <td>rodri001</td>\n",
       "      <td>Ivan Rodriguez</td>\n",
       "      <td>2</td>\n",
       "      <td>hernl003</td>\n",
       "      <td>Livan Hernandez</td>\n",
       "      <td>1</td>\n",
       "      <td>NaN</td>\n",
       "      <td>Y</td>\n",
       "    </tr>\n",
       "    <tr>\n",
       "      <th>4</th>\n",
       "      <td>20110331</td>\n",
       "      <td>0</td>\n",
       "      <td>Thu</td>\n",
       "      <td>ANA</td>\n",
       "      <td>AL</td>\n",
       "      <td>1</td>\n",
       "      <td>KCA</td>\n",
       "      <td>AL</td>\n",
       "      <td>1</td>\n",
       "      <td>4</td>\n",
       "      <td>...</td>\n",
       "      <td>Alcides Escobar</td>\n",
       "      <td>6</td>\n",
       "      <td>tream001</td>\n",
       "      <td>Matt Treanor</td>\n",
       "      <td>2</td>\n",
       "      <td>getzc001</td>\n",
       "      <td>Chris Getz</td>\n",
       "      <td>4</td>\n",
       "      <td>NaN</td>\n",
       "      <td>Y</td>\n",
       "    </tr>\n",
       "  </tbody>\n",
       "</table>\n",
       "<p>5 rows × 161 columns</p>\n",
       "</div>"
      ],
      "text/plain": [
       "       Date  DoubleHeader DayOfWeek VisitingTeam VisitingTeamLeague  \\\n",
       "0  20110331             0       Thu          MIL                 NL   \n",
       "1  20110331             0       Thu          SFN                 NL   \n",
       "2  20110331             0       Thu          SDN                 NL   \n",
       "3  20110331             0       Thu          ATL                 NL   \n",
       "4  20110331             0       Thu          ANA                 AL   \n",
       "\n",
       "   VisitingTeamGameNumber HomeTeam HomeTeamLeague  HomeTeamGameNumber  \\\n",
       "0                       1      CIN             NL                   1   \n",
       "1                       1      LAN             NL                   1   \n",
       "2                       1      SLN             NL                   1   \n",
       "3                       1      WAS             NL                   1   \n",
       "4                       1      KCA             AL                   1   \n",
       "\n",
       "   VisitorRunsScored       ...        HomeBatting7Name  HomeBatting7Position  \\\n",
       "0                  6       ...         Ramon Hernandez                     2   \n",
       "1                  1       ...             Rod Barajas                     2   \n",
       "2                  5       ...           Yadier Molina                     2   \n",
       "3                  2       ...          Danny Espinosa                     4   \n",
       "4                  4       ...         Alcides Escobar                     6   \n",
       "\n",
       "  HomeBatting8PlayerID HomeBatting8Name  HomeBatting8Position  \\\n",
       "0             janip001      Paul Janish                     6   \n",
       "1             carrj001    Jamey Carroll                     4   \n",
       "2             schus001   Skip Schumaker                     4   \n",
       "3             rodri001   Ivan Rodriguez                     2   \n",
       "4             tream001     Matt Treanor                     2   \n",
       "\n",
       "   HomeBatting9PlayerID HomeBatting9Name  HomeBatting9Position  \\\n",
       "0              volqe001  Edinson Volquez                     1   \n",
       "1              kersc001  Clayton Kershaw                     1   \n",
       "2              carpc002  Chris Carpenter                     1   \n",
       "3              hernl003  Livan Hernandez                     1   \n",
       "4              getzc001       Chris Getz                     4   \n",
       "\n",
       "   AdditionalInfo AcquisitionInfo  \n",
       "0             NaN               Y  \n",
       "1             NaN               Y  \n",
       "2             NaN               Y  \n",
       "3             NaN               Y  \n",
       "4             NaN               Y  \n",
       "\n",
       "[5 rows x 161 columns]"
      ]
     },
     "execution_count": 192,
     "metadata": {},
     "output_type": "execute_result"
    }
   ],
   "source": [
    "games_2011 = pd.read_csv('../data/gl2011.txt', header=None)\n",
    "games_2011.columns = pd.read_csv('../data/game_log_header.txt', header=None).values[0]\n",
    "games_2011.head()"
   ]
  },
  {
   "cell_type": "code",
   "execution_count": 193,
   "metadata": {
    "collapsed": false
   },
   "outputs": [
    {
     "data": {
      "text/html": [
       "<div>\n",
       "<table border=\"1\" class=\"dataframe\">\n",
       "  <thead>\n",
       "    <tr style=\"text-align: right;\">\n",
       "      <th></th>\n",
       "      <th>VisitingTeam</th>\n",
       "      <th>HomeTeam</th>\n",
       "      <th>VisitorRunsScored</th>\n",
       "      <th>HomeRunsScore</th>\n",
       "    </tr>\n",
       "  </thead>\n",
       "  <tbody>\n",
       "    <tr>\n",
       "      <th>1</th>\n",
       "      <td>SFN</td>\n",
       "      <td>LAN</td>\n",
       "      <td>1</td>\n",
       "      <td>2</td>\n",
       "    </tr>\n",
       "    <tr>\n",
       "      <th>9</th>\n",
       "      <td>SFN</td>\n",
       "      <td>LAN</td>\n",
       "      <td>3</td>\n",
       "      <td>4</td>\n",
       "    </tr>\n",
       "    <tr>\n",
       "      <th>21</th>\n",
       "      <td>SFN</td>\n",
       "      <td>LAN</td>\n",
       "      <td>10</td>\n",
       "      <td>0</td>\n",
       "    </tr>\n",
       "    <tr>\n",
       "      <th>35</th>\n",
       "      <td>SFN</td>\n",
       "      <td>LAN</td>\n",
       "      <td>5</td>\n",
       "      <td>7</td>\n",
       "    </tr>\n",
       "    <tr>\n",
       "      <th>58</th>\n",
       "      <td>SFN</td>\n",
       "      <td>SDN</td>\n",
       "      <td>1</td>\n",
       "      <td>3</td>\n",
       "    </tr>\n",
       "    <tr>\n",
       "      <th>72</th>\n",
       "      <td>SFN</td>\n",
       "      <td>SDN</td>\n",
       "      <td>8</td>\n",
       "      <td>4</td>\n",
       "    </tr>\n",
       "    <tr>\n",
       "      <th>97</th>\n",
       "      <td>SLN</td>\n",
       "      <td>SFN</td>\n",
       "      <td>4</td>\n",
       "      <td>5</td>\n",
       "    </tr>\n",
       "    <tr>\n",
       "      <th>111</th>\n",
       "      <td>SLN</td>\n",
       "      <td>SFN</td>\n",
       "      <td>2</td>\n",
       "      <td>3</td>\n",
       "    </tr>\n",
       "    <tr>\n",
       "      <th>127</th>\n",
       "      <td>SLN</td>\n",
       "      <td>SFN</td>\n",
       "      <td>6</td>\n",
       "      <td>1</td>\n",
       "    </tr>\n",
       "    <tr>\n",
       "      <th>139</th>\n",
       "      <td>LAN</td>\n",
       "      <td>SFN</td>\n",
       "      <td>6</td>\n",
       "      <td>1</td>\n",
       "    </tr>\n",
       "    <tr>\n",
       "      <th>149</th>\n",
       "      <td>LAN</td>\n",
       "      <td>SFN</td>\n",
       "      <td>4</td>\n",
       "      <td>5</td>\n",
       "    </tr>\n",
       "    <tr>\n",
       "      <th>163</th>\n",
       "      <td>LAN</td>\n",
       "      <td>SFN</td>\n",
       "      <td>3</td>\n",
       "      <td>4</td>\n",
       "    </tr>\n",
       "    <tr>\n",
       "      <th>182</th>\n",
       "      <td>SFN</td>\n",
       "      <td>ARI</td>\n",
       "      <td>5</td>\n",
       "      <td>2</td>\n",
       "    </tr>\n",
       "    <tr>\n",
       "      <th>196</th>\n",
       "      <td>SFN</td>\n",
       "      <td>ARI</td>\n",
       "      <td>5</td>\n",
       "      <td>3</td>\n",
       "    </tr>\n",
       "    <tr>\n",
       "      <th>210</th>\n",
       "      <td>SFN</td>\n",
       "      <td>ARI</td>\n",
       "      <td>5</td>\n",
       "      <td>6</td>\n",
       "    </tr>\n",
       "    <tr>\n",
       "      <th>228</th>\n",
       "      <td>SFN</td>\n",
       "      <td>COL</td>\n",
       "      <td>8</td>\n",
       "      <td>1</td>\n",
       "    </tr>\n",
       "    <tr>\n",
       "      <th>238</th>\n",
       "      <td>SFN</td>\n",
       "      <td>COL</td>\n",
       "      <td>6</td>\n",
       "      <td>3</td>\n",
       "    </tr>\n",
       "    <tr>\n",
       "      <th>253</th>\n",
       "      <td>SFN</td>\n",
       "      <td>COL</td>\n",
       "      <td>2</td>\n",
       "      <td>10</td>\n",
       "    </tr>\n",
       "    <tr>\n",
       "      <th>283</th>\n",
       "      <td>ATL</td>\n",
       "      <td>SFN</td>\n",
       "      <td>4</td>\n",
       "      <td>1</td>\n",
       "    </tr>\n",
       "    <tr>\n",
       "      <th>296</th>\n",
       "      <td>ATL</td>\n",
       "      <td>SFN</td>\n",
       "      <td>5</td>\n",
       "      <td>2</td>\n",
       "    </tr>\n",
       "    <tr>\n",
       "      <th>311</th>\n",
       "      <td>ATL</td>\n",
       "      <td>SFN</td>\n",
       "      <td>9</td>\n",
       "      <td>6</td>\n",
       "    </tr>\n",
       "    <tr>\n",
       "      <th>334</th>\n",
       "      <td>SFN</td>\n",
       "      <td>PIT</td>\n",
       "      <td>3</td>\n",
       "      <td>2</td>\n",
       "    </tr>\n",
       "    <tr>\n",
       "      <th>347</th>\n",
       "      <td>SFN</td>\n",
       "      <td>PIT</td>\n",
       "      <td>0</td>\n",
       "      <td>2</td>\n",
       "    </tr>\n",
       "    <tr>\n",
       "      <th>359</th>\n",
       "      <td>SFN</td>\n",
       "      <td>PIT</td>\n",
       "      <td>5</td>\n",
       "      <td>2</td>\n",
       "    </tr>\n",
       "    <tr>\n",
       "      <th>375</th>\n",
       "      <td>SFN</td>\n",
       "      <td>WAS</td>\n",
       "      <td>0</td>\n",
       "      <td>3</td>\n",
       "    </tr>\n",
       "    <tr>\n",
       "      <th>390</th>\n",
       "      <td>SFN</td>\n",
       "      <td>WAS</td>\n",
       "      <td>2</td>\n",
       "      <td>1</td>\n",
       "    </tr>\n",
       "    <tr>\n",
       "      <th>405</th>\n",
       "      <td>SFN</td>\n",
       "      <td>WAS</td>\n",
       "      <td>2</td>\n",
       "      <td>5</td>\n",
       "    </tr>\n",
       "    <tr>\n",
       "      <th>417</th>\n",
       "      <td>SFN</td>\n",
       "      <td>WAS</td>\n",
       "      <td>0</td>\n",
       "      <td>2</td>\n",
       "    </tr>\n",
       "    <tr>\n",
       "      <th>425</th>\n",
       "      <td>SFN</td>\n",
       "      <td>NYN</td>\n",
       "      <td>7</td>\n",
       "      <td>6</td>\n",
       "    </tr>\n",
       "    <tr>\n",
       "      <th>441</th>\n",
       "      <td>SFN</td>\n",
       "      <td>NYN</td>\n",
       "      <td>2</td>\n",
       "      <td>0</td>\n",
       "    </tr>\n",
       "    <tr>\n",
       "      <th>...</th>\n",
       "      <td>...</td>\n",
       "      <td>...</td>\n",
       "      <td>...</td>\n",
       "      <td>...</td>\n",
       "    </tr>\n",
       "    <tr>\n",
       "      <th>1968</th>\n",
       "      <td>HOU</td>\n",
       "      <td>SFN</td>\n",
       "      <td>1</td>\n",
       "      <td>2</td>\n",
       "    </tr>\n",
       "    <tr>\n",
       "      <th>1981</th>\n",
       "      <td>HOU</td>\n",
       "      <td>SFN</td>\n",
       "      <td>4</td>\n",
       "      <td>3</td>\n",
       "    </tr>\n",
       "    <tr>\n",
       "      <th>1996</th>\n",
       "      <td>CHN</td>\n",
       "      <td>SFN</td>\n",
       "      <td>7</td>\n",
       "      <td>0</td>\n",
       "    </tr>\n",
       "    <tr>\n",
       "      <th>2010</th>\n",
       "      <td>CHN</td>\n",
       "      <td>SFN</td>\n",
       "      <td>5</td>\n",
       "      <td>2</td>\n",
       "    </tr>\n",
       "    <tr>\n",
       "      <th>2025</th>\n",
       "      <td>CHN</td>\n",
       "      <td>SFN</td>\n",
       "      <td>0</td>\n",
       "      <td>4</td>\n",
       "    </tr>\n",
       "    <tr>\n",
       "      <th>2049</th>\n",
       "      <td>ARI</td>\n",
       "      <td>SFN</td>\n",
       "      <td>2</td>\n",
       "      <td>6</td>\n",
       "    </tr>\n",
       "    <tr>\n",
       "      <th>2064</th>\n",
       "      <td>ARI</td>\n",
       "      <td>SFN</td>\n",
       "      <td>7</td>\n",
       "      <td>2</td>\n",
       "    </tr>\n",
       "    <tr>\n",
       "      <th>2079</th>\n",
       "      <td>ARI</td>\n",
       "      <td>SFN</td>\n",
       "      <td>4</td>\n",
       "      <td>1</td>\n",
       "    </tr>\n",
       "    <tr>\n",
       "      <th>2094</th>\n",
       "      <td>SFN</td>\n",
       "      <td>SDN</td>\n",
       "      <td>7</td>\n",
       "      <td>2</td>\n",
       "    </tr>\n",
       "    <tr>\n",
       "      <th>2110</th>\n",
       "      <td>SFN</td>\n",
       "      <td>SDN</td>\n",
       "      <td>6</td>\n",
       "      <td>4</td>\n",
       "    </tr>\n",
       "    <tr>\n",
       "      <th>2125</th>\n",
       "      <td>SFN</td>\n",
       "      <td>SDN</td>\n",
       "      <td>1</td>\n",
       "      <td>3</td>\n",
       "    </tr>\n",
       "    <tr>\n",
       "      <th>2148</th>\n",
       "      <td>LAN</td>\n",
       "      <td>SFN</td>\n",
       "      <td>2</td>\n",
       "      <td>1</td>\n",
       "    </tr>\n",
       "    <tr>\n",
       "      <th>2163</th>\n",
       "      <td>LAN</td>\n",
       "      <td>SFN</td>\n",
       "      <td>3</td>\n",
       "      <td>0</td>\n",
       "    </tr>\n",
       "    <tr>\n",
       "      <th>2178</th>\n",
       "      <td>LAN</td>\n",
       "      <td>SFN</td>\n",
       "      <td>1</td>\n",
       "      <td>8</td>\n",
       "    </tr>\n",
       "    <tr>\n",
       "      <th>2194</th>\n",
       "      <td>SDN</td>\n",
       "      <td>SFN</td>\n",
       "      <td>3</td>\n",
       "      <td>8</td>\n",
       "    </tr>\n",
       "    <tr>\n",
       "      <th>2206</th>\n",
       "      <td>SDN</td>\n",
       "      <td>SFN</td>\n",
       "      <td>2</td>\n",
       "      <td>3</td>\n",
       "    </tr>\n",
       "    <tr>\n",
       "      <th>2221</th>\n",
       "      <td>SDN</td>\n",
       "      <td>SFN</td>\n",
       "      <td>1</td>\n",
       "      <td>3</td>\n",
       "    </tr>\n",
       "    <tr>\n",
       "      <th>2230</th>\n",
       "      <td>SFN</td>\n",
       "      <td>COL</td>\n",
       "      <td>8</td>\n",
       "      <td>5</td>\n",
       "    </tr>\n",
       "    <tr>\n",
       "      <th>2242</th>\n",
       "      <td>SFN</td>\n",
       "      <td>COL</td>\n",
       "      <td>9</td>\n",
       "      <td>1</td>\n",
       "    </tr>\n",
       "    <tr>\n",
       "      <th>2257</th>\n",
       "      <td>SFN</td>\n",
       "      <td>COL</td>\n",
       "      <td>6</td>\n",
       "      <td>5</td>\n",
       "    </tr>\n",
       "    <tr>\n",
       "      <th>2272</th>\n",
       "      <td>SFN</td>\n",
       "      <td>COL</td>\n",
       "      <td>12</td>\n",
       "      <td>5</td>\n",
       "    </tr>\n",
       "    <tr>\n",
       "      <th>2300</th>\n",
       "      <td>SFN</td>\n",
       "      <td>LAN</td>\n",
       "      <td>1</td>\n",
       "      <td>2</td>\n",
       "    </tr>\n",
       "    <tr>\n",
       "      <th>2317</th>\n",
       "      <td>SFN</td>\n",
       "      <td>LAN</td>\n",
       "      <td>8</td>\n",
       "      <td>5</td>\n",
       "    </tr>\n",
       "    <tr>\n",
       "      <th>2329</th>\n",
       "      <td>SFN</td>\n",
       "      <td>LAN</td>\n",
       "      <td>2</td>\n",
       "      <td>8</td>\n",
       "    </tr>\n",
       "    <tr>\n",
       "      <th>2338</th>\n",
       "      <td>SFN</td>\n",
       "      <td>ARI</td>\n",
       "      <td>1</td>\n",
       "      <td>3</td>\n",
       "    </tr>\n",
       "    <tr>\n",
       "      <th>2351</th>\n",
       "      <td>SFN</td>\n",
       "      <td>ARI</td>\n",
       "      <td>2</td>\n",
       "      <td>15</td>\n",
       "    </tr>\n",
       "    <tr>\n",
       "      <th>2368</th>\n",
       "      <td>SFN</td>\n",
       "      <td>ARI</td>\n",
       "      <td>2</td>\n",
       "      <td>5</td>\n",
       "    </tr>\n",
       "    <tr>\n",
       "      <th>2391</th>\n",
       "      <td>COL</td>\n",
       "      <td>SFN</td>\n",
       "      <td>1</td>\n",
       "      <td>3</td>\n",
       "    </tr>\n",
       "    <tr>\n",
       "      <th>2406</th>\n",
       "      <td>COL</td>\n",
       "      <td>SFN</td>\n",
       "      <td>0</td>\n",
       "      <td>7</td>\n",
       "    </tr>\n",
       "    <tr>\n",
       "      <th>2421</th>\n",
       "      <td>COL</td>\n",
       "      <td>SFN</td>\n",
       "      <td>6</td>\n",
       "      <td>3</td>\n",
       "    </tr>\n",
       "  </tbody>\n",
       "</table>\n",
       "<p>162 rows × 4 columns</p>\n",
       "</div>"
      ],
      "text/plain": [
       "     VisitingTeam HomeTeam  VisitorRunsScored  HomeRunsScore\n",
       "1             SFN      LAN                  1              2\n",
       "9             SFN      LAN                  3              4\n",
       "21            SFN      LAN                 10              0\n",
       "35            SFN      LAN                  5              7\n",
       "58            SFN      SDN                  1              3\n",
       "72            SFN      SDN                  8              4\n",
       "97            SLN      SFN                  4              5\n",
       "111           SLN      SFN                  2              3\n",
       "127           SLN      SFN                  6              1\n",
       "139           LAN      SFN                  6              1\n",
       "149           LAN      SFN                  4              5\n",
       "163           LAN      SFN                  3              4\n",
       "182           SFN      ARI                  5              2\n",
       "196           SFN      ARI                  5              3\n",
       "210           SFN      ARI                  5              6\n",
       "228           SFN      COL                  8              1\n",
       "238           SFN      COL                  6              3\n",
       "253           SFN      COL                  2             10\n",
       "283           ATL      SFN                  4              1\n",
       "296           ATL      SFN                  5              2\n",
       "311           ATL      SFN                  9              6\n",
       "334           SFN      PIT                  3              2\n",
       "347           SFN      PIT                  0              2\n",
       "359           SFN      PIT                  5              2\n",
       "375           SFN      WAS                  0              3\n",
       "390           SFN      WAS                  2              1\n",
       "405           SFN      WAS                  2              5\n",
       "417           SFN      WAS                  0              2\n",
       "425           SFN      NYN                  7              6\n",
       "441           SFN      NYN                  2              0\n",
       "...           ...      ...                ...            ...\n",
       "1968          HOU      SFN                  1              2\n",
       "1981          HOU      SFN                  4              3\n",
       "1996          CHN      SFN                  7              0\n",
       "2010          CHN      SFN                  5              2\n",
       "2025          CHN      SFN                  0              4\n",
       "2049          ARI      SFN                  2              6\n",
       "2064          ARI      SFN                  7              2\n",
       "2079          ARI      SFN                  4              1\n",
       "2094          SFN      SDN                  7              2\n",
       "2110          SFN      SDN                  6              4\n",
       "2125          SFN      SDN                  1              3\n",
       "2148          LAN      SFN                  2              1\n",
       "2163          LAN      SFN                  3              0\n",
       "2178          LAN      SFN                  1              8\n",
       "2194          SDN      SFN                  3              8\n",
       "2206          SDN      SFN                  2              3\n",
       "2221          SDN      SFN                  1              3\n",
       "2230          SFN      COL                  8              5\n",
       "2242          SFN      COL                  9              1\n",
       "2257          SFN      COL                  6              5\n",
       "2272          SFN      COL                 12              5\n",
       "2300          SFN      LAN                  1              2\n",
       "2317          SFN      LAN                  8              5\n",
       "2329          SFN      LAN                  2              8\n",
       "2338          SFN      ARI                  1              3\n",
       "2351          SFN      ARI                  2             15\n",
       "2368          SFN      ARI                  2              5\n",
       "2391          COL      SFN                  1              3\n",
       "2406          COL      SFN                  0              7\n",
       "2421          COL      SFN                  6              3\n",
       "\n",
       "[162 rows x 4 columns]"
      ]
     },
     "execution_count": 193,
     "metadata": {},
     "output_type": "execute_result"
    }
   ],
   "source": [
    "SF2011 = games_2011.loc[(games_2011.HomeTeam=='SFN') | (games_2011.VisitingTeam=='SFN'), \n",
    "                   (\"VisitingTeam\", \"HomeTeam\", \"VisitorRunsScored\", \"HomeRunsScore\")]\n",
    "SF2011 "
   ]
  },
  {
   "cell_type": "markdown",
   "metadata": {},
   "source": [
    "Calculate SF score differences"
   ]
  },
  {
   "cell_type": "code",
   "execution_count": 194,
   "metadata": {
    "collapsed": false
   },
   "outputs": [],
   "source": [
    "SF2011 = SF2011.assign(ScoreDiff=np.where(SF2011.HomeTeam=='SFN', SF2011.HomeRunsScore - SF2011.VisitorRunsScored, \n",
    "                                 SF2011.VisitorRunsScored - SF2011.HomeRunsScore))\n",
    "SF2011 = SF2011.assign(Outcome=(SF2011.ScoreDiff > 0).replace({True:'win', False:'loss'}))"
   ]
  },
  {
   "cell_type": "code",
   "execution_count": 195,
   "metadata": {
    "collapsed": false
   },
   "outputs": [
    {
     "data": {
      "text/html": [
       "<div>\n",
       "<table border=\"1\" class=\"dataframe\">\n",
       "  <thead>\n",
       "    <tr style=\"text-align: right;\">\n",
       "      <th>ScoreDiff</th>\n",
       "      <th>count</th>\n",
       "      <th>mean</th>\n",
       "      <th>std</th>\n",
       "      <th>min</th>\n",
       "      <th>25%</th>\n",
       "      <th>50%</th>\n",
       "      <th>75%</th>\n",
       "      <th>max</th>\n",
       "    </tr>\n",
       "    <tr>\n",
       "      <th>Outcome</th>\n",
       "      <th></th>\n",
       "      <th></th>\n",
       "      <th></th>\n",
       "      <th></th>\n",
       "      <th></th>\n",
       "      <th></th>\n",
       "      <th></th>\n",
       "      <th></th>\n",
       "    </tr>\n",
       "  </thead>\n",
       "  <tbody>\n",
       "    <tr>\n",
       "      <th>loss</th>\n",
       "      <td>76</td>\n",
       "      <td>-3.223684</td>\n",
       "      <td>2.436384</td>\n",
       "      <td>-13</td>\n",
       "      <td>-5</td>\n",
       "      <td>-3</td>\n",
       "      <td>-1</td>\n",
       "      <td>-1</td>\n",
       "    </tr>\n",
       "    <tr>\n",
       "      <th>win</th>\n",
       "      <td>86</td>\n",
       "      <td>2.755814</td>\n",
       "      <td>2.233099</td>\n",
       "      <td>1</td>\n",
       "      <td>1</td>\n",
       "      <td>2</td>\n",
       "      <td>3</td>\n",
       "      <td>12</td>\n",
       "    </tr>\n",
       "  </tbody>\n",
       "</table>\n",
       "</div>"
      ],
      "text/plain": [
       "ScoreDiff  count      mean       std  min  25%  50%  75%  max\n",
       "Outcome                                                      \n",
       "loss          76 -3.223684  2.436384  -13   -5   -3   -1   -1\n",
       "win           86  2.755814  2.233099    1    1    2    3   12"
      ]
     },
     "execution_count": 195,
     "metadata": {},
     "output_type": "execute_result"
    }
   ],
   "source": [
    "SF2011.groupby('Outcome').apply(lambda x: x.ScoreDiff.describe())"
   ]
  },
  {
   "cell_type": "code",
   "execution_count": 196,
   "metadata": {
    "collapsed": false
   },
   "outputs": [
    {
     "data": {
      "text/plain": [
       "array([<matplotlib.axes._subplots.AxesSubplot object at 0x112605198>,\n",
       "       <matplotlib.axes._subplots.AxesSubplot object at 0x116135ef0>], dtype=object)"
      ]
     },
     "execution_count": 196,
     "metadata": {},
     "output_type": "execute_result"
    },
    {
     "data": {
      "image/png": "[encoded data removed]",
      "text/plain": [
       "<matplotlib.figure.Figure at 0x1156a8e80>"
      ]
     },
     "metadata": {},
     "output_type": "display_data"
    }
   ],
   "source": [
    "SF2011.hist(column='ScoreDiff', by='Outcome')"
   ]
  },
  {
   "cell_type": "markdown",
   "metadata": {},
   "source": [
    "Losses were decided by larger margin than wins, leading to overperformance versus Pythagorean formula."
   ]
  },
  {
   "cell_type": "markdown",
   "metadata": {},
   "source": [
    "### Pythagorean wins exponent model"
   ]
  },
  {
   "cell_type": "code",
   "execution_count": 253,
   "metadata": {
    "collapsed": false
   },
   "outputs": [
    {
     "name": "stdout",
     "output_type": "stream",
     "text": [
      "Assigned NUTS to exp_interval\n",
      " [-----------------100%-----------------] 2000 of 2000 complete in 1.9 sec"
     ]
    }
   ],
   "source": [
    "with pm.Model() as pythag_model:\n",
    "    \n",
    "    exp = pm.Uniform('exp', 0, 5)\n",
    "    \n",
    "    pyth_wins = pm.Deterministic('pyth_wins', 162 * R**exp / (RA**exp + R**exp))\n",
    "    \n",
    "    wins = pm.Poisson('wins', pyth_wins, observed=since_2001.W.values)\n",
    "    \n",
    "    trace = pm.sample(2000)"
   ]
  },
  {
   "cell_type": "code",
   "execution_count": 254,
   "metadata": {
    "collapsed": false
   },
   "outputs": [
    {
     "data": {
      "text/plain": [
       "array([[<matplotlib.axes._subplots.AxesSubplot object at 0x120324dd8>,\n",
       "        <matplotlib.axes._subplots.AxesSubplot object at 0x11db84d68>]], dtype=object)"
      ]
     },
     "execution_count": 254,
     "metadata": {},
     "output_type": "execute_result"
    },
    {
     "data": {
      "image/png": "[encoded data removed]",
      "text/plain": [
       "<matplotlib.figure.Figure at 0x11bfa2ef0>"
      ]
     },
     "metadata": {},
     "output_type": "display_data"
    }
   ],
   "source": [
    "pm.traceplot(trace, vars=['exp'])"
   ]
  },
  {
   "cell_type": "code",
   "execution_count": 255,
   "metadata": {
    "collapsed": false
   },
   "outputs": [
    {
     "name": "stdout",
     "output_type": "stream",
     "text": [
      "\n",
      "exp:\n",
      "\n",
      "  Mean             SD               MC Error         95% HPD interval\n",
      "  -------------------------------------------------------------------\n",
      "  \n",
      "  1.893            0.079            0.003            [1.741, 2.040]\n",
      "\n",
      "  Posterior quantiles:\n",
      "  2.5            25             50             75             97.5\n",
      "  |--------------|==============|==============|--------------|\n",
      "  \n",
      "  1.744          1.842          1.892          1.941          2.046\n",
      "\n"
     ]
    }
   ],
   "source": [
    "pm.summary(trace, vars=['exp'])"
   ]
  },
  {
   "cell_type": "markdown",
   "metadata": {},
   "source": [
    "### One-run games"
   ]
  },
  {
   "cell_type": "code",
   "execution_count": 203,
   "metadata": {
    "collapsed": false
   },
   "outputs": [],
   "source": [
    "results = games_2011[['VisitingTeam', 'HomeTeam', 'VisitorRunsScored', 'HomeRunsScore']]"
   ]
  },
  {
   "cell_type": "code",
   "execution_count": 204,
   "metadata": {
    "collapsed": false
   },
   "outputs": [],
   "source": [
    "results = results.assign(Winner=results.HomeTeam.where(results.HomeRunsScore > results.VisitorRunsScored, \n",
    "                                                       results.VisitingTeam),\n",
    "                        Difference=np.abs(results.VisitorRunsScored - results.HomeRunsScore))"
   ]
  },
  {
   "cell_type": "code",
   "execution_count": 205,
   "metadata": {
    "collapsed": false
   },
   "outputs": [
    {
     "data": {
      "text/html": [
       "<div>\n",
       "<table border=\"1\" class=\"dataframe\">\n",
       "  <thead>\n",
       "    <tr style=\"text-align: right;\">\n",
       "      <th></th>\n",
       "      <th>VisitingTeam</th>\n",
       "      <th>HomeTeam</th>\n",
       "      <th>VisitorRunsScored</th>\n",
       "      <th>HomeRunsScore</th>\n",
       "      <th>Difference</th>\n",
       "      <th>Winner</th>\n",
       "    </tr>\n",
       "  </thead>\n",
       "  <tbody>\n",
       "    <tr>\n",
       "      <th>0</th>\n",
       "      <td>MIL</td>\n",
       "      <td>CIN</td>\n",
       "      <td>6</td>\n",
       "      <td>7</td>\n",
       "      <td>1</td>\n",
       "      <td>CIN</td>\n",
       "    </tr>\n",
       "    <tr>\n",
       "      <th>1</th>\n",
       "      <td>SFN</td>\n",
       "      <td>LAN</td>\n",
       "      <td>1</td>\n",
       "      <td>2</td>\n",
       "      <td>1</td>\n",
       "      <td>LAN</td>\n",
       "    </tr>\n",
       "    <tr>\n",
       "      <th>2</th>\n",
       "      <td>SDN</td>\n",
       "      <td>SLN</td>\n",
       "      <td>5</td>\n",
       "      <td>3</td>\n",
       "      <td>2</td>\n",
       "      <td>SDN</td>\n",
       "    </tr>\n",
       "    <tr>\n",
       "      <th>3</th>\n",
       "      <td>ATL</td>\n",
       "      <td>WAS</td>\n",
       "      <td>2</td>\n",
       "      <td>0</td>\n",
       "      <td>2</td>\n",
       "      <td>ATL</td>\n",
       "    </tr>\n",
       "    <tr>\n",
       "      <th>4</th>\n",
       "      <td>ANA</td>\n",
       "      <td>KCA</td>\n",
       "      <td>4</td>\n",
       "      <td>2</td>\n",
       "      <td>2</td>\n",
       "      <td>ANA</td>\n",
       "    </tr>\n",
       "  </tbody>\n",
       "</table>\n",
       "</div>"
      ],
      "text/plain": [
       "  VisitingTeam HomeTeam  VisitorRunsScored  HomeRunsScore  Difference Winner\n",
       "0          MIL      CIN                  6              7           1    CIN\n",
       "1          SFN      LAN                  1              2           1    LAN\n",
       "2          SDN      SLN                  5              3           2    SDN\n",
       "3          ATL      WAS                  2              0           2    ATL\n",
       "4          ANA      KCA                  4              2           2    ANA"
      ]
     },
     "execution_count": 205,
     "metadata": {},
     "output_type": "execute_result"
    }
   ],
   "source": [
    "results.head()"
   ]
  },
  {
   "cell_type": "code",
   "execution_count": 206,
   "metadata": {
    "collapsed": false
   },
   "outputs": [],
   "source": [
    "one_run_games = results.query('Difference==1').Winner.value_counts()\n",
    "one_run_games.name = 'OneRunGames'"
   ]
  },
  {
   "cell_type": "markdown",
   "metadata": {},
   "source": [
    "Merge with residuals table"
   ]
  },
  {
   "cell_type": "code",
   "execution_count": 207,
   "metadata": {
    "collapsed": false
   },
   "outputs": [
    {
     "data": {
      "text/plain": [
       "SFN    33\n",
       "CLE    30\n",
       "MIL    30\n",
       "DET    29\n",
       "CIN    29\n",
       "Name: OneRunGames, dtype: int64"
      ]
     },
     "execution_count": 207,
     "metadata": {},
     "output_type": "execute_result"
    }
   ],
   "source": [
    "one_run_games.head()"
   ]
  },
  {
   "cell_type": "code",
   "execution_count": 208,
   "metadata": {
    "collapsed": false
   },
   "outputs": [],
   "source": [
    "teams_2011 = since_2001.query('yearID==2011').set_index('teamID').join(one_run_games)"
   ]
  },
  {
   "cell_type": "code",
   "execution_count": 211,
   "metadata": {
    "collapsed": false
   },
   "outputs": [],
   "source": [
    "teams_2011 = teams_2011.assign(pythResid=teams_2011.W - teams_2011.pythWins)"
   ]
  },
  {
   "cell_type": "code",
   "execution_count": 212,
   "metadata": {
    "collapsed": false
   },
   "outputs": [
    {
     "data": {
      "text/plain": [
       "<matplotlib.axes._subplots.AxesSubplot at 0x116c442e8>"
      ]
     },
     "execution_count": 212,
     "metadata": {},
     "output_type": "execute_result"
    },
    {
     "data": {
      "image/png": "[encoded data removed]",
      "text/plain": [
       "<matplotlib.figure.Figure at 0x116c29f98>"
      ]
     },
     "metadata": {},
     "output_type": "display_data"
    }
   ],
   "source": [
    "sns.regplot(teams_2011.OneRunGames, teams_2011.pythResid, 'ro')"
   ]
  },
  {
   "cell_type": "markdown",
   "metadata": {},
   "source": [
    "Relationship between one-run wins and relief pitching"
   ]
  },
  {
   "cell_type": "code",
   "execution_count": 213,
   "metadata": {
    "collapsed": false
   },
   "outputs": [
    {
     "data": {
      "text/html": [
       "<div>\n",
       "<table border=\"1\" class=\"dataframe\">\n",
       "  <thead>\n",
       "    <tr style=\"text-align: right;\">\n",
       "      <th></th>\n",
       "      <th>playerID</th>\n",
       "      <th>yearID</th>\n",
       "      <th>stint</th>\n",
       "      <th>teamID</th>\n",
       "      <th>lgID</th>\n",
       "      <th>W</th>\n",
       "      <th>L</th>\n",
       "      <th>G</th>\n",
       "      <th>GS</th>\n",
       "      <th>CG</th>\n",
       "      <th>...</th>\n",
       "      <th>IBB</th>\n",
       "      <th>WP</th>\n",
       "      <th>HBP</th>\n",
       "      <th>BK</th>\n",
       "      <th>BFP</th>\n",
       "      <th>GF</th>\n",
       "      <th>R</th>\n",
       "      <th>SH</th>\n",
       "      <th>SF</th>\n",
       "      <th>GIDP</th>\n",
       "    </tr>\n",
       "  </thead>\n",
       "  <tbody>\n",
       "    <tr>\n",
       "      <th>0</th>\n",
       "      <td>bechtge01</td>\n",
       "      <td>1871</td>\n",
       "      <td>1</td>\n",
       "      <td>PH1</td>\n",
       "      <td>NaN</td>\n",
       "      <td>1</td>\n",
       "      <td>2</td>\n",
       "      <td>3</td>\n",
       "      <td>3</td>\n",
       "      <td>2</td>\n",
       "      <td>...</td>\n",
       "      <td>NaN</td>\n",
       "      <td>NaN</td>\n",
       "      <td>NaN</td>\n",
       "      <td>0</td>\n",
       "      <td>NaN</td>\n",
       "      <td>NaN</td>\n",
       "      <td>42</td>\n",
       "      <td>NaN</td>\n",
       "      <td>NaN</td>\n",
       "      <td>NaN</td>\n",
       "    </tr>\n",
       "    <tr>\n",
       "      <th>1</th>\n",
       "      <td>brainas01</td>\n",
       "      <td>1871</td>\n",
       "      <td>1</td>\n",
       "      <td>WS3</td>\n",
       "      <td>NaN</td>\n",
       "      <td>12</td>\n",
       "      <td>15</td>\n",
       "      <td>30</td>\n",
       "      <td>30</td>\n",
       "      <td>30</td>\n",
       "      <td>...</td>\n",
       "      <td>NaN</td>\n",
       "      <td>NaN</td>\n",
       "      <td>NaN</td>\n",
       "      <td>0</td>\n",
       "      <td>NaN</td>\n",
       "      <td>NaN</td>\n",
       "      <td>292</td>\n",
       "      <td>NaN</td>\n",
       "      <td>NaN</td>\n",
       "      <td>NaN</td>\n",
       "    </tr>\n",
       "    <tr>\n",
       "      <th>2</th>\n",
       "      <td>fergubo01</td>\n",
       "      <td>1871</td>\n",
       "      <td>1</td>\n",
       "      <td>NY2</td>\n",
       "      <td>NaN</td>\n",
       "      <td>0</td>\n",
       "      <td>0</td>\n",
       "      <td>1</td>\n",
       "      <td>0</td>\n",
       "      <td>0</td>\n",
       "      <td>...</td>\n",
       "      <td>NaN</td>\n",
       "      <td>NaN</td>\n",
       "      <td>NaN</td>\n",
       "      <td>0</td>\n",
       "      <td>NaN</td>\n",
       "      <td>NaN</td>\n",
       "      <td>9</td>\n",
       "      <td>NaN</td>\n",
       "      <td>NaN</td>\n",
       "      <td>NaN</td>\n",
       "    </tr>\n",
       "    <tr>\n",
       "      <th>3</th>\n",
       "      <td>fishech01</td>\n",
       "      <td>1871</td>\n",
       "      <td>1</td>\n",
       "      <td>RC1</td>\n",
       "      <td>NaN</td>\n",
       "      <td>4</td>\n",
       "      <td>16</td>\n",
       "      <td>24</td>\n",
       "      <td>24</td>\n",
       "      <td>22</td>\n",
       "      <td>...</td>\n",
       "      <td>NaN</td>\n",
       "      <td>NaN</td>\n",
       "      <td>NaN</td>\n",
       "      <td>0</td>\n",
       "      <td>NaN</td>\n",
       "      <td>NaN</td>\n",
       "      <td>257</td>\n",
       "      <td>NaN</td>\n",
       "      <td>NaN</td>\n",
       "      <td>NaN</td>\n",
       "    </tr>\n",
       "    <tr>\n",
       "      <th>4</th>\n",
       "      <td>fleetfr01</td>\n",
       "      <td>1871</td>\n",
       "      <td>1</td>\n",
       "      <td>NY2</td>\n",
       "      <td>NaN</td>\n",
       "      <td>0</td>\n",
       "      <td>1</td>\n",
       "      <td>1</td>\n",
       "      <td>1</td>\n",
       "      <td>1</td>\n",
       "      <td>...</td>\n",
       "      <td>NaN</td>\n",
       "      <td>NaN</td>\n",
       "      <td>NaN</td>\n",
       "      <td>0</td>\n",
       "      <td>NaN</td>\n",
       "      <td>NaN</td>\n",
       "      <td>21</td>\n",
       "      <td>NaN</td>\n",
       "      <td>NaN</td>\n",
       "      <td>NaN</td>\n",
       "    </tr>\n",
       "  </tbody>\n",
       "</table>\n",
       "<p>5 rows × 30 columns</p>\n",
       "</div>"
      ],
      "text/plain": [
       "    playerID  yearID  stint teamID lgID   W   L   G  GS  CG  ...   IBB  WP  \\\n",
       "0  bechtge01    1871      1    PH1  NaN   1   2   3   3   2  ...   NaN NaN   \n",
       "1  brainas01    1871      1    WS3  NaN  12  15  30  30  30  ...   NaN NaN   \n",
       "2  fergubo01    1871      1    NY2  NaN   0   0   1   0   0  ...   NaN NaN   \n",
       "3  fishech01    1871      1    RC1  NaN   4  16  24  24  22  ...   NaN NaN   \n",
       "4  fleetfr01    1871      1    NY2  NaN   0   1   1   1   1  ...   NaN NaN   \n",
       "\n",
       "   HBP  BK  BFP  GF    R  SH  SF  GIDP  \n",
       "0  NaN   0  NaN NaN   42 NaN NaN   NaN  \n",
       "1  NaN   0  NaN NaN  292 NaN NaN   NaN  \n",
       "2  NaN   0  NaN NaN    9 NaN NaN   NaN  \n",
       "3  NaN   0  NaN NaN  257 NaN NaN   NaN  \n",
       "4  NaN   0  NaN NaN   21 NaN NaN   NaN  \n",
       "\n",
       "[5 rows x 30 columns]"
      ]
     },
     "execution_count": 213,
     "metadata": {},
     "output_type": "execute_result"
    }
   ],
   "source": [
    "pitching = pd.read_csv('../data/lahman-csv_2015-01-24/Pitching.csv')\n",
    "pitching.head()"
   ]
  },
  {
   "cell_type": "code",
   "execution_count": 216,
   "metadata": {
    "collapsed": false
   },
   "outputs": [],
   "source": [
    "top_closers = pitching.query('GF > 50 & ERA < 2.5')[[\"playerID\", \"yearID\", \"teamID\"]]"
   ]
  },
  {
   "cell_type": "code",
   "execution_count": 223,
   "metadata": {
    "collapsed": false
   },
   "outputs": [
    {
     "data": {
      "text/html": [
       "<div>\n",
       "<table border=\"1\" class=\"dataframe\">\n",
       "  <thead>\n",
       "    <tr style=\"text-align: right;\">\n",
       "      <th></th>\n",
       "      <th>playerID</th>\n",
       "      <th>yearID</th>\n",
       "    </tr>\n",
       "    <tr>\n",
       "      <th>teamID</th>\n",
       "      <th></th>\n",
       "      <th></th>\n",
       "    </tr>\n",
       "  </thead>\n",
       "  <tbody>\n",
       "    <tr>\n",
       "      <th>MIL</th>\n",
       "      <td>axforjo01</td>\n",
       "      <td>2011</td>\n",
       "    </tr>\n",
       "    <tr>\n",
       "      <th>SDN</th>\n",
       "      <td>bellhe01</td>\n",
       "      <td>2011</td>\n",
       "    </tr>\n",
       "    <tr>\n",
       "      <th>CIN</th>\n",
       "      <td>cordefr01</td>\n",
       "      <td>2011</td>\n",
       "    </tr>\n",
       "    <tr>\n",
       "      <th>TBA</th>\n",
       "      <td>farnsky01</td>\n",
       "      <td>2011</td>\n",
       "    </tr>\n",
       "    <tr>\n",
       "      <th>PIT</th>\n",
       "      <td>hanrajo01</td>\n",
       "      <td>2011</td>\n",
       "    </tr>\n",
       "    <tr>\n",
       "      <th>ATL</th>\n",
       "      <td>kimbrcr01</td>\n",
       "      <td>2011</td>\n",
       "    </tr>\n",
       "    <tr>\n",
       "      <th>ARI</th>\n",
       "      <td>putzjj01</td>\n",
       "      <td>2011</td>\n",
       "    </tr>\n",
       "    <tr>\n",
       "      <th>NYA</th>\n",
       "      <td>riverma01</td>\n",
       "      <td>2011</td>\n",
       "    </tr>\n",
       "    <tr>\n",
       "      <th>DET</th>\n",
       "      <td>valvejo01</td>\n",
       "      <td>2011</td>\n",
       "    </tr>\n",
       "  </tbody>\n",
       "</table>\n",
       "</div>"
      ],
      "text/plain": [
       "         playerID  yearID\n",
       "teamID                   \n",
       "MIL     axforjo01    2011\n",
       "SDN      bellhe01    2011\n",
       "CIN     cordefr01    2011\n",
       "TBA     farnsky01    2011\n",
       "PIT     hanrajo01    2011\n",
       "ATL     kimbrcr01    2011\n",
       "ARI      putzjj01    2011\n",
       "NYA     riverma01    2011\n",
       "DET     valvejo01    2011"
      ]
     },
     "execution_count": 223,
     "metadata": {},
     "output_type": "execute_result"
    }
   ],
   "source": [
    "top_closers[top_closers.yearID==2011].set_index('teamID')"
   ]
  },
  {
   "cell_type": "code",
   "execution_count": 234,
   "metadata": {
    "collapsed": false
   },
   "outputs": [
    {
     "data": {
      "text/html": [
       "<div>\n",
       "<table border=\"1\" class=\"dataframe\">\n",
       "  <thead>\n",
       "    <tr style=\"text-align: right;\">\n",
       "      <th></th>\n",
       "      <th>yearID</th>\n",
       "      <th>lgID</th>\n",
       "      <th>G</th>\n",
       "      <th>W</th>\n",
       "      <th>L</th>\n",
       "      <th>R</th>\n",
       "      <th>RA</th>\n",
       "      <th>RD</th>\n",
       "      <th>Wpct</th>\n",
       "      <th>pythWins</th>\n",
       "      <th>OneRunGames</th>\n",
       "      <th>pythResid</th>\n",
       "    </tr>\n",
       "    <tr>\n",
       "      <th>teamID</th>\n",
       "      <th></th>\n",
       "      <th></th>\n",
       "      <th></th>\n",
       "      <th></th>\n",
       "      <th></th>\n",
       "      <th></th>\n",
       "      <th></th>\n",
       "      <th></th>\n",
       "      <th></th>\n",
       "      <th></th>\n",
       "      <th></th>\n",
       "      <th></th>\n",
       "    </tr>\n",
       "  </thead>\n",
       "  <tbody>\n",
       "    <tr>\n",
       "      <th>ARI</th>\n",
       "      <td>2011</td>\n",
       "      <td>NL</td>\n",
       "      <td>162</td>\n",
       "      <td>94</td>\n",
       "      <td>68</td>\n",
       "      <td>731</td>\n",
       "      <td>662</td>\n",
       "      <td>69</td>\n",
       "      <td>0.580247</td>\n",
       "      <td>89.004768</td>\n",
       "      <td>28</td>\n",
       "      <td>4.995232</td>\n",
       "    </tr>\n",
       "    <tr>\n",
       "      <th>ATL</th>\n",
       "      <td>2011</td>\n",
       "      <td>NL</td>\n",
       "      <td>162</td>\n",
       "      <td>89</td>\n",
       "      <td>73</td>\n",
       "      <td>641</td>\n",
       "      <td>605</td>\n",
       "      <td>36</td>\n",
       "      <td>0.549383</td>\n",
       "      <td>85.676674</td>\n",
       "      <td>29</td>\n",
       "      <td>3.323326</td>\n",
       "    </tr>\n",
       "    <tr>\n",
       "      <th>BAL</th>\n",
       "      <td>2011</td>\n",
       "      <td>AL</td>\n",
       "      <td>162</td>\n",
       "      <td>69</td>\n",
       "      <td>93</td>\n",
       "      <td>708</td>\n",
       "      <td>860</td>\n",
       "      <td>-152</td>\n",
       "      <td>0.425926</td>\n",
       "      <td>65.442118</td>\n",
       "      <td>22</td>\n",
       "      <td>3.557882</td>\n",
       "    </tr>\n",
       "    <tr>\n",
       "      <th>BOS</th>\n",
       "      <td>2011</td>\n",
       "      <td>AL</td>\n",
       "      <td>162</td>\n",
       "      <td>90</td>\n",
       "      <td>72</td>\n",
       "      <td>875</td>\n",
       "      <td>737</td>\n",
       "      <td>138</td>\n",
       "      <td>0.555556</td>\n",
       "      <td>94.767588</td>\n",
       "      <td>19</td>\n",
       "      <td>-4.767588</td>\n",
       "    </tr>\n",
       "    <tr>\n",
       "      <th>CHA</th>\n",
       "      <td>2011</td>\n",
       "      <td>AL</td>\n",
       "      <td>162</td>\n",
       "      <td>79</td>\n",
       "      <td>83</td>\n",
       "      <td>654</td>\n",
       "      <td>706</td>\n",
       "      <td>-52</td>\n",
       "      <td>0.487654</td>\n",
       "      <td>74.814925</td>\n",
       "      <td>24</td>\n",
       "      <td>4.185075</td>\n",
       "    </tr>\n",
       "  </tbody>\n",
       "</table>\n",
       "</div>"
      ],
      "text/plain": [
       "        yearID lgID    G   W   L    R   RA   RD      Wpct   pythWins  \\\n",
       "teamID                                                                 \n",
       "ARI       2011   NL  162  94  68  731  662   69  0.580247  89.004768   \n",
       "ATL       2011   NL  162  89  73  641  605   36  0.549383  85.676674   \n",
       "BAL       2011   AL  162  69  93  708  860 -152  0.425926  65.442118   \n",
       "BOS       2011   AL  162  90  72  875  737  138  0.555556  94.767588   \n",
       "CHA       2011   AL  162  79  83  654  706  -52  0.487654  74.814925   \n",
       "\n",
       "        OneRunGames  pythResid  \n",
       "teamID                          \n",
       "ARI              28   4.995232  \n",
       "ATL              29   3.323326  \n",
       "BAL              22   3.557882  \n",
       "BOS              19  -4.767588  \n",
       "CHA              24   4.185075  "
      ]
     },
     "execution_count": 234,
     "metadata": {},
     "output_type": "execute_result"
    }
   ],
   "source": [
    "teams_2011.head()"
   ]
  },
  {
   "cell_type": "code",
   "execution_count": 241,
   "metadata": {
    "collapsed": false
   },
   "outputs": [],
   "source": [
    "top_closers_merged = top_closers[top_closers.yearID==2011].set_index('teamID').join(teams_2011, lsuffix='_a', rsuffix='_b')"
   ]
  },
  {
   "cell_type": "code",
   "execution_count": 242,
   "metadata": {
    "collapsed": false
   },
   "outputs": [
    {
     "data": {
      "text/plain": [
       "count    9.000000\n",
       "mean     0.464949\n",
       "std      5.166120\n",
       "min     -7.578614\n",
       "25%     -3.669926\n",
       "50%      3.323326\n",
       "75%      4.995232\n",
       "max      5.802142\n",
       "Name: pythResid, dtype: float64"
      ]
     },
     "execution_count": 242,
     "metadata": {},
     "output_type": "execute_result"
    }
   ],
   "source": [
    "top_closers_merged.pythResid.describe()"
   ]
  },
  {
   "cell_type": "code",
   "execution_count": null,
   "metadata": {
    "collapsed": true
   },
   "outputs": [],
   "source": []
  }
 ],
 "metadata": {
  "kernelspec": {
   "display_name": "Python 3",
   "language": "python",
   "name": "python3"
  },
  "language_info": {
   "codemirror_mode": {
    "name": "ipython",
    "version": 3
   },
   "file_extension": ".py",
   "mimetype": "text/x-python",
   "name": "python",
   "nbconvert_exporter": "python",
   "pygments_lexer": "ipython3",
   "version": "3.5.1"
  }
 },
 "nbformat": 4,
 "nbformat_minor": 0
}
