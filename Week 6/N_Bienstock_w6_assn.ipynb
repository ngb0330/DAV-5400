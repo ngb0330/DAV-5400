{
 "cells": [
  {
   "cell_type": "markdown",
   "metadata": {},
   "source": [
    "# Week 6 Assignment\n",
    "## Diamonds Dataset\n",
    "The diamonds dataset contains information about approximately 54,000 diamonds. <br>\n",
    "The dataset contains 11 columns. <br>\n",
    "The dataset is from the R programming language, and its dictionary can be found here: <link> https://ggplot2.tidyverse.org/reference/diamonds.html </link> <br>\n",
    "The data is analyzed using the pandas library. "
   ]
  },
  {
   "cell_type": "markdown",
   "metadata": {},
   "source": [
    "### Problem 0\n",
    "Load the diamonds dataset, so it can be analyzed. <br>\n",
    "I uploaded the diamonds dataset to my github account, and used pandas read_csv function to read the diamonds.csv file into a pandas dataframe. <br>\n",
    "I store the dataframe in a variable called diamonds. <br>\n",
    "I then call the head method to display the first 5 rows of the diamonds dataset, and insure that the load worked properly."
   ]
  },
  {
   "cell_type": "code",
   "execution_count": 1,
   "metadata": {},
   "outputs": [],
   "source": [
    "import pandas as pd\n",
    "# read csv data into dataframe.\n",
    "diamonds = pd.read_csv('https://raw.githubusercontent.com/ngb0330/DAV-5400/master/Week%206/diamonds.csv')"
   ]
  },
  {
   "cell_type": "code",
   "execution_count": 2,
   "metadata": {},
   "outputs": [
    {
     "data": {
      "text/html": [
       "<div>\n",
       "<style scoped>\n",
       "    .dataframe tbody tr th:only-of-type {\n",
       "        vertical-align: middle;\n",
       "    }\n",
       "\n",
       "    .dataframe tbody tr th {\n",
       "        vertical-align: top;\n",
       "    }\n",
       "\n",
       "    .dataframe thead th {\n",
       "        text-align: right;\n",
       "    }\n",
       "</style>\n",
       "<table border=\"1\" class=\"dataframe\">\n",
       "  <thead>\n",
       "    <tr style=\"text-align: right;\">\n",
       "      <th></th>\n",
       "      <th>carat</th>\n",
       "      <th>cut</th>\n",
       "      <th>color</th>\n",
       "      <th>clarity</th>\n",
       "      <th>depth</th>\n",
       "      <th>table</th>\n",
       "      <th>price</th>\n",
       "      <th>x</th>\n",
       "      <th>y</th>\n",
       "      <th>z</th>\n",
       "    </tr>\n",
       "  </thead>\n",
       "  <tbody>\n",
       "    <tr>\n",
       "      <th>0</th>\n",
       "      <td>0.23</td>\n",
       "      <td>Ideal</td>\n",
       "      <td>E</td>\n",
       "      <td>SI2</td>\n",
       "      <td>61.5</td>\n",
       "      <td>55.0</td>\n",
       "      <td>326</td>\n",
       "      <td>3.95</td>\n",
       "      <td>3.98</td>\n",
       "      <td>2.43</td>\n",
       "    </tr>\n",
       "    <tr>\n",
       "      <th>1</th>\n",
       "      <td>0.21</td>\n",
       "      <td>Premium</td>\n",
       "      <td>E</td>\n",
       "      <td>SI1</td>\n",
       "      <td>59.8</td>\n",
       "      <td>61.0</td>\n",
       "      <td>326</td>\n",
       "      <td>3.89</td>\n",
       "      <td>3.84</td>\n",
       "      <td>2.31</td>\n",
       "    </tr>\n",
       "    <tr>\n",
       "      <th>2</th>\n",
       "      <td>0.23</td>\n",
       "      <td>Good</td>\n",
       "      <td>E</td>\n",
       "      <td>VS1</td>\n",
       "      <td>56.9</td>\n",
       "      <td>65.0</td>\n",
       "      <td>327</td>\n",
       "      <td>4.05</td>\n",
       "      <td>4.07</td>\n",
       "      <td>2.31</td>\n",
       "    </tr>\n",
       "    <tr>\n",
       "      <th>3</th>\n",
       "      <td>0.29</td>\n",
       "      <td>Premium</td>\n",
       "      <td>I</td>\n",
       "      <td>VS2</td>\n",
       "      <td>62.4</td>\n",
       "      <td>58.0</td>\n",
       "      <td>334</td>\n",
       "      <td>4.20</td>\n",
       "      <td>4.23</td>\n",
       "      <td>2.63</td>\n",
       "    </tr>\n",
       "    <tr>\n",
       "      <th>4</th>\n",
       "      <td>0.31</td>\n",
       "      <td>Good</td>\n",
       "      <td>J</td>\n",
       "      <td>SI2</td>\n",
       "      <td>63.3</td>\n",
       "      <td>58.0</td>\n",
       "      <td>335</td>\n",
       "      <td>4.34</td>\n",
       "      <td>4.35</td>\n",
       "      <td>2.75</td>\n",
       "    </tr>\n",
       "  </tbody>\n",
       "</table>\n",
       "</div>"
      ],
      "text/plain": [
       "   carat      cut color clarity  depth  table  price     x     y     z\n",
       "0   0.23    Ideal     E     SI2   61.5   55.0    326  3.95  3.98  2.43\n",
       "1   0.21  Premium     E     SI1   59.8   61.0    326  3.89  3.84  2.31\n",
       "2   0.23     Good     E     VS1   56.9   65.0    327  4.05  4.07  2.31\n",
       "3   0.29  Premium     I     VS2   62.4   58.0    334  4.20  4.23  2.63\n",
       "4   0.31     Good     J     SI2   63.3   58.0    335  4.34  4.35  2.75"
      ]
     },
     "execution_count": 2,
     "metadata": {},
     "output_type": "execute_result"
    }
   ],
   "source": [
    "# display first 5 rows of diamonds dataset\n",
    "diamonds.head()"
   ]
  },
  {
   "cell_type": "markdown",
   "metadata": {},
   "source": [
    "### Problem 1\n",
    "What proportion of diamonds are between 0.30 and 1.08 carats? <br>\n",
    "To answer this question, I use pandas' query method to find the rows in the diamonds dataframe that are between 0.30 and 1.08 carats. <br>\n",
    "I call the shape method on the result of that query and subset the result to get the first value of the shape method (which is the number of rows in the data). <br>\n",
    "I then divide the number of rows returned by my query, by the number of rows in the entire diamonds dataframe (found once again by calling shape method on the entire dataframe, and using subsetting to get the first value returned, which is the number of rows). <br>\n",
    "The result is the proportion of diamonds that have between 0.30 and 1.08 carats, which is 0.7468 of the diamonds in the dataset."
   ]
  },
  {
   "cell_type": "code",
   "execution_count": 3,
   "metadata": {},
   "outputs": [
    {
     "data": {
      "text/plain": [
       "0.7468298109010011"
      ]
     },
     "execution_count": 3,
     "metadata": {},
     "output_type": "execute_result"
    }
   ],
   "source": [
    "# find proportion of diamonds with between 0.30 and 1.08 carats\n",
    "diamonds.query('0.30 <= carat <= 1.08').shape[0]/diamonds.shape[0]"
   ]
  },
  {
   "cell_type": "markdown",
   "metadata": {},
   "source": [
    "### Problem 2\n",
    "How many of the diamonds have equal x and y dimensions? <br>\n",
    "To answer this question, I found a subset of the diamonds dataframe where its x value equaled its y value, and used the shape to get the number of rows in the dataframe. <br>\n",
    "There were 17 rows in the dataframe, so there are 17 diamonds that have equal x and y values."
   ]
  },
  {
   "cell_type": "code",
   "execution_count": 4,
   "metadata": {},
   "outputs": [
    {
     "data": {
      "text/plain": [
       "17"
      ]
     },
     "execution_count": 4,
     "metadata": {},
     "output_type": "execute_result"
    }
   ],
   "source": [
    "# find number of diamonds where x equals y.\n",
    "diamonds[diamonds['x'] == diamonds['y']].shape[0]"
   ]
  },
  {
   "cell_type": "markdown",
   "metadata": {},
   "source": [
    "### Problem 3\n",
    "How many diamonds have a carat less than the mean carat value? <br>\n",
    "To answer this question, I found a subset of the diamonds dataframe where the carat is less than the mean carat value. <br>\n",
    "The mean carat value is found by calling the mean method on the carat column of the dataframe. <br>\n",
    "I then used the shape to get the number of rows in my subset of the dataframe. <br>\n",
    "The number of rows was 31127 so there are 31127 diamonds with carat greater than the mean carat value. <br>\n",
    "This implies that the data is right skewed as there are more than half the values less than the mean."
   ]
  },
  {
   "cell_type": "code",
   "execution_count": 5,
   "metadata": {},
   "outputs": [
    {
     "data": {
      "text/plain": [
       "31127"
      ]
     },
     "execution_count": 5,
     "metadata": {},
     "output_type": "execute_result"
    }
   ],
   "source": [
    "# find number of diamonds where carat weight is less \n",
    "# than mean carat weight\n",
    "diamonds[diamonds['carat']< diamonds['carat'].mean()].shape[0]"
   ]
  },
  {
   "cell_type": "markdown",
   "metadata": {},
   "source": [
    "### Problem 4\n",
    "How many diamonds have a premium cut or better? <br>\n",
    "To answer this question, I found a subset of the diamonds dataframe with cut of either premium or ideal (as the only cut better than premium is ideal). <br>\n",
    "I then used the shape method to find the number of rows in the subsetted dataframe, which was 35342. <br>\n",
    "So there are 35342 diamonds in the dataset with a cut of Premium or better. "
   ]
  },
  {
   "cell_type": "code",
   "execution_count": 6,
   "metadata": {},
   "outputs": [
    {
     "data": {
      "text/plain": [
       "35342"
      ]
     },
     "execution_count": 6,
     "metadata": {},
     "output_type": "execute_result"
    }
   ],
   "source": [
    "# find number of diamonds with cut of premium or better.\n",
    "diamonds[(diamonds['cut'] == 'Premium') | (diamonds['cut'] == 'Ideal')].shape[0]"
   ]
  },
  {
   "cell_type": "markdown",
   "metadata": {},
   "source": [
    "### Problem 5\n",
    "Which diamond has the highest price per carat? What is its value?\n",
    "To answer this question, I created a new column in the dataframe called price_per_carat. <br>\n",
    "The column is generated by dividing the price value by the carat value for each row in the dataframe. <br>\n",
    "I then displayed the highest price per carat, which is found using the max method, and is 17828.85 dollars. <br>\n",
    "I then used the idxmax method on the price_per_carat column to find the index of the diamond with the highest price per carat, which was 27635. <br>\n",
    "So diamond 276435 has the highest price per carat <br>\n",
    "I then used the iloc method to find the price of the diamond located at index 27635, and the price is 18542 dollars. <br>\n",
    "So the value of the diamond is 18542 dollars."
   ]
  },
  {
   "cell_type": "code",
   "execution_count": 7,
   "metadata": {},
   "outputs": [],
   "source": [
    "# create price_per_carat column in dataframe.\n",
    "diamonds['price_per_carat'] = diamonds['price'] / diamonds['carat']"
   ]
  },
  {
   "cell_type": "code",
   "execution_count": 8,
   "metadata": {},
   "outputs": [
    {
     "data": {
      "text/plain": [
       "17828.846153846152"
      ]
     },
     "execution_count": 8,
     "metadata": {},
     "output_type": "execute_result"
    }
   ],
   "source": [
    "# find maximum price_per_carat\n",
    "diamonds['price_per_carat'].max()"
   ]
  },
  {
   "cell_type": "code",
   "execution_count": 9,
   "metadata": {},
   "outputs": [
    {
     "data": {
      "text/plain": [
       "27635"
      ]
     },
     "execution_count": 9,
     "metadata": {},
     "output_type": "execute_result"
    }
   ],
   "source": [
    "# find index where price_per_carat is max value.\n",
    "diamonds['price_per_carat'].idxmax()"
   ]
  },
  {
   "cell_type": "code",
   "execution_count": 10,
   "metadata": {},
   "outputs": [
    {
     "data": {
      "text/plain": [
       "18542"
      ]
     },
     "execution_count": 10,
     "metadata": {},
     "output_type": "execute_result"
    }
   ],
   "source": [
    "# find price of diamond at index found to have \n",
    "# max price per carat\n",
    "diamonds.iloc[27635]['price']"
   ]
  },
  {
   "cell_type": "markdown",
   "metadata": {},
   "source": [
    "### Problem 6\n",
    "Make a bar plot of the cut data. <br>\n",
    "To make the bar plot, I first found the value counts of each cut (ie. the number of diamonds with each cut) using the value_counts method, and used the bar method of plot to create the bar plot of the cut data. <br>\n",
    "From this bar plot, I concluded: <br>\n",
    "    1. The most common cut type in the dataset is ideal.\n",
    "    2. The least common cut type in the dataset is fair. \n",
    "    3. The distribution of cut types follows the quality of cut in descending order.\n",
    "        a. It is in order of ideal, premium, very good, good, fair, which is from best to worst. \n",
    "    4. There are fewer than 10,000 diamonds in the dataset that are a cut of good or worse. "
   ]
  },
  {
   "cell_type": "code",
   "execution_count": 18,
   "metadata": {},
   "outputs": [
    {
     "data": {
      "image/png": "[encoded data removed]",
      "text/plain": [
       "<Figure size 432x288 with 1 Axes>"
      ]
     },
     "metadata": {
      "needs_background": "light"
     },
     "output_type": "display_data"
    }
   ],
   "source": [
    "# make a barplot of the cut data.\n",
    "cut_bplt = diamonds['cut'].value_counts().plot.bar(title = 'Freq Dist of Diamond Cuts')\n",
    "# set the labels for the axes on the graph.\n",
    "cut_bplt.set_xlabel('Cut')\n",
    "cut_bplt.set_ylabel('Number of Diamonds')\n",
    "# display the graph and suppress output. \n",
    "cut_bplt;"
   ]
  },
  {
   "cell_type": "markdown",
   "metadata": {},
   "source": [
    "### Problem 7\n",
    "Make boxplots for diamond price for each cut. <br>\n",
    "I used pandas boxplot method on the diamonds dataframe, to make a boxplot of price data grouped by cut. <br>\n",
    "From this boxplot I concluded: <br>\n",
    "    1. Every cut has price values that are outliers, ie. greater than 1.5 times the third quartile. \n",
    "    2. The ideal cut has the lowest mean price, while the mean price for fair, good, and premium cuts are about the same, and the highest in the data.\n",
    "        a. This is surprising as one might expect that diamonds with an ideal cut would have the highest prices,    but the mean price is actually lowest for ideal cut. \n",
    "    3. The IQR of the prices with fair cut is smallest, while the IQR for premium cut is largest."
   ]
  },
  {
   "cell_type": "code",
   "execution_count": 12,
   "metadata": {},
   "outputs": [
    {
     "data": {
      "image/png": "[encoded data removed]",
      "text/plain": [
       "<Figure size 432x288 with 1 Axes>"
      ]
     },
     "metadata": {
      "needs_background": "light"
     },
     "output_type": "display_data"
    }
   ],
   "source": [
    "# make a boxplot of the price data grouped by cut.\n",
    "price_by_cut_bxplt = diamonds.boxplot(column = 'price', by = 'cut')\n",
    "# set the labels for the axes on the graph.\n",
    "price_by_cut_bxplt.set_xlabel('Cut')\n",
    "price_by_cut_bxplt.set_ylabel('Price (in US Dollars)')\n",
    "# display the graph and suppress output. \n",
    "price_by_cut_bxplt;"
   ]
  },
  {
   "cell_type": "markdown",
   "metadata": {},
   "source": [
    "### Problem 8\n",
    "#### Length of the Diamonds\n",
    "Make a histogram of the length of the diamonds. <br>\n",
    "The length is stored in the x attribute. <br>\n",
    "I used the hist method on the x column of the dataframe to create the histogram. <br>\n",
    "From the histogram, I conlcluded: <br>\n",
    "    1. Most of the diamonds have between 4 and 6 mm of length.\n",
    "    2. There are more than 20,000 diamonds with length of approximately 5mm."
   ]
  },
  {
   "cell_type": "code",
   "execution_count": 13,
   "metadata": {},
   "outputs": [
    {
     "data": {
      "image/png": "[encoded data removed]",
      "text/plain": [
       "<Figure size 432x288 with 1 Axes>"
      ]
     },
     "metadata": {
      "needs_background": "light"
     },
     "output_type": "display_data"
    }
   ],
   "source": [
    "# make a histogram of the length of diamonds.\n",
    "length_hist = diamonds['x'].hist()\n",
    "# set title and axes labels of the graph.\n",
    "length_hist.set_title(\"Histogram of Diamonds' Length\")\n",
    "length_hist.set_xlabel('Length (in mm)')\n",
    "length_hist.set_ylabel('Number of Diamonds')\n",
    "# display the graph and suppress the output.\n",
    "length_hist;"
   ]
  },
  {
   "cell_type": "markdown",
   "metadata": {},
   "source": [
    "#### Width of the Diamonds\n",
    "Make a histogram of the width of the diamonds. <br>\n",
    "The length is stored in the y attribute. <br>\n",
    "I used the hist method on the y column of the dataframe to create the histogram. <br>\n",
    "From the histogram, I conlcluded: <br>\n",
    "    1. Most of the diamonds have between 0 and 5 mm of width.\n",
    "    2. There are more than 30,000 diamonds with width up to about 5 mm.\n",
    "    3. The reason that the x axis is so large, even though the bins seem to end at around 11 mm of width is because there are some diamonds that have width greater than 11 mm, as specified in the data dictionary.\n",
    "        a. The largest width, according to the data dictionary is 58.9 mm.\n",
    "        b. Since the y axis is in increments of 5000, you cannot see the bar that represents that maximum value, because it is too small."
   ]
  },
  {
   "cell_type": "code",
   "execution_count": 14,
   "metadata": {},
   "outputs": [
    {
     "data": {
      "image/png": "[encoded data removed]",
      "text/plain": [
       "<Figure size 432x288 with 1 Axes>"
      ]
     },
     "metadata": {
      "needs_background": "light"
     },
     "output_type": "display_data"
    }
   ],
   "source": [
    "# make a histogram of the width of diamonds.\n",
    "width_hist = diamonds['y'].hist()\n",
    "# set title and axes labels of the graph.\n",
    "width_hist.set_title(\"Histogram of Diamonds' Width\")\n",
    "width_hist.set_xlabel('Width (in mm)')\n",
    "width_hist.set_ylabel('Number of Diamonds')\n",
    "# display the graph and suppress the output.\n",
    "width_hist;"
   ]
  },
  {
   "cell_type": "markdown",
   "metadata": {},
   "source": [
    "#### Depth of the Diamonds\n",
    "Make a histogram of the depth of the diamonds. <br>\n",
    "The length is stored in the z attribute. <br>\n",
    "I used the hist method on the z column of the dataframe to create the histogram. <br>\n",
    "From the histogram, I conlcluded: <br>\n",
    "    1. Most of the diamonds have between 4 and 6 mm of depth.\n",
    "    2. There are slightly less than 35,000 diamonds with depth between 4 and 6 mm.\n",
    "     3. The reason that the x axis is so large, even though the bins seem to end at around 6 mm of depth is because there are some diamonds that have depth greater than 6 mm, as specified in the data dictionary.\n",
    "        a. The largest depth, according to the data dictionary is 31.8 mm.\n",
    "        b. Since the y axis is in increments of 5000, you cannot see the bar that represents that maximum value, because it is too small."
   ]
  },
  {
   "cell_type": "code",
   "execution_count": 15,
   "metadata": {},
   "outputs": [
    {
     "data": {
      "image/png": "[encoded data removed]",
      "text/plain": [
       "<Figure size 432x288 with 1 Axes>"
      ]
     },
     "metadata": {
      "needs_background": "light"
     },
     "output_type": "display_data"
    }
   ],
   "source": [
    "# make a histogram of the depth of diamonds.\n",
    "depth_hist = diamonds['z'].hist()\n",
    "# set title and axes labels of the graph.\n",
    "depth_hist.set_title(\"Histogram of Diamonds' Depth\")\n",
    "depth_hist.set_xlabel('Depth (in mm)')\n",
    "depth_hist.set_ylabel('Number of Diamonds')\n",
    "# display the graph and suppress the output.\n",
    "depth_hist;"
   ]
  },
  {
   "cell_type": "markdown",
   "metadata": {},
   "source": [
    "#### Total Depth of the Diamonds\n",
    "Make a histogram of the total depth of the diamonds. <br>\n",
    "The length is stored in the depth attribute. <br>\n",
    "I used the hist method on the depth column of the dataframe to create the histogram. <br>\n",
    "From the histogram, I conlcluded: <br>\n",
    "    1. Most of the diamonds have between about 62.5% total depth.\n",
    "    2. There are slightly more than 40,000 diamonds with total depth of about 62.5%.\n",
    "     3. The reason that the x axis is so large, even though the bins seem to end at around 70% total depth is because there are some diamonds that have total depth greater than 70%, as specified in the data dictionary.\n",
    "        a. The largest total depth, according to the data dictionary is 79%.\n",
    "        b. The smallest total depth is 43% which explains why the x axis starts at 45%. \n",
    "        c. Since the y axis is in increments of 5000, you cannot see the bars that represent those values, because they are too small.\n",
    "       "
   ]
  },
  {
   "cell_type": "code",
   "execution_count": 16,
   "metadata": {},
   "outputs": [
    {
     "data": {
      "image/png": "[encoded data removed]",
      "text/plain": [
       "<Figure size 432x288 with 1 Axes>"
      ]
     },
     "metadata": {
      "needs_background": "light"
     },
     "output_type": "display_data"
    }
   ],
   "source": [
    "# make a histogram of the total depth of diamonds.\n",
    "total_depth_hist = diamonds['depth'].hist()\n",
    "# set title and axes labels of the graph.\n",
    "total_depth_hist.set_title(\"Histogram of Diamonds' Total Depth\")\n",
    "total_depth_hist.set_xlabel('Total Depth Percentage')\n",
    "total_depth_hist.set_ylabel('Number of Diamonds')\n",
    "# display the graph and suppress the output.\n",
    "total_depth_hist;"
   ]
  },
  {
   "cell_type": "markdown",
   "metadata": {},
   "source": [
    "### Problem 9\n",
    "Make a scatter plot of diamond price vs. carat. <br>\n",
    "I used the scatter method of plot in pandas to create the scatter plot with x values of price and y values of carat. <br>\n",
    "From this scatter plot I concluded: <br>\n",
    "    1. There is a positive relationship between price and carat. \n",
    "    2. A diamond with a higher price, will likely have a higher carat. "
   ]
  },
  {
   "cell_type": "code",
   "execution_count": 17,
   "metadata": {},
   "outputs": [
    {
     "data": {
      "image/png": "[encoded data removed]",
      "text/plain": [
       "<Figure size 432x288 with 1 Axes>"
      ]
     },
     "metadata": {
      "needs_background": "light"
     },
     "output_type": "display_data"
    }
   ],
   "source": [
    "# make a scatter plot of price vs. carat\n",
    "price_carat_scatplt = diamonds.plot.scatter(x = 'price', y = 'carat')\n",
    "# set the title of the plot.\n",
    "price_carat_scatplt.set_title('Diamond Prices vs. Carat')\n",
    "# display the graph and suppress output. \n",
    "price_carat_scatplt;"
   ]
  }
 ],
 "metadata": {
  "kernelspec": {
   "display_name": "Python 3",
   "language": "python",
   "name": "python3"
  },
  "language_info": {
   "codemirror_mode": {
    "name": "ipython",
    "version": 3
   },
   "file_extension": ".py",
   "mimetype": "text/x-python",
   "name": "python",
   "nbconvert_exporter": "python",
   "pygments_lexer": "ipython3",
   "version": "3.7.1"
  }
 },
 "nbformat": 4,
 "nbformat_minor": 2
}
