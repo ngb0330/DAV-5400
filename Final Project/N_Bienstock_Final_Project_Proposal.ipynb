{
 "cells": [
  {
   "cell_type": "markdown",
   "metadata": {},
   "source": [
    "# DAV 5400 Final Project Proposal\n",
    "## Natan Bienstock"
   ]
  },
  {
   "cell_type": "markdown",
   "metadata": {},
   "source": [
    "## Introduction\n",
    "\n",
    "Major League Baseball (MLB) is the second most popular sport in the United States with over 72 million fans attending baseball games and millions more watching games on TV. <br>\n",
    "There are 30 teams in MLB and each are trying to gain a competitive edge over each other and win MLB's World Series championship. Teams are constantly looking for an edge to both win, and attract more fans.<br>\n",
    "The most recent of these trends is the \"launch angle\" revolution, with hitters changing the way they swing in an effort to hit more home runs. Teams hope that hitting more home runs will attract more fans to the games and lead to more wins and team success. \n"
   ]
  },
  {
   "cell_type": "markdown",
   "metadata": {},
   "source": [
    "## Research Questions\n",
    "\n",
    "1. Does hitting more home runs lead to more wins?\n",
    "2. Are there other statistics that lead to more wins (ex: scoring more runs, or allowing fewer runs)?\n",
    "\n",
    "This research could be used by MLB teams to determine how best to construct their roster. There is a current trend in MLB to focus on the three \"true\" outcomes, strikeouts, walks, and home runs. Teams have changed their approach to hitting and tend to focus more on hitting home runs than anything else. The question is does this approach lead to mroe wins (the ultimate goal of any baseball team)? Are there other areas that a team should be focusing on instead that have a higher relationship with winning games than hitting home runs? \n"
   ]
  },
  {
   "cell_type": "markdown",
   "metadata": {},
   "source": [
    "## Data to be Used\n",
    "\n",
    "To answer my research questions, I will need to acquire data that contains information about MLB teams' record (wins and losses), as well as their statistics (how many home runs they hit, how many walks they drew, etc.). <br>\n",
    "The data containing MLB teams' win-loss records will be scraped from [baseball-reference's MLB standings page](https://www.baseball-reference.com/leagues/MLB/2018-standings.shtml). Five years worth of standings data (2014-2018 will be scraped and combined into a Pandas DataFrame. <br>\n",
    "The data with a team's statistics will be acquired using the [stattleship API](http://developers.stattleship.com/#team-season-stats). This data will have to be acquired on a team-by-team basis for each season (2014-2018, and will be combined in a Pandas DataFrame as well. <br>\n"
   ]
  },
  {
   "cell_type": "markdown",
   "metadata": {},
   "source": [
    "## Approach\n",
    "\n",
    "I will be storing the data that I collect in Pandas DataFrame objects. I will then merge the data between the two DataFrames so that the win-loss records and team statistics are in the same dataset. <Br>\n",
    "I plan to then group the data by each season and perform an EDA on the data. This EDA will check whether all games from the season are represented in the data (by checking whether the number of wins equals the number of losses). Additionally, I will map the spread of the team statistics that I plan on focusing on (with box plots and histograms). <br>\n",
    "I plan on creating a scatter plot (using Seaborn) of the number of home runs hit and the number of wins to show whether the two statistics are related. This would be a good way to visualize the relationship between the two variables and see whether as the number of home runs increases, the number of wins increases as well. <br>\n",
    "I plan on finding out how the number of wins is correlated with other statistics by finding the correlation matrix for the number of wins and the other statistics (such as runs allowed, runs scored, etc.). <bR>\n",
    "I plan on then determining the ideal regression model (most likely a poisson regression) to predict the number of wins a team will have based on the statistics that have high correlation with the number of wins. "
   ]
  }
 ],
 "metadata": {
  "kernelspec": {
   "display_name": "Python 3",
   "language": "python",
   "name": "python3"
  },
  "language_info": {
   "codemirror_mode": {
    "name": "ipython",
    "version": 3
   },
   "file_extension": ".py",
   "mimetype": "text/x-python",
   "name": "python",
   "nbconvert_exporter": "python",
   "pygments_lexer": "ipython3",
   "version": "3.7.1"
  }
 },
 "nbformat": 4,
 "nbformat_minor": 2
}
