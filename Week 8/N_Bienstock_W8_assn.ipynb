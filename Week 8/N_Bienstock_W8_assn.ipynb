{
 "cells": [
  {
   "cell_type": "markdown",
   "metadata": {},
   "source": [
    "# Week 8 Assignment - Regular Expressions\n"
   ]
  },
  {
   "cell_type": "code",
   "execution_count": 1,
   "metadata": {},
   "outputs": [],
   "source": [
    "import re"
   ]
  },
  {
   "cell_type": "markdown",
   "metadata": {},
   "source": [
    "## Problem 1\n",
    "Extract the names of each individual from the unformatted text string and store them in a vector of some sort. <br>\n",
    "The unformatted text string is: <br>\n",
    "\"555-1239Moe Szyslak(636) 555-0113Burns, C. Montgomery555 -6542Rev. Timothy Lovejoy555 8904Ned Flanders636-555-3226Simpson, Homer5553642Dr. Julius Hibbert\"<br>\n",
    "To extract just the names from this text string, I used the split method of Python's re module. <br>\n",
    "The split method takes a regular expression to split based on, and a string to split. <br>\n",
    "The regular expression I used to split was [0-9-()]+ - which represents any number (0-9), a - sign, a ( sign, or a ) sign, found 1 or more times. <br>\n",
    "This returns a list of strings that are split around that delimiter. In other words the string is split anytime a sequence containing anything specified by the regular expression explained above is found. <br>\n",
    "While I would have expected to get back a list of just the names, the list returned by the list method also included the empty string, and strings containing only white space.<br>\n",
    "To rmeove those strings, I used the filter function to remove the empty strings (None) and the strings containing whitespace.  <br>\n",
    "After doing so, the names list contains just the 6 names that were in the unformatted text string. <br>"
   ]
  },
  {
   "cell_type": "code",
   "execution_count": 2,
   "metadata": {},
   "outputs": [
    {
     "data": {
      "text/plain": [
       "['',\n",
       " 'Moe Szyslak',\n",
       " ' ',\n",
       " 'Burns, C. Montgomery',\n",
       " ' ',\n",
       " 'Rev. Timothy Lovejoy',\n",
       " ' ',\n",
       " 'Ned Flanders',\n",
       " 'Simpson, Homer',\n",
       " 'Dr. Julius Hibbert']"
      ]
     },
     "execution_count": 2,
     "metadata": {},
     "output_type": "execute_result"
    }
   ],
   "source": [
    "# store unformatted text string in text variable.\n",
    "text =  \"555-1239Moe Szyslak(636) 555-0113Burns, C. Montgomery555 -6542Rev. Timothy Lovejoy555 8904Ned Flanders636-555-3226Simpson, Homer5553642Dr. Julius Hibbert\"\n",
    "\n",
    "# use re's split method on an unformatted text string to return a list split by regex [0-9-()]+\n",
    "# the resulting list is stored in names variable.\n",
    "names = re.split(r'[0-9-()]+', text)\n",
    "\n",
    "# return names variable\n",
    "names"
   ]
  },
  {
   "cell_type": "code",
   "execution_count": 3,
   "metadata": {},
   "outputs": [
    {
     "data": {
      "text/plain": [
       "['Moe Szyslak',\n",
       " 'Burns, C. Montgomery',\n",
       " 'Rev. Timothy Lovejoy',\n",
       " 'Ned Flanders',\n",
       " 'Simpson, Homer',\n",
       " 'Dr. Julius Hibbert']"
      ]
     },
     "execution_count": 3,
     "metadata": {},
     "output_type": "execute_result"
    }
   ],
   "source": [
    "# remove empty string from names list\n",
    "names = list(filter(None, names))\n",
    "\n",
    "# remove ' ' strings from names list\n",
    "names = list(filter(lambda x: x != ' ', names))\n",
    "\n",
    "# return names variable\n",
    "names"
   ]
  },
  {
   "cell_type": "markdown",
   "metadata": {},
   "source": [
    "## Problem 2 \n",
    "### Part 1\n",
    "Use your regex skills to rearrange the vector so that all elements conform to the standard “firstname lastname”, preserving any  titles (e.g., “Rev.”, “Dr.”, etc) or middle/second names. <br>\n",
    "To do so, I loop through all the names in my names list. <br>\n",
    "I checked whether splitting the name at a ',' returned a list greater than 1 (ie. the string was split into multiple parts using re's split method) <br>\n",
    "I used this regular expression and split the string this way because all of the names that were in the wrong order, had the format of last name, first name. <br>\n",
    "So by splitting at the ',' character, a list is returned with either 1 item (no ',' was in the name), or 2 items (there was a ','). <br>\n",
    "If the length of the list returned by the split method was greater than 1, than I set a variable parts to be equal to the result of the split. <br>\n",
    "I then set a string reordered to be a reordering of the parts - the second part + a whitespace, + the first part. <br> \n",
    "This string now has the first name, a space, and then the last name. <br>\n",
    "I then set the name at the specified index to be the reordered string, stripped of any leading or trailing whitespace. "
   ]
  },
  {
   "cell_type": "code",
   "execution_count": 4,
   "metadata": {},
   "outputs": [
    {
     "data": {
      "text/plain": [
       "['Moe Szyslak',\n",
       " 'C. Montgomery Burns',\n",
       " 'Rev. Timothy Lovejoy',\n",
       " 'Ned Flanders',\n",
       " 'Homer Simpson',\n",
       " 'Dr. Julius Hibbert']"
      ]
     },
     "execution_count": 4,
     "metadata": {},
     "output_type": "execute_result"
    }
   ],
   "source": [
    "# loop through the names list\n",
    "for index, name in enumerate(names):\n",
    "    # check whether the contained a comma\n",
    "     if len(re.split(',',name)) > 1:\n",
    "            # set parts to be the result of splitting the name around ','\n",
    "            parts = re.split(',',name)\n",
    "            # reordered variable is string reordered, second part then first part\n",
    "            # with ' ' in between.\n",
    "            reordered = parts[1] + ' ' + parts[0]\n",
    "            # Replace name at index to be the reordered name stripped of leading or \n",
    "            # trailing whitespace\n",
    "            names[index] = reordered.strip()\n",
    "names"
   ]
  },
  {
   "cell_type": "markdown",
   "metadata": {},
   "source": [
    "### Part 2\n",
    "Construct a logical vector indicating whether a character has a title. <br>\n",
    "First I created a list, has_title containing as many None values as the number of items in names list (so that I could have a list with the same length of names list). <br>\n",
    "Then I loop through the names list and set the has_title value of the list to be the boolean value of whether the regular expression called on the name returned a match. <br>\n",
    "To do this, I used re's match method to check whether the name in the names list matched the regular expression '[A-z]{2,4}\\.'.<br>\n",
    "This regular expression matches 2-4 letters, [A-z]{2,4}, followed by a '.', \\. (the match needs to have 2-4 letters to exclude people whose first name is their initial). <br>\n",
    "The match method returns the matching string if the regular expression matches or nothing otherwise, so using the bool function on the return of the match function returns True if there was a match, and False otherwise. <br>\n",
    "Finally I return the has_title list which displays which is a logical vector indicating whether a character at the given index has a title. "
   ]
  },
  {
   "cell_type": "code",
   "execution_count": 5,
   "metadata": {},
   "outputs": [
    {
     "data": {
      "text/plain": [
       "[False, False, True, False, False, True]"
      ]
     },
     "execution_count": 5,
     "metadata": {},
     "output_type": "execute_result"
    }
   ],
   "source": [
    "# initialize list with size len(names) \n",
    "has_title = [None] * len(names)\n",
    "# loop through names list\n",
    "for index, name in enumerate(names):\n",
    "    # set has_title at index to be the boolean result of whether\n",
    "    # there was match on name value of regex '[A-z]{2,4}\\.'\n",
    "    has_title[index] = bool(re.match('[A-z]{2,4}\\.',name))\n",
    "# return has_title\n",
    "has_title"
   ]
  },
  {
   "cell_type": "markdown",
   "metadata": {},
   "source": [
    "### Part 3\n",
    "Construct a logical vector indicating whether a character has a middle/second name. <br>\n",
    "First I created a list, has_middle containing as many None values as the number of items in names list (so that I could have a list with the same length of names list). <br>\n",
    "Then I loop through the names list and check whether then name value has no title, meaning that re.match('[A-z]{2,4}\\.',name) does not have a match (see more full explanation above). <br>\n",
    "Additionally, I check whether the list created by splitting the name value  around whitespace characters ('\\s+') using re's split method is greater than 2 (because the list returned by the split has length 2 if the character had only a first and last name). <br>\n",
    "The combination of checking whether there are more than 2 values returned by the split, and there is not a title, can be used to create a logical vector indicating whether a character (in this list) has a middle/second name."
   ]
  },
  {
   "cell_type": "code",
   "execution_count": 6,
   "metadata": {},
   "outputs": [
    {
     "data": {
      "text/plain": [
       "[False, True, False, False, False, False]"
      ]
     },
     "execution_count": 6,
     "metadata": {},
     "output_type": "execute_result"
    }
   ],
   "source": [
    "# initialize list with size len(names)\n",
    "has_middle = [None] * len(names)\n",
    "# loop through names list\n",
    "for index, name in enumerate(names):\n",
    "    # set has_middle at index to be the boolean result of the length of splitting\n",
    "    # the name value around '\\s+', whitespace character being greater than 2\n",
    "    # and not being a title.\n",
    "    has_middle[index] = len(re.split('\\s+', name)) > 2 and not bool(re.match('[A-z]{2,4}\\.',name))\n",
    "# return has_middle\n",
    "has_middle"
   ]
  },
  {
   "cell_type": "markdown",
   "metadata": {},
   "source": [
    "## Problem 3\n",
    "Consider the HTML string &lt;title>+++BREAKING NEWS+++/&lt;title>. We would like to extract the first HTML tag (i.e., “&lt;title>”). To do so we write the regular expression“&lt;.+>”.Explain why this fails and correct the expression.\n",
    "This regular expression fails because regular expression pattern matching is greedy, meaning that it tries to match as much as possible. <br>\n",
    "Since the regular expression &lt;.+> means a &lt; character followed by anything until hitting a > character, the most that can be matched is the entire string, including both HTML tags. <BR>\n",
    "In order to match just the first HTML tag, I included a ? in the regular expression &lt;.+?> which changes the pattern to be a lazy match, or to match as little as possible. <Br>\n",
    "This matches just the first tag, as once it hits the first > character, it returns the match."
   ]
  },
  {
   "cell_type": "code",
   "execution_count": 7,
   "metadata": {},
   "outputs": [
    {
     "data": {
      "text/plain": [
       "<re.Match object; span=(0, 33), match='<title>+++BREAKING NEWS+++<title>'>"
      ]
     },
     "execution_count": 7,
     "metadata": {},
     "output_type": "execute_result"
    }
   ],
   "source": [
    "# original regex that matches too much\n",
    "re.match('<.+>','<title>+++BREAKING NEWS+++<title>')"
   ]
  },
  {
   "cell_type": "code",
   "execution_count": 8,
   "metadata": {},
   "outputs": [
    {
     "data": {
      "text/plain": [
       "<re.Match object; span=(0, 7), match='<title>'>"
      ]
     },
     "execution_count": 8,
     "metadata": {},
     "output_type": "execute_result"
    }
   ],
   "source": [
    "# regex that matches just the first HTML tag\n",
    "re.match('<.+?>','<title>+++BREAKING NEWS+++<title>')"
   ]
  },
  {
   "cell_type": "markdown",
   "metadata": {},
   "source": [
    "## Problem 4\n",
    "\n",
    "Consider the string “(5-3)^2=5^2-2&ast;5&ast;3+3^2” which conforms to the binomial theorem. We would like to extract the formula in the string. To do so we write the regular expression \"[^0-9=+*()]+\". <br>\n",
    "Explain why this fails and correct the expression. <br>\n",
    "The regular expression \"[^0-9=+*()]+\" fails to match the formula for multiple reasons:\n",
    "1. The formula includes numbers, but the ^0-9 in the expression negates numbers means that there are no numbers 0-9.\n",
    "2. While the regular expression includes all the characters needed to match the formula (including ^ and -), the order is wrong. As explained above the ^ symbol actually negates the numbers, and the - is just used to specify the range. In other words, the regular expression does not actually contain all the characters needed to match the formula because the ^ and - symbols are serving different functions. \n",
    "\n",
    "To fix the regular expression, I removed the ^ symbol from the beginning of the set (in front of the 0-9) and moved it to later in the set. I also added in the - symbol to the regular expression. \n",
    "The regular expression now reads '[0-9^=+*()-]+' which means any number, ^ symbol, = symbol, + symbol, *; symbol, ( symbol, ) symbol, or - symbol repeated one or more times. <BR>\n",
    "This regular expression returns the whole formula (including numerics) from the string. "
   ]
  },
  {
   "cell_type": "code",
   "execution_count": 9,
   "metadata": {},
   "outputs": [],
   "source": [
    "# original regex that does not return the formula\n",
    "re.match('[^0-9=+*()]+','(5-3)^2=5^2-2*5*3+3^2')"
   ]
  },
  {
   "cell_type": "code",
   "execution_count": 10,
   "metadata": {},
   "outputs": [
    {
     "data": {
      "text/plain": [
       "<re.Match object; span=(0, 21), match='(5-3)^2=5^2-2*5*3+3^2'>"
      ]
     },
     "execution_count": 10,
     "metadata": {},
     "output_type": "execute_result"
    }
   ],
   "source": [
    "# corrected regex that returns the whole formula\n",
    "re.match('[0-9^=+*()-]+','(5-3)^2=5^2-2*5*3+3^2')"
   ]
  }
 ],
 "metadata": {
  "kernelspec": {
   "display_name": "Python 3",
   "language": "python",
   "name": "python3"
  },
  "language_info": {
   "codemirror_mode": {
    "name": "ipython",
    "version": 3
   },
   "file_extension": ".py",
   "mimetype": "text/x-python",
   "name": "python",
   "nbconvert_exporter": "python",
   "pygments_lexer": "ipython3",
   "version": "3.7.1"
  }
 },
 "nbformat": 4,
 "nbformat_minor": 2
}
