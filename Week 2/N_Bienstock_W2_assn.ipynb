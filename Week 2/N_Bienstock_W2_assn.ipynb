{
 "cells": [
  {
   "cell_type": "markdown",
   "metadata": {},
   "source": [
    "# DAV 5400 Week 2 Assignment\n",
    "## Problem 0\n",
    "\n",
    "Make sure that the test code that was distributed works in Jupyter Notebook. <br>\n",
    "The test code prints out the information about each car, 1 row per car."
   ]
  },
  {
   "cell_type": "code",
   "execution_count": 2,
   "metadata": {},
   "outputs": [
    {
     "name": "stdout",
     "output_type": "stream",
     "text": [
      "['high', 'high', '2', '4', 'med', 'low', 'unacc']\n",
      "['high', 'high', '4', 'more', 'small', 'high', 'acc']\n",
      "['high', 'high', '4', 'more', 'big', 'low', 'unacc']\n",
      "['high', 'low', '2', 'more', 'big', 'high', 'acc']\n",
      "['vhigh', 'low', '3', '2', 'med', 'med', 'unacc']\n",
      "['low', 'high', '2', '2', 'small', 'low', 'unacc']\n",
      "['med', 'med', '4', 'more', 'med', 'high', 'vgood']\n",
      "['low', 'low', '3', '2', 'big', 'med', 'unacc']\n",
      "['vhigh', 'low', '2', '2', 'small', 'low', 'unacc']\n",
      "['vhigh', 'high', '4', '4', 'med', 'low', 'unacc']\n",
      "['low', 'low', '2', '2', 'med', 'med', 'unacc']\n",
      "['vhigh', 'low', '4', 'more', 'small', 'high', 'acc']\n",
      "['high', 'low', '2', '4', 'big', 'med', 'acc']\n",
      "['low', 'vhigh', '3', 'more', 'big', 'low', 'unacc']\n",
      "['high', 'low', '5more', '2', 'big', 'med', 'unacc']\n",
      "['vhigh', 'high', '2', 'more', 'med', 'high', 'unacc']\n",
      "['med', 'med', '2', '2', 'small', 'low', 'unacc']\n",
      "['high', 'low', '5more', '4', 'med', 'high', 'acc']\n",
      "['low', 'low', '3', 'more', 'med', 'high', 'vgood']\n",
      "['low', 'low', '2', '2', 'big', 'med', 'unacc']\n",
      "['med', 'high', '4', '2', 'big', 'high', 'unacc']\n",
      "['low', 'low', '2', '2', 'small', 'high', 'unacc']\n",
      "['vhigh', 'high', '5more', '4', 'med', 'med', 'unacc']\n",
      "['med', 'vhigh', '2', '2', 'big', 'low', 'unacc']\n",
      "['low', 'vhigh', '4', '4', 'big', 'low', 'unacc']\n",
      "['vhigh', 'low', '3', 'more', 'big', 'low', 'unacc']\n",
      "['med', 'vhigh', '3', '4', 'small', 'low', 'unacc']\n",
      "['high', 'high', '3', '4', 'med', 'med', 'unacc']\n",
      "['low', 'high', '5more', '2', 'big', 'low', 'unacc']\n",
      "['med', 'high', '5more', '2', 'med', 'med', 'unacc']\n",
      "['high', 'low', '3', '4', 'med', 'high', 'acc']\n",
      "['high', 'vhigh', '5more', '4', 'med', 'med', 'unacc']\n",
      "['low', 'low', '5more', '2', 'med', 'low', 'unacc']\n",
      "['vhigh', 'vhigh', '4', '2', 'big', 'high', 'unacc']\n",
      "['high', 'low', '3', '2', 'big', 'high', 'unacc']\n"
     ]
    }
   ],
   "source": [
    "import csv\n",
    "\n",
    "# be sure to update the path below to reflect your own environment!!\n",
    "# also be sure that the code is properly indented after you paste it!\n",
    "\n",
    "with open(r'/Users/natanbienstock/Documents/Grad School/Spring 2019/DAV 5400/DAV-5400/Week 2/cars-sample35.txt') as csvfile:\n",
    "    readCSV = csv.reader(csvfile)\n",
    "    for row in readCSV:\n",
    " # print each row as read by the csv.reader function\n",
    "        print(row)\n",
    "\n"
   ]
  },
  {
   "cell_type": "markdown",
   "metadata": {},
   "source": [
    "## Problem 1\n",
    "\n",
    "Generate the 7 lists needed to complete the rest of the assignment.\n",
    "Use a for loop to go through each row in the cars-sample35.txt file, and add the appropriate data to each list. <br>\n",
    "At the end of the loop, end up with 7 lists fully populated:\n",
    "1. prices - contains price data for each car.\n",
    "2. maintenance_costs - contains the maintenance cost for each car.\n",
    "3. doors - contains the number of doors for each car.\n",
    "4. passengers - contains the number of passengers that each car can hold.\n",
    "5. luggage_capacities - contains the luggage capacity of each car.\n",
    "6. safety_ratings - contains the safety rating of each car.\n",
    "7. classifications - contains the classification of each car.\n"
   ]
  },
  {
   "cell_type": "code",
   "execution_count": 3,
   "metadata": {},
   "outputs": [
    {
     "name": "stdout",
     "output_type": "stream",
     "text": [
      "35\n"
     ]
    }
   ],
   "source": [
    "import csv\n",
    "with open(r'/Users/natanbienstock/Documents/Grad School/Spring 2019/DAV 5400/DAV-5400/Week 2/cars-sample35.txt') as csvfile:\n",
    "   #initialize the 7 empty lists to be filled in loop\n",
    "    prices = []; maintenance_costs = []; doors = []; passengers = []\n",
    "    luggage_capacities = []; safety_ratings = []; classifications = []\n",
    "    #read in the cars-sample file.\n",
    "    readCSV = csv.reader(csvfile)\n",
    "    #add the data in each row (for each car) to the appropriate list\n",
    "    for row in readCSV:\n",
    "        prices.append(row[0]) #add price data to prices\n",
    "        maintenance_costs.append(row[1]) #add maitenance cost to maintenance_costs\n",
    "        doors.append(row[2]) # add door number to doors\n",
    "        passengers.append(row[3]) #add number of passengers to passengers\n",
    "        luggage_capacities.append(row[4]) #add luggace capacity to luggage_capacities\n",
    "        safety_ratings.append(row[5]) #add safety rating to safety_ratings\n",
    "        classifications.append(row[-1]) #add classification to classificiations\n",
    "\n",
    "#check that prices has right amount of data.\n",
    "print(len(prices))\n",
    "        "
   ]
  },
  {
   "cell_type": "markdown",
   "metadata": {},
   "source": [
    "## Problem 2\n",
    "### Approach 1\n",
    "\n",
    "Use a list comprehension to generate the med_price_index list by checking at which indexes in prices is the price 'med', and only adding those to the list.\n",
    "Then print the med_price_index list to display the results."
   ]
  },
  {
   "cell_type": "code",
   "execution_count": 26,
   "metadata": {},
   "outputs": [
    {
     "name": "stdout",
     "output_type": "stream",
     "text": [
      "[6, 16, 20, 23, 26, 29]\n"
     ]
    }
   ],
   "source": [
    "# generate mid_price_index list comprehension by checking\n",
    "# if price at index is med\n",
    "med_price_index = [index for index in range(len(prices)) if prices[index] == 'med']\n",
    "\n",
    "#print the resulting list\n",
    "print(med_price_index)"
   ]
  },
  {
   "cell_type": "markdown",
   "metadata": {},
   "source": [
    "### Approach 2\n",
    "\n",
    "Use a for loop to append values to the med_price_index_2 list if the price at a given index is 'med'. <br>\n",
    "Print the list to show the results, and see that they are the same as in approach 1."
   ]
  },
  {
   "cell_type": "code",
   "execution_count": 28,
   "metadata": {},
   "outputs": [
    {
     "name": "stdout",
     "output_type": "stream",
     "text": [
      "[6, 16, 20, 23, 26, 29]\n"
     ]
    }
   ],
   "source": [
    "#initialize the list\n",
    "med_price_index_2 = []\n",
    "#loop through the indeces in the prices list\n",
    "for index in range(len(prices)):\n",
    "    #check whether the price is 'med'\n",
    "    if prices[index] == 'med':\n",
    "        #add the index to the list.\n",
    "        med_price_index_2.append(index)\n",
    "\n",
    "#print the list\n",
    "print(med_price_index_2)"
   ]
  },
  {
   "cell_type": "markdown",
   "metadata": {},
   "source": [
    "### Approach 3\n",
    "Use the built-in enumerate function in Python to loop through the index and price at the same time.<br>\n",
    "Append index values to med_price_index_3 list if the price is 'med'. <br>\n",
    "Print the resulting list and see that once again, the same result is obtained."
   ]
  },
  {
   "cell_type": "code",
   "execution_count": 29,
   "metadata": {},
   "outputs": [
    {
     "name": "stdout",
     "output_type": "stream",
     "text": [
      "[6, 16, 20, 23, 26, 29]\n"
     ]
    }
   ],
   "source": [
    "#initialize the list\n",
    "med_price_index_3 = []\n",
    "# loop through each index and price in the list\n",
    "for index, price in enumerate(prices):\n",
    "    #check whether the price is med\n",
    "    if price == 'med':\n",
    "        #add the index to the list\n",
    "        med_price_index_3.append(index)\n",
    "\n",
    "#print the list\n",
    "print(med_price_index_3)"
   ]
  },
  {
   "cell_type": "markdown",
   "metadata": {},
   "source": [
    "## Problem 3\n",
    "### Approach 1\n",
    "\n",
    "Use a list comprehension to generate the passengers_med list. <br>\n",
    "The list comprehension just puts the number of passengers at the specified index into the list. The index is obtained by looping through the med_price_index list, obtained in the previous problem.<br>\n",
    "Print the resulting list."
   ]
  },
  {
   "cell_type": "code",
   "execution_count": 12,
   "metadata": {},
   "outputs": [
    {
     "name": "stdout",
     "output_type": "stream",
     "text": [
      "['more', '2', '2', '2', '4', '2']\n"
     ]
    }
   ],
   "source": [
    "# generate passengers_med list comprehension by taking\n",
    "# numbers of passengers at index as specified by element\n",
    "# in med_price_index\n",
    "passengers_med = [passengers[i] for i in med_price_index]\n",
    "\n",
    "#print the list\n",
    "print(passengers_med)"
   ]
  },
  {
   "cell_type": "markdown",
   "metadata": {},
   "source": [
    "### Approach 2\n",
    "\n",
    "Use a for loop to append values to the passengers_med_2 list by looping through the med_price_index_2 list, and adding the values of the passengers list specified the value from the med_price_index_2 list, to the passengers_med_2 list. <br>\n",
    "Example: if passengers list contained [3,4,5,6,7] and med_price_index_2 list contained [2,3], then passengers_med_2 list would contain [5,6]. <br>\n",
    "Print the resulting list and see the it corresponds to list obtained through approach 1."
   ]
  },
  {
   "cell_type": "code",
   "execution_count": 41,
   "metadata": {},
   "outputs": [
    {
     "name": "stdout",
     "output_type": "stream",
     "text": [
      "['more', '2', '2', '2', '4', '2']\n"
     ]
    }
   ],
   "source": [
    "#initalize the list\n",
    "passengers_med_2 = []\n",
    "\n",
    "#loop through the med_price_index_2 list\n",
    "for i in med_price_index_2:\n",
    "    # add the passenger value at the index specified by med_price_index_2\n",
    "    # to the passengers_med_2 list\n",
    "    passengers_med_2.append(passengers[i])\n",
    "\n",
    "#print the list\n",
    "print(passengers_med_2)\n"
   ]
  },
  {
   "cell_type": "markdown",
   "metadata": {},
   "source": [
    "### Approach 3\n",
    "The third approach uses two for loops and enumeration to get the result. <br>\n",
    "Am empty list, passengers_med_3, is created, and then an enumeration of the passengers list is looped through. \n",
    "Within that loop, the med_price_index_3 loop is looped through (so for each entry in passengers list, this entire second loop is gone through). If the value of the med_price_index_3 list is equal to the index of the passengers list, then the passenger is added to the passengers_med_3 list.<br>\n",
    "The resulting list is printed, and its value is consistent with other two approaches.<br>\n",
    "This approach is very inefficient as it uses two loops, which could take a very long time to go through. It doesn't here because the lists used are very small."
   ]
  },
  {
   "cell_type": "code",
   "execution_count": 43,
   "metadata": {},
   "outputs": [
    {
     "name": "stdout",
     "output_type": "stream",
     "text": [
      "['more', '2', '2', '2', '4', '2']\n"
     ]
    }
   ],
   "source": [
    "#initialize the list\n",
    "passengers_med_3 = []\n",
    "\n",
    "# loop through each index and passenger in the list\n",
    "for index, passenger in enumerate(passengers):\n",
    "    #loop through the med_price_index_3 list\n",
    "    for value in med_price_index_3:\n",
    "        #check if index from passengers equals value of med_price_index_3 list \n",
    "        if index == value:\n",
    "            #add passenger to the list.\n",
    "            passengers_med_3.append(passenger)\n",
    "            \n",
    "#print the list\n",
    "print(passengers_med_3)"
   ]
  },
  {
   "cell_type": "markdown",
   "metadata": {},
   "source": [
    "## Problem 4\n",
    "### Approach 1\n",
    "\n",
    "Uses a list comprehension to generate the high_price_not_low_maintenance list. <br>\n",
    "Goes through all the indeces in the price list, and checks if prices value at that index is 'high', and if maintenance_costs value at that index is not 'low'. <br>\n",
    "If those conditions are met, than adds that index to the high_price_not_low_maintenance list. <br>\n",
    "Print the resulting list to display the results."
   ]
  },
  {
   "cell_type": "code",
   "execution_count": 20,
   "metadata": {},
   "outputs": [
    {
     "name": "stdout",
     "output_type": "stream",
     "text": [
      "[0, 1, 2, 27, 31]\n"
     ]
    }
   ],
   "source": [
    "#generate the list by putting in indeces if \n",
    "#the price at the index is high and the \n",
    "#maintenance cost is not low.\n",
    "high_price_not_low_maintenance = [i for i in range(len(prices)) if prices[i] == 'high' and maintenance_costs[i] != 'low']\n",
    "\n",
    "#print the list\n",
    "print(high_price_not_low_maintenance)"
   ]
  },
  {
   "cell_type": "markdown",
   "metadata": {},
   "source": [
    "### Approach 2\n",
    "\n",
    "Use a for loop to append values to the high_price_not_low_maintenance_2 list if the price value at a given index is 'high' and the maitenance_costs value is not 'low'. <br>\n",
    "Print the list to show the results, and see that they are the same as in approach 1."
   ]
  },
  {
   "cell_type": "code",
   "execution_count": 47,
   "metadata": {},
   "outputs": [
    {
     "name": "stdout",
     "output_type": "stream",
     "text": [
      "[0, 1, 2, 27, 31]\n"
     ]
    }
   ],
   "source": [
    "#initialize the list\n",
    "high_price_not_low_maintenance_2 = []\n",
    "\n",
    "#loop through indeces in prices list\n",
    "for index in range(len(prices)):\n",
    "    #check whether price at index is high \n",
    "    # and maintenance_cost at index is not low\n",
    "    if prices[index] == 'high'and maintenance_costs[index] != 'low':\n",
    "        #add the index to high_price_not_low_maintenance_2 list\n",
    "        high_price_not_low_maintenance_2.append(index)\n",
    "        \n",
    "#print the list\n",
    "print(high_price_not_low_maintenance_2)"
   ]
  },
  {
   "cell_type": "markdown",
   "metadata": {},
   "source": [
    "### Approach 3\n",
    "Use a for loop to iterate over the enumeration of the prices list. <br>\n",
    "Check whether the price value is 'high' and if it is, check whether the maintenance_costs value at that index is not'low'. <br>\n",
    "If it is not, append the value to the high_price_not_low_maintenance_3 list. <br>\n",
    "Print the list to show that the result is the same as previous two approaches."
   ]
  },
  {
   "cell_type": "code",
   "execution_count": 25,
   "metadata": {},
   "outputs": [
    {
     "name": "stdout",
     "output_type": "stream",
     "text": [
      "[0, 1, 2, 27, 31]\n"
     ]
    }
   ],
   "source": [
    "#initialize the list\n",
    "high_price_not_low_maintenance_3 = []\n",
    "\n",
    "# loop through each index and price in prices list\n",
    "for index, price in enumerate(prices):\n",
    "    #check whether price is high\n",
    "    if price == 'high':\n",
    "        #check whether maitenance cost at the index is not low\n",
    "        if maintenance_costs[index] != 'low':\n",
    "            # add the index to the high_price_not_low_maintenance_3 list\n",
    "            high_price_not_low_maintenance_3.append(index)\n",
    "\n",
    "#print the list            \n",
    "print(high_price_not_low_maintenance_3)"
   ]
  },
  {
   "cell_type": "markdown",
   "metadata": {},
   "source": [
    "## Problem 5\n",
    "### Approach 1\n",
    "\n",
    "Uses a list comprehension to generate the two_door_big_luggage list. <br>\n",
    "Goes through all the indeces in the door list, and checks if doors value at that index is '2', and if luggage_capacities value at that index is 'big'. <br>\n",
    "If they both are, than adds that index to the two_door_big_luggage list. <br>\n",
    "Print the resulting list to display the results."
   ]
  },
  {
   "cell_type": "code",
   "execution_count": 44,
   "metadata": {},
   "outputs": [
    {
     "name": "stdout",
     "output_type": "stream",
     "text": [
      "[3, 12, 19, 23]\n"
     ]
    }
   ],
   "source": [
    "#generate list using list comprehension and putting in index\n",
    "# if the door value at the index is '2' and the luggage capacity \n",
    "#at the index is 'big'.\n",
    "two_door_big_luggage = [index for index in range(len(doors)) if doors[index] == '2' and luggage_capacities[index] == 'big']\n",
    "\n",
    "#print the list\n",
    "print(two_door_big_luggage)"
   ]
  },
  {
   "cell_type": "markdown",
   "metadata": {},
   "source": [
    "### Approach 2\n",
    "\n",
    "Use a for loop to append values to the two_door_big_luggage_2 list if the door value at a given index is '2' and the luggage_capacities value is 'big'. <br>\n",
    "Print the list to show the results, and see that they are the same as in approach 1."
   ]
  },
  {
   "cell_type": "code",
   "execution_count": 45,
   "metadata": {},
   "outputs": [
    {
     "name": "stdout",
     "output_type": "stream",
     "text": [
      "[3, 12, 19, 23]\n"
     ]
    }
   ],
   "source": [
    "#initialize the list\n",
    "two_door_big_luggage_2 = []\n",
    "\n",
    "# loop through the indeces in doors list\n",
    "for index in range(len(doors)):\n",
    "    # check whether doors value is 2 and luggage_capacities value is big at the index\n",
    "    if doors[index] == '2' and luggage_capacities[index] == 'big':\n",
    "        #append the index to the list\n",
    "        two_door_big_luggage_2.append(index)\n",
    "\n",
    "#print the list\n",
    "print(two_door_big_luggage_2)"
   ]
  },
  {
   "cell_type": "markdown",
   "metadata": {},
   "source": [
    "### Approach 3\n",
    "Use a for loop to iterate over the enumeration of the doors list. <br>\n",
    "Check whether the door value is '2' and if it is, check whether the luggage_capacities value at that index is 'big'. <br>\n",
    "If it is, append the value to the two_door_big_luggage_3 list. <br>\n",
    "Print the list to show that the result is the same as previous two approaches."
   ]
  },
  {
   "cell_type": "code",
   "execution_count": 46,
   "metadata": {},
   "outputs": [
    {
     "name": "stdout",
     "output_type": "stream",
     "text": [
      "[3, 12, 19, 23]\n"
     ]
    }
   ],
   "source": [
    "#initialize the list\n",
    "two_door_big_luggage_3 = []\n",
    "\n",
    "#loop through each index and door value in doors list\n",
    "for index, door in enumerate(doors):\n",
    "    #check whether door is '2'\n",
    "    if door == '2':\n",
    "        #check whether luggage_capacities[index] is 'big'\n",
    "        if luggage_capacities[index] == 'big':\n",
    "            #add the index to the two_door_big_luggage_3 list\n",
    "            two_door_big_luggage_3.append(index)\n",
    "#print the list\n",
    "print(two_door_big_luggage_3)"
   ]
  },
  {
   "cell_type": "markdown",
   "metadata": {},
   "source": [
    "## Problem 6\n",
    "### Approach 1\n",
    "This approach uses only the built-in Python functionality to get the average number of doors in the dataset. <br>\n",
    "An empty list door_ints is created to store the result. Then loop through the doors list, check whether the current value is '5more', and if it is, change the value to '5'. <br>\n",
    "Then append the int value of the current door that is being iterated through to the door_ints list. The int value is obtained using the int function to cast it to int. <br>\n",
    "Calculate the average number of doors by using the sum function to get the sum of the elements of the door_ints list, and dividing that sum by length of the door_ints list, which is obtained using the len function. <br>\n",
    "Finally, print out the result."
   ]
  },
  {
   "cell_type": "code",
   "execution_count": 40,
   "metadata": {
    "scrolled": false
   },
   "outputs": [
    {
     "name": "stdout",
     "output_type": "stream",
     "text": [
      "The average number of doors in the dataset is 3.3142857142857145 doors.\n"
     ]
    }
   ],
   "source": [
    "#initalize the list\n",
    "door_ints = []\n",
    "for door in doors:\n",
    "    #if the door is '5more', change it to '5'\n",
    "    if door == '5more':\n",
    "        door = '5'\n",
    "    # add the int value of door to the list.\n",
    "    door_ints.append(int(door))\n",
    "\n",
    "# doors_average is calculated by dividing sum of elements in \n",
    "# door_ints list by length of the list.\n",
    "doors_average = sum(door_ints)/len(door_ints)\n",
    "\n",
    "# print the average number of doors.\n",
    "print(\"The average number of doors in the dataset is {} doors.\".format(doors_average))"
   ]
  },
  {
   "cell_type": "markdown",
   "metadata": {},
   "source": [
    "### Approach 2\n",
    "\n",
    "This approach uses the numpy package and list comprehensions to get the average number of doors. <br>\n",
    "A list comprehension is used to create the door_ints_2 list that holds all the integer values of doors in the doors list. <br>\n",
    "The doors are cast as ints using the built-in int function. Doors that are stored as '5more' are converted as well, because only the first character of the string is converted to int (so '5' becomes 5).<br>\n",
    "Then the numpy average function is called on the door_ints_2 list and printed, displaying the same result as in the first approach."
   ]
  },
  {
   "cell_type": "code",
   "execution_count": 39,
   "metadata": {},
   "outputs": [
    {
     "name": "stdout",
     "output_type": "stream",
     "text": [
      "The average number of doors in the dataset is 3.3142857142857145 doors.\n"
     ]
    }
   ],
   "source": [
    "import numpy as np\n",
    "\n",
    "#Use list comprehension to make int list of\n",
    "#door numbers. Take the first char of door string\n",
    "#and cast as int.\n",
    "door_ints_2 = [int(door[0]) for door in doors]\n",
    "\n",
    "#use numpy average function to get average of list\n",
    "doors_average_2 = np.average(door_ints_2)\n",
    "\n",
    "#print the average number of doors.\n",
    "print(\"The average number of doors in the dataset is {} doors.\".format(doors_average_2))"
   ]
  }
 ],
 "metadata": {
  "kernelspec": {
   "display_name": "Python 3",
   "language": "python",
   "name": "python3"
  },
  "language_info": {
   "codemirror_mode": {
    "name": "ipython",
    "version": 3
   },
   "file_extension": ".py",
   "mimetype": "text/x-python",
   "name": "python",
   "nbconvert_exporter": "python",
   "pygments_lexer": "ipython3",
   "version": "3.7.1"
  }
 },
 "nbformat": 4,
 "nbformat_minor": 2
}
