{
 "cells": [
  {
   "cell_type": "markdown",
   "metadata": {},
   "source": [
    "## Project 4: Predictive Analysis of Poisonous Mushrooms\n",
    "## By: Natan Bienstock\n",
    "\n",
    "### Introduction\n",
    "The goal of this analysis is to come up with a predictive model to determine whether a given mushroom is poisonous or edible. <br>\n",
    "To accomplish this goal, data is used from the [UCI Mushroom Data Set](https://archive.ics.uci.edu/ml/datasets/mushroom). <br>\n",
    "The modeling used for this analysis is binary logistic regression, as we are looking to determine whether a mushroom is either poisonous or not, which can be translated to a binary choice. <br>\n",
    "The steps taken to achieve this task are:\n",
    "1. Loading the Data and Performing an EDA (Exploratory Data Analysis) on the data set.\n",
    "2. Preparing the Data for the Binary Logistic Regression\n",
    "3. Building and Comparing Different Binary Logistic Regression Models\n",
    "4. Summary and Recommendations for Future Analysis"
   ]
  },
  {
   "cell_type": "code",
   "execution_count": 1,
   "metadata": {},
   "outputs": [],
   "source": [
    "import pandas as pd\n",
    "import seaborn as sns\n",
    "import matplotlib.pyplot as plt\n",
    "from sklearn.linear_model import LogisticRegression\n",
    "from sklearn.model_selection import train_test_split\n",
    "from sklearn import metrics"
   ]
  },
  {
   "cell_type": "markdown",
   "metadata": {},
   "source": [
    "%matplotlib notebook"
   ]
  },
  {
   "cell_type": "markdown",
   "metadata": {},
   "source": [
    "### 1. Loading the Data and EDA\n",
    "The data from the UCI Mushroom Data Set is loaded into a pandas' dataframe. <br>\n",
    "For this analysis, a subset of the data is used consisting of 4 columns:\n",
    "1. Poisonous column\n",
    "2. Cap-Color\n",
    "3. Odor\n",
    "4. Habitat \n",
    "\n",
    "These columns were chosen because I believed that they would have the most potential effect on whether a mushroom was poisonous or not. <br>\n",
    "It is conceivable that a mushroom would be poisonous if it had a particular odor, particular color, or was found in a particular location. <br>\n",
    "So, of the 23 columns in the mushrooms data set, I chose to focus my analysis on these 4 columns.<br>\n",
    "After loading the data into a dataframe, I then wanted to see how the data was distributed. <br>\n",
    "To do so, I found the number of mushrooms for each value in each column, and used seaborn to make bar plots of each column to make it easier to visualize the distribution of data. <br>"
   ]
  },
  {
   "cell_type": "code",
   "execution_count": 2,
   "metadata": {},
   "outputs": [],
   "source": [
    "# load the desired columns of mushroom data into a \n",
    "# pandas' dataframe and name the columns\n",
    "mushrooms = pd.read_csv('https://archive.ics.uci.edu/ml/machine-learning-databases/mushroom/agaricus-lepiota.data', \n",
    "                        header = None, \n",
    "                        usecols = [0,3,5,22], \n",
    "                        names = ['Poisonous', 'Cap-Color', 'Odor', 'Habitat'])"
   ]
  },
  {
   "cell_type": "code",
   "execution_count": 3,
   "metadata": {},
   "outputs": [
    {
     "data": {
      "text/html": [
       "<div>\n",
       "<style scoped>\n",
       "    .dataframe tbody tr th:only-of-type {\n",
       "        vertical-align: middle;\n",
       "    }\n",
       "\n",
       "    .dataframe tbody tr th {\n",
       "        vertical-align: top;\n",
       "    }\n",
       "\n",
       "    .dataframe thead th {\n",
       "        text-align: right;\n",
       "    }\n",
       "</style>\n",
       "<table border=\"1\" class=\"dataframe\">\n",
       "  <thead>\n",
       "    <tr style=\"text-align: right;\">\n",
       "      <th></th>\n",
       "      <th>Poisonous</th>\n",
       "      <th>Cap-Color</th>\n",
       "      <th>Odor</th>\n",
       "      <th>Habitat</th>\n",
       "    </tr>\n",
       "  </thead>\n",
       "  <tbody>\n",
       "    <tr>\n",
       "      <th>0</th>\n",
       "      <td>p</td>\n",
       "      <td>n</td>\n",
       "      <td>p</td>\n",
       "      <td>u</td>\n",
       "    </tr>\n",
       "    <tr>\n",
       "      <th>1</th>\n",
       "      <td>e</td>\n",
       "      <td>y</td>\n",
       "      <td>a</td>\n",
       "      <td>g</td>\n",
       "    </tr>\n",
       "    <tr>\n",
       "      <th>2</th>\n",
       "      <td>e</td>\n",
       "      <td>w</td>\n",
       "      <td>l</td>\n",
       "      <td>m</td>\n",
       "    </tr>\n",
       "    <tr>\n",
       "      <th>3</th>\n",
       "      <td>p</td>\n",
       "      <td>w</td>\n",
       "      <td>p</td>\n",
       "      <td>u</td>\n",
       "    </tr>\n",
       "    <tr>\n",
       "      <th>4</th>\n",
       "      <td>e</td>\n",
       "      <td>g</td>\n",
       "      <td>n</td>\n",
       "      <td>g</td>\n",
       "    </tr>\n",
       "  </tbody>\n",
       "</table>\n",
       "</div>"
      ],
      "text/plain": [
       "  Poisonous Cap-Color Odor Habitat\n",
       "0         p         n    p       u\n",
       "1         e         y    a       g\n",
       "2         e         w    l       m\n",
       "3         p         w    p       u\n",
       "4         e         g    n       g"
      ]
     },
     "execution_count": 3,
     "metadata": {},
     "output_type": "execute_result"
    }
   ],
   "source": [
    "# return the first 5 rows of mushroom data\n",
    "mushrooms.head()"
   ]
  },
  {
   "cell_type": "markdown",
   "metadata": {},
   "source": [
    "#### The Poisonous Column\n",
    "Based on the [data dictionary](https://archive.ics.uci.edu/ml/datasets/mushroom), there are 2 possible values for this column:\n",
    "1. e - the mushroom is edible\n",
    "2. p - the mushroom is poisonous\n",
    "\n",
    "The data in this data set contain more edible mushrooms than poisonous mushrooms, with 4208 edible and 3916 poisonous mushrooms. "
   ]
  },
  {
   "cell_type": "code",
   "execution_count": 4,
   "metadata": {},
   "outputs": [
    {
     "data": {
      "text/plain": [
       "e    4208\n",
       "p    3916\n",
       "Name: Poisonous, dtype: int64"
      ]
     },
     "execution_count": 4,
     "metadata": {},
     "output_type": "execute_result"
    }
   ],
   "source": [
    "# return the number of mushrooms for \n",
    "# each value in Poisonous column\n",
    "mushrooms.Poisonous.value_counts()"
   ]
  },
  {
   "cell_type": "code",
   "execution_count": 5,
   "metadata": {},
   "outputs": [
    {
     "data": {
      "image/png": "[encoded data removed]",
      "text/plain": [
       "<Figure size 432x288 with 1 Axes>"
      ]
     },
     "metadata": {
      "needs_background": "light"
     },
     "output_type": "display_data"
    }
   ],
   "source": [
    "# create a seaborn countplot (bar plot) of the values\n",
    "# in the Poisonous column, and order it by the number \n",
    "# of mushrooms for each value\n",
    "sns.countplot(x = 'Poisonous', data = mushrooms, order = mushrooms.Poisonous.value_counts().index, \n",
    "              palette = 'muted')\n",
    "# add a title and labels to the seaborn plot\n",
    "plt.title('Bar Plot of Mushroom Edibility', fontsize = 16)\n",
    "plt.xlabel('Edibility', fontsize = 12)\n",
    "plt.ylabel('Number of Mushrooms', fontsize = 12);"
   ]
  },
  {
   "cell_type": "markdown",
   "metadata": {},
   "source": [
    "#### Cap-Color Column\n",
    "Based on the [data dictionary](https://archive.ics.uci.edu/ml/datasets/mushroom), there are 10 possible values for this column:\n",
    "1. n - the mushroom's cap is brown\n",
    "2. b - the mushroom's cap is buff\n",
    "3. c - the mushroom's cap is cinnamon\n",
    "4. g - the mushroom's cap is gray\n",
    "5. r - the mushroom's cap is green\n",
    "6. p - the mushroom's cap is pink\n",
    "7. u - the mushroom's cap is purple\n",
    "8. e - the mushroom's cap is red\n",
    "9. w - the mushroom's cap is white\n",
    "10. y - the mushroom's cap is yellow\n",
    "\n",
    "The most common cap color in this data set is brown with 2284 brown mushrooms. <br>\n",
    "There are 5 cap-colors that have more than 1000 mushrooms in the data set with that color: brown, gray, red, yellow, and white. "
   ]
  },
  {
   "cell_type": "code",
   "execution_count": 6,
   "metadata": {},
   "outputs": [
    {
     "data": {
      "text/plain": [
       "n    2284\n",
       "g    1840\n",
       "e    1500\n",
       "y    1072\n",
       "w    1040\n",
       "b     168\n",
       "p     144\n",
       "c      44\n",
       "r      16\n",
       "u      16\n",
       "Name: Cap-Color, dtype: int64"
      ]
     },
     "execution_count": 6,
     "metadata": {},
     "output_type": "execute_result"
    }
   ],
   "source": [
    "# return the number of mushrooms for \n",
    "# each value in Cap-Color column\n",
    "mushrooms['Cap-Color'].value_counts()"
   ]
  },
  {
   "cell_type": "code",
   "execution_count": 7,
   "metadata": {},
   "outputs": [
    {
     "data": {
      "image/png": "[encoded data removed]",
      "text/plain": [
       "<Figure size 432x288 with 1 Axes>"
      ]
     },
     "metadata": {
      "needs_background": "light"
     },
     "output_type": "display_data"
    }
   ],
   "source": [
    "# create a seaborn countplot (bar plot) of the values\n",
    "# in the Cap-Color column, and order it by the number \n",
    "# of mushrooms for each value\n",
    "sns.countplot(x = 'Cap-Color', data = mushrooms, order = mushrooms['Cap-Color'].value_counts().index, \n",
    "              palette = 'muted')\n",
    "# add a title and labels to the seaborn plot\n",
    "plt.title('Bar Plot of Mushroom Cap Colors', fontsize = 16)\n",
    "plt.xlabel('Cap Color', fontsize = 12)\n",
    "plt.ylabel('Number of Mushrooms', fontsize = 12);"
   ]
  },
  {
   "cell_type": "markdown",
   "metadata": {},
   "source": [
    "#### Odor Column\n",
    "Based on the [data dictionary](https://archive.ics.uci.edu/ml/datasets/mushroom), there are 9 possible values for this column:\n",
    "1. a - the mushroom has an almond odor\n",
    "2. l - the mushroom has an anise odor\n",
    "3. c - the mushroom has a creosote odor\n",
    "4. y - the mushroom has a fishy odor\n",
    "5. f - the mushroom has a foul odor\n",
    "6. m - the mushroom has a musty odor\n",
    "7. n - the mushroom has no odor\n",
    "8. p - the mushroom has a pungent odor\n",
    "9. s - the mushroom has a spicy odor\n",
    "\n",
    "The most common odor in the dataset is no odor, with 3528 mushrooms having no odor. <br>\n",
    "There is only one other odor with more than 1000 mushrooms having it, and that is the foul odor with 2160 mushrooms in the data set smelling foul. <br>"
   ]
  },
  {
   "cell_type": "code",
   "execution_count": 8,
   "metadata": {},
   "outputs": [
    {
     "data": {
      "text/plain": [
       "n    3528\n",
       "f    2160\n",
       "s     576\n",
       "y     576\n",
       "a     400\n",
       "l     400\n",
       "p     256\n",
       "c     192\n",
       "m      36\n",
       "Name: Odor, dtype: int64"
      ]
     },
     "execution_count": 8,
     "metadata": {},
     "output_type": "execute_result"
    }
   ],
   "source": [
    "# return the number of mushrooms for \n",
    "# each value in Odor column\n",
    "mushrooms.Odor.value_counts()"
   ]
  },
  {
   "cell_type": "code",
   "execution_count": 9,
   "metadata": {},
   "outputs": [
    {
     "data": {
      "image/png": "[encoded data removed]",
      "text/plain": [
       "<Figure size 432x288 with 1 Axes>"
      ]
     },
     "metadata": {
      "needs_background": "light"
     },
     "output_type": "display_data"
    }
   ],
   "source": [
    "# create a seaborn countplot (bar plot) of the values\n",
    "# in the Odor column, and order it by the number \n",
    "# of mushrooms for each value\n",
    "sns.countplot(x = 'Odor', data = mushrooms, order = mushrooms.Odor.value_counts().index, \n",
    "              palette = 'muted')\n",
    "# add a title and labels to the seaborn plot\n",
    "plt.title('Bar Plot of Mushroom Odors', fontsize = 16)\n",
    "plt.xlabel('Odor', fontsize = 12)\n",
    "plt.ylabel('Number of Mushrooms', fontsize = 12);"
   ]
  },
  {
   "cell_type": "markdown",
   "metadata": {},
   "source": [
    "#### Habitat Column\n",
    "Based on the [data dictionary](https://archive.ics.uci.edu/ml/datasets/mushroom), there are 7 possible values for this column:\n",
    "1. g - the mushroom was found in grasses\n",
    "2. l - the mushroom was found in leaves\n",
    "3. m - the mushroom was found in meadows\n",
    "4. p - the mushroom was found on paths\n",
    "5. u - the mushroom was found in urban areas\n",
    "6. w - the mushroom was found in waste\n",
    "7. d - the mushroom was found in woods\n",
    "\n",
    "The most common habitat in the data set is the woods with 3148 mushrooms found there. <br>\n",
    "There are two other habitats with more than 1000 mushrooms found there, grasses and paths. "
   ]
  },
  {
   "cell_type": "code",
   "execution_count": 10,
   "metadata": {},
   "outputs": [
    {
     "data": {
      "text/plain": [
       "d    3148\n",
       "g    2148\n",
       "p    1144\n",
       "l     832\n",
       "u     368\n",
       "m     292\n",
       "w     192\n",
       "Name: Habitat, dtype: int64"
      ]
     },
     "execution_count": 10,
     "metadata": {},
     "output_type": "execute_result"
    }
   ],
   "source": [
    "# return the number of mushrooms for \n",
    "# each value in Habitat column\n",
    "mushrooms.Habitat.value_counts()"
   ]
  },
  {
   "cell_type": "code",
   "execution_count": 11,
   "metadata": {},
   "outputs": [
    {
     "data": {
      "image/png": "[encoded data removed]",
      "text/plain": [
       "<Figure size 432x288 with 1 Axes>"
      ]
     },
     "metadata": {
      "needs_background": "light"
     },
     "output_type": "display_data"
    }
   ],
   "source": [
    "# create a seaborn countplot (bar plot) of the values\n",
    "# in the Habitat column, and order it by the number \n",
    "# of mushrooms for each value\n",
    "sns.countplot(x = 'Habitat', data = mushrooms, order = mushrooms.Habitat.value_counts().index, \n",
    "              palette = 'muted')\n",
    "# add a title and labels to the seaborn plot\n",
    "plt.title('Bar Plot of Mushroom Habitats', fontsize = 16)\n",
    "plt.xlabel('Habitat', fontsize = 12)\n",
    "plt.ylabel('Number of Mushrooms', fontsize = 12);"
   ]
  },
  {
   "cell_type": "markdown",
   "metadata": {},
   "source": [
    "#### Missing Data Check\n",
    "In order to check whether there were any values missing in any column, I first found the number of rows of data in the data set using the shape attribute of the mushrooms dataframe. <br>\n",
    "I found that there were 8124 rows of mushroom data. <br>\n",
    "I then found the sum of the value counts for each column and confirmed that they were also 8124. <br>\n",
    "Since they were all 8124, I concluded that this data set was not missing any data in these columns. "
   ]
  },
  {
   "cell_type": "code",
   "execution_count": 12,
   "metadata": {},
   "outputs": [
    {
     "data": {
      "text/plain": [
       "8124"
      ]
     },
     "execution_count": 12,
     "metadata": {},
     "output_type": "execute_result"
    }
   ],
   "source": [
    "# return the number of rows in the mushroom data set.\n",
    "mushrooms.shape[0]"
   ]
  },
  {
   "cell_type": "code",
   "execution_count": 13,
   "metadata": {},
   "outputs": [
    {
     "data": {
      "text/plain": [
       "8124"
      ]
     },
     "execution_count": 13,
     "metadata": {},
     "output_type": "execute_result"
    }
   ],
   "source": [
    "# return the number of mushrooms that have \n",
    "# values in the Poisonous column\n",
    "mushrooms.Poisonous.value_counts().sum()"
   ]
  },
  {
   "cell_type": "code",
   "execution_count": 14,
   "metadata": {},
   "outputs": [
    {
     "data": {
      "text/plain": [
       "8124"
      ]
     },
     "execution_count": 14,
     "metadata": {},
     "output_type": "execute_result"
    }
   ],
   "source": [
    "# return the number of mushrooms that have \n",
    "# values in the Cap-Color column\n",
    "mushrooms['Cap-Color'].value_counts().sum()"
   ]
  },
  {
   "cell_type": "code",
   "execution_count": 15,
   "metadata": {},
   "outputs": [
    {
     "data": {
      "text/plain": [
       "8124"
      ]
     },
     "execution_count": 15,
     "metadata": {},
     "output_type": "execute_result"
    }
   ],
   "source": [
    "# return the number of mushrooms that have \n",
    "# values in the Odor column\n",
    "mushrooms.Odor.value_counts().sum()"
   ]
  },
  {
   "cell_type": "code",
   "execution_count": 16,
   "metadata": {},
   "outputs": [
    {
     "data": {
      "text/plain": [
       "8124"
      ]
     },
     "execution_count": 16,
     "metadata": {},
     "output_type": "execute_result"
    }
   ],
   "source": [
    "# return the number of mushrooms that have \n",
    "# values in the Habitat column\n",
    "mushrooms.Habitat.value_counts().sum()"
   ]
  },
  {
   "cell_type": "markdown",
   "metadata": {},
   "source": [
    "### 2. Preparing the Data \n",
    "In order to get the data ready for predictive modeling, the categorical data needs to be converted to numeric values. <br>\n",
    "To do so, I created a copy of the mushrooms dataframe, and then created indicator variables for each important value in my data set. <br>\n",
    "I determined that a value was \"important\" if there were more than 1000 mushrooms that had that value. <br>\n",
    "I believed that any value that had less than 1000 mushrooms was a sparse classification, and should be combined to help the model be more accurate. <br>\n",
    "I created one indicator variable that I wanted to predict - Poisonous_Dummy - that contains a 1 if the mushroom is poisonous, and a 0 if the mushroom is edible. <br>\n",
    "For the Cap-Color column I created 6 indicator variables:\n",
    "1. Brown-Cap - 1 if the mushroom's cap color is brown, 0 otherwise\n",
    "2. Gray-Cap - 1 if the mushroom's cap color is gray, 0 otherwise\n",
    "3. Red-Cap - 1 if the mushroom's cap color is red, 0 otherwise\n",
    "4. Yellow-Cap - 1 if the mushroom's cap color is yellow, 0 otherwise\n",
    "5. White-Cap - 1 if the mushroom's cap color is white, 0 otherwise\n",
    "6. Other-Cap - 1 if the mushroom's cap color is any other color not previously specified, 0 otherwise\n",
    "\n",
    "For the Odor column I created 3 indicator variables:\n",
    "1. No-Odor - 1 if the mushroom's odor is none, 0 otherwise\n",
    "2. Foul-Odor - 1 if the mushroom's odor is foul, 0 otherwise\n",
    "3. Other-Odor - 1 if the mushroom's odor is any other odor not previously specified, 0 otherwise\n",
    "\n",
    "\n",
    "For the Habitat column I created 4 indicator variables:\n",
    "1. Woods-Habitat - 1 if the mushroom's habitat is woods, 0 otherwise\n",
    "2. Grass-Habitat - 1 if the mushroom's habitat is grasses, 0 otherwise\n",
    "3. Paths-Habitat - 1 if the mushroom's habitat is paths, 0 otherwise\n",
    "4. Other-Habiat - 1 if the mushroom's habitat is any other habitat not previously specified, 0 otherwise\n",
    "\n",
    "After creating these indicator variables, I split the data into 2 variables: y and X. <bR>\n",
    "The y variable contained the Poisonous_Dummy variable, the variable that I want to predict in my model.<br>\n",
    "The X variable contains all the other indicator variables, which will be used to try and predict the y variable. <br>\n",
    "<br>\n",
    "I then used the scikit-learn's test_train_split method to split my data into a training set and a test set. <br>\n",
    "I put 70% of my data in the training set, and 30% in the test set. <br>\n",
    "The reason for splitting the data is so that I can have an additional metric to test how well the predictive models predict whether a mushroom is poisonous, by testing it on data that the model has yet to see. <br>"
   ]
  },
  {
   "cell_type": "code",
   "execution_count": 17,
   "metadata": {},
   "outputs": [],
   "source": [
    "# create a copy of the mushrooms dataframe\n",
    "mushrooms2 = mushrooms.copy()"
   ]
  },
  {
   "cell_type": "code",
   "execution_count": 18,
   "metadata": {},
   "outputs": [
    {
     "data": {
      "text/html": [
       "<div>\n",
       "<style scoped>\n",
       "    .dataframe tbody tr th:only-of-type {\n",
       "        vertical-align: middle;\n",
       "    }\n",
       "\n",
       "    .dataframe tbody tr th {\n",
       "        vertical-align: top;\n",
       "    }\n",
       "\n",
       "    .dataframe thead th {\n",
       "        text-align: right;\n",
       "    }\n",
       "</style>\n",
       "<table border=\"1\" class=\"dataframe\">\n",
       "  <thead>\n",
       "    <tr style=\"text-align: right;\">\n",
       "      <th></th>\n",
       "      <th>Poisonous</th>\n",
       "      <th>Cap-Color</th>\n",
       "      <th>Odor</th>\n",
       "      <th>Habitat</th>\n",
       "    </tr>\n",
       "  </thead>\n",
       "  <tbody>\n",
       "    <tr>\n",
       "      <th>0</th>\n",
       "      <td>p</td>\n",
       "      <td>n</td>\n",
       "      <td>p</td>\n",
       "      <td>u</td>\n",
       "    </tr>\n",
       "    <tr>\n",
       "      <th>1</th>\n",
       "      <td>e</td>\n",
       "      <td>y</td>\n",
       "      <td>a</td>\n",
       "      <td>g</td>\n",
       "    </tr>\n",
       "    <tr>\n",
       "      <th>2</th>\n",
       "      <td>e</td>\n",
       "      <td>w</td>\n",
       "      <td>l</td>\n",
       "      <td>m</td>\n",
       "    </tr>\n",
       "    <tr>\n",
       "      <th>3</th>\n",
       "      <td>p</td>\n",
       "      <td>w</td>\n",
       "      <td>p</td>\n",
       "      <td>u</td>\n",
       "    </tr>\n",
       "    <tr>\n",
       "      <th>4</th>\n",
       "      <td>e</td>\n",
       "      <td>g</td>\n",
       "      <td>n</td>\n",
       "      <td>g</td>\n",
       "    </tr>\n",
       "  </tbody>\n",
       "</table>\n",
       "</div>"
      ],
      "text/plain": [
       "  Poisonous Cap-Color Odor Habitat\n",
       "0         p         n    p       u\n",
       "1         e         y    a       g\n",
       "2         e         w    l       m\n",
       "3         p         w    p       u\n",
       "4         e         g    n       g"
      ]
     },
     "execution_count": 18,
     "metadata": {},
     "output_type": "execute_result"
    }
   ],
   "source": [
    "# return the first 5 rows of the copied dataframe\n",
    "mushrooms2.head()"
   ]
  },
  {
   "cell_type": "code",
   "execution_count": 19,
   "metadata": {},
   "outputs": [],
   "source": [
    "# create an indicator variable as to whether a mushroom was poisonous\n",
    "# 1 if poisonous, 0 if edible\n",
    "mushrooms2['Poisonous_Dummy'] = (mushrooms2['Poisonous'] == 'p').astype(int)"
   ]
  },
  {
   "cell_type": "code",
   "execution_count": 20,
   "metadata": {},
   "outputs": [
    {
     "data": {
      "text/html": [
       "<div>\n",
       "<style scoped>\n",
       "    .dataframe tbody tr th:only-of-type {\n",
       "        vertical-align: middle;\n",
       "    }\n",
       "\n",
       "    .dataframe tbody tr th {\n",
       "        vertical-align: top;\n",
       "    }\n",
       "\n",
       "    .dataframe thead th {\n",
       "        text-align: right;\n",
       "    }\n",
       "</style>\n",
       "<table border=\"1\" class=\"dataframe\">\n",
       "  <thead>\n",
       "    <tr style=\"text-align: right;\">\n",
       "      <th></th>\n",
       "      <th>Poisonous</th>\n",
       "      <th>Cap-Color</th>\n",
       "      <th>Odor</th>\n",
       "      <th>Habitat</th>\n",
       "      <th>Poisonous_Dummy</th>\n",
       "    </tr>\n",
       "  </thead>\n",
       "  <tbody>\n",
       "    <tr>\n",
       "      <th>0</th>\n",
       "      <td>p</td>\n",
       "      <td>n</td>\n",
       "      <td>p</td>\n",
       "      <td>u</td>\n",
       "      <td>1</td>\n",
       "    </tr>\n",
       "    <tr>\n",
       "      <th>1</th>\n",
       "      <td>e</td>\n",
       "      <td>y</td>\n",
       "      <td>a</td>\n",
       "      <td>g</td>\n",
       "      <td>0</td>\n",
       "    </tr>\n",
       "    <tr>\n",
       "      <th>2</th>\n",
       "      <td>e</td>\n",
       "      <td>w</td>\n",
       "      <td>l</td>\n",
       "      <td>m</td>\n",
       "      <td>0</td>\n",
       "    </tr>\n",
       "    <tr>\n",
       "      <th>3</th>\n",
       "      <td>p</td>\n",
       "      <td>w</td>\n",
       "      <td>p</td>\n",
       "      <td>u</td>\n",
       "      <td>1</td>\n",
       "    </tr>\n",
       "    <tr>\n",
       "      <th>4</th>\n",
       "      <td>e</td>\n",
       "      <td>g</td>\n",
       "      <td>n</td>\n",
       "      <td>g</td>\n",
       "      <td>0</td>\n",
       "    </tr>\n",
       "  </tbody>\n",
       "</table>\n",
       "</div>"
      ],
      "text/plain": [
       "  Poisonous Cap-Color Odor Habitat  Poisonous_Dummy\n",
       "0         p         n    p       u                1\n",
       "1         e         y    a       g                0\n",
       "2         e         w    l       m                0\n",
       "3         p         w    p       u                1\n",
       "4         e         g    n       g                0"
      ]
     },
     "execution_count": 20,
     "metadata": {},
     "output_type": "execute_result"
    }
   ],
   "source": [
    "# return the first 5 rows of data to confirm indicator variable\n",
    "# was created correctly\n",
    "mushrooms2.head()"
   ]
  },
  {
   "cell_type": "code",
   "execution_count": 21,
   "metadata": {},
   "outputs": [],
   "source": [
    "# create indicator variables for the 5 colors in the Cap-Color\n",
    "# column that had more than 1000 mushrooms.\n",
    "# create sixth column that indicates any other color.\n",
    "mushrooms2['Brown-Cap'] = (mushrooms2['Cap-Color'] == 'n').astype(int)\n",
    "mushrooms2['Gray-Cap'] = (mushrooms2['Cap-Color'] == 'g').astype(int)\n",
    "mushrooms2['Red-Cap'] = (mushrooms2['Cap-Color'] == 'e').astype(int)\n",
    "mushrooms2['Yellow-Cap'] = (mushrooms2['Cap-Color'] == 'y').astype(int)\n",
    "mushrooms2['White-Cap'] = (mushrooms2['Cap-Color'] == 'w').astype(int)\n",
    "mushrooms2['Other-Cap'] = (mushrooms2['Cap-Color'].isin(['b','p','c','u','r'])).astype(int)"
   ]
  },
  {
   "cell_type": "code",
   "execution_count": 22,
   "metadata": {},
   "outputs": [],
   "source": [
    "# create indicator variables for the 2 odors in the Odor\n",
    "# column that had more than 1000 mushrooms.\n",
    "# create third column that indicates any other odor.\n",
    "mushrooms2['No-Odor'] = (mushrooms2['Odor'] == 'n').astype(int)\n",
    "mushrooms2['Foul-Odor'] = (mushrooms2['Odor'] == 'f').astype(int)\n",
    "mushrooms2['Other-Odor'] = (mushrooms2['Odor'].isin(['y','s','l','a','p','c','m'])).astype(int)"
   ]
  },
  {
   "cell_type": "code",
   "execution_count": 23,
   "metadata": {},
   "outputs": [],
   "source": [
    "# create indicator variables for the 3 habitats in the Habitat\n",
    "# column that had more than 1000 mushrooms.\n",
    "# create fourth column that indicates any other habitat.\n",
    "mushrooms2['Woods-Habitat'] = (mushrooms2['Habitat'] == 'd').astype(int)\n",
    "mushrooms2['Grass-Habitat'] = (mushrooms2['Habitat'] == 'g').astype(int)\n",
    "mushrooms2['Paths-Habitat'] = (mushrooms2['Habitat'] == 'p').astype(int)\n",
    "mushrooms2['Other-Habitat'] = (mushrooms2['Habitat'].isin(['l','u','m','w'])).astype(int)"
   ]
  },
  {
   "cell_type": "code",
   "execution_count": 24,
   "metadata": {},
   "outputs": [
    {
     "data": {
      "text/html": [
       "<div>\n",
       "<style scoped>\n",
       "    .dataframe tbody tr th:only-of-type {\n",
       "        vertical-align: middle;\n",
       "    }\n",
       "\n",
       "    .dataframe tbody tr th {\n",
       "        vertical-align: top;\n",
       "    }\n",
       "\n",
       "    .dataframe thead th {\n",
       "        text-align: right;\n",
       "    }\n",
       "</style>\n",
       "<table border=\"1\" class=\"dataframe\">\n",
       "  <thead>\n",
       "    <tr style=\"text-align: right;\">\n",
       "      <th></th>\n",
       "      <th>Poisonous</th>\n",
       "      <th>Cap-Color</th>\n",
       "      <th>Odor</th>\n",
       "      <th>Habitat</th>\n",
       "      <th>Poisonous_Dummy</th>\n",
       "      <th>Brown-Cap</th>\n",
       "      <th>Gray-Cap</th>\n",
       "      <th>Red-Cap</th>\n",
       "      <th>Yellow-Cap</th>\n",
       "      <th>White-Cap</th>\n",
       "      <th>Other-Cap</th>\n",
       "      <th>No-Odor</th>\n",
       "      <th>Foul-Odor</th>\n",
       "      <th>Other-Odor</th>\n",
       "      <th>Woods-Habitat</th>\n",
       "      <th>Grass-Habitat</th>\n",
       "      <th>Paths-Habitat</th>\n",
       "      <th>Other-Habitat</th>\n",
       "    </tr>\n",
       "  </thead>\n",
       "  <tbody>\n",
       "    <tr>\n",
       "      <th>0</th>\n",
       "      <td>p</td>\n",
       "      <td>n</td>\n",
       "      <td>p</td>\n",
       "      <td>u</td>\n",
       "      <td>1</td>\n",
       "      <td>1</td>\n",
       "      <td>0</td>\n",
       "      <td>0</td>\n",
       "      <td>0</td>\n",
       "      <td>0</td>\n",
       "      <td>0</td>\n",
       "      <td>0</td>\n",
       "      <td>0</td>\n",
       "      <td>1</td>\n",
       "      <td>0</td>\n",
       "      <td>0</td>\n",
       "      <td>0</td>\n",
       "      <td>1</td>\n",
       "    </tr>\n",
       "    <tr>\n",
       "      <th>1</th>\n",
       "      <td>e</td>\n",
       "      <td>y</td>\n",
       "      <td>a</td>\n",
       "      <td>g</td>\n",
       "      <td>0</td>\n",
       "      <td>0</td>\n",
       "      <td>0</td>\n",
       "      <td>0</td>\n",
       "      <td>1</td>\n",
       "      <td>0</td>\n",
       "      <td>0</td>\n",
       "      <td>0</td>\n",
       "      <td>0</td>\n",
       "      <td>1</td>\n",
       "      <td>0</td>\n",
       "      <td>1</td>\n",
       "      <td>0</td>\n",
       "      <td>0</td>\n",
       "    </tr>\n",
       "    <tr>\n",
       "      <th>2</th>\n",
       "      <td>e</td>\n",
       "      <td>w</td>\n",
       "      <td>l</td>\n",
       "      <td>m</td>\n",
       "      <td>0</td>\n",
       "      <td>0</td>\n",
       "      <td>0</td>\n",
       "      <td>0</td>\n",
       "      <td>0</td>\n",
       "      <td>1</td>\n",
       "      <td>0</td>\n",
       "      <td>0</td>\n",
       "      <td>0</td>\n",
       "      <td>1</td>\n",
       "      <td>0</td>\n",
       "      <td>0</td>\n",
       "      <td>0</td>\n",
       "      <td>1</td>\n",
       "    </tr>\n",
       "    <tr>\n",
       "      <th>3</th>\n",
       "      <td>p</td>\n",
       "      <td>w</td>\n",
       "      <td>p</td>\n",
       "      <td>u</td>\n",
       "      <td>1</td>\n",
       "      <td>0</td>\n",
       "      <td>0</td>\n",
       "      <td>0</td>\n",
       "      <td>0</td>\n",
       "      <td>1</td>\n",
       "      <td>0</td>\n",
       "      <td>0</td>\n",
       "      <td>0</td>\n",
       "      <td>1</td>\n",
       "      <td>0</td>\n",
       "      <td>0</td>\n",
       "      <td>0</td>\n",
       "      <td>1</td>\n",
       "    </tr>\n",
       "    <tr>\n",
       "      <th>4</th>\n",
       "      <td>e</td>\n",
       "      <td>g</td>\n",
       "      <td>n</td>\n",
       "      <td>g</td>\n",
       "      <td>0</td>\n",
       "      <td>0</td>\n",
       "      <td>1</td>\n",
       "      <td>0</td>\n",
       "      <td>0</td>\n",
       "      <td>0</td>\n",
       "      <td>0</td>\n",
       "      <td>1</td>\n",
       "      <td>0</td>\n",
       "      <td>0</td>\n",
       "      <td>0</td>\n",
       "      <td>1</td>\n",
       "      <td>0</td>\n",
       "      <td>0</td>\n",
       "    </tr>\n",
       "  </tbody>\n",
       "</table>\n",
       "</div>"
      ],
      "text/plain": [
       "  Poisonous Cap-Color Odor Habitat  Poisonous_Dummy  Brown-Cap  Gray-Cap  \\\n",
       "0         p         n    p       u                1          1         0   \n",
       "1         e         y    a       g                0          0         0   \n",
       "2         e         w    l       m                0          0         0   \n",
       "3         p         w    p       u                1          0         0   \n",
       "4         e         g    n       g                0          0         1   \n",
       "\n",
       "   Red-Cap  Yellow-Cap  White-Cap  Other-Cap  No-Odor  Foul-Odor  Other-Odor  \\\n",
       "0        0           0          0          0        0          0           1   \n",
       "1        0           1          0          0        0          0           1   \n",
       "2        0           0          1          0        0          0           1   \n",
       "3        0           0          1          0        0          0           1   \n",
       "4        0           0          0          0        1          0           0   \n",
       "\n",
       "   Woods-Habitat  Grass-Habitat  Paths-Habitat  Other-Habitat  \n",
       "0              0              0              0              1  \n",
       "1              0              1              0              0  \n",
       "2              0              0              0              1  \n",
       "3              0              0              0              1  \n",
       "4              0              1              0              0  "
      ]
     },
     "execution_count": 24,
     "metadata": {},
     "output_type": "execute_result"
    }
   ],
   "source": [
    "# return the first 5 rows of data to confirm all indicator\n",
    "# variables were created correctly.\n",
    "mushrooms2.head()"
   ]
  },
  {
   "cell_type": "code",
   "execution_count": 25,
   "metadata": {},
   "outputs": [
    {
     "data": {
      "text/plain": [
       "0    1\n",
       "1    0\n",
       "2    0\n",
       "3    1\n",
       "4    0\n",
       "Name: Poisonous_Dummy, dtype: int64"
      ]
     },
     "execution_count": 25,
     "metadata": {},
     "output_type": "execute_result"
    }
   ],
   "source": [
    "# create variable y to hold the variable that I want to predict\n",
    "y = mushrooms2['Poisonous_Dummy']\n",
    "# return the first 5 rows of y variable\n",
    "y.head()"
   ]
  },
  {
   "cell_type": "code",
   "execution_count": 26,
   "metadata": {},
   "outputs": [],
   "source": [
    "# create variable X to hold the variables that I want to\n",
    "# use to predict y variable\n",
    "\n",
    "X = mushrooms2[['Brown-Cap', 'Gray-Cap', 'Red-Cap', 'Yellow-Cap', 'White-Cap', 'Other-Cap',\n",
    "               'No-Odor', 'Foul-Odor','Other-Odor', \n",
    "                'Woods-Habitat', 'Grass-Habitat', 'Paths-Habitat', 'Other-Habitat']]"
   ]
  },
  {
   "cell_type": "code",
   "execution_count": 27,
   "metadata": {},
   "outputs": [
    {
     "data": {
      "text/html": [
       "<div>\n",
       "<style scoped>\n",
       "    .dataframe tbody tr th:only-of-type {\n",
       "        vertical-align: middle;\n",
       "    }\n",
       "\n",
       "    .dataframe tbody tr th {\n",
       "        vertical-align: top;\n",
       "    }\n",
       "\n",
       "    .dataframe thead th {\n",
       "        text-align: right;\n",
       "    }\n",
       "</style>\n",
       "<table border=\"1\" class=\"dataframe\">\n",
       "  <thead>\n",
       "    <tr style=\"text-align: right;\">\n",
       "      <th></th>\n",
       "      <th>Brown-Cap</th>\n",
       "      <th>Gray-Cap</th>\n",
       "      <th>Red-Cap</th>\n",
       "      <th>Yellow-Cap</th>\n",
       "      <th>White-Cap</th>\n",
       "      <th>Other-Cap</th>\n",
       "      <th>No-Odor</th>\n",
       "      <th>Foul-Odor</th>\n",
       "      <th>Other-Odor</th>\n",
       "      <th>Woods-Habitat</th>\n",
       "      <th>Grass-Habitat</th>\n",
       "      <th>Paths-Habitat</th>\n",
       "      <th>Other-Habitat</th>\n",
       "    </tr>\n",
       "  </thead>\n",
       "  <tbody>\n",
       "    <tr>\n",
       "      <th>0</th>\n",
       "      <td>1</td>\n",
       "      <td>0</td>\n",
       "      <td>0</td>\n",
       "      <td>0</td>\n",
       "      <td>0</td>\n",
       "      <td>0</td>\n",
       "      <td>0</td>\n",
       "      <td>0</td>\n",
       "      <td>1</td>\n",
       "      <td>0</td>\n",
       "      <td>0</td>\n",
       "      <td>0</td>\n",
       "      <td>1</td>\n",
       "    </tr>\n",
       "    <tr>\n",
       "      <th>1</th>\n",
       "      <td>0</td>\n",
       "      <td>0</td>\n",
       "      <td>0</td>\n",
       "      <td>1</td>\n",
       "      <td>0</td>\n",
       "      <td>0</td>\n",
       "      <td>0</td>\n",
       "      <td>0</td>\n",
       "      <td>1</td>\n",
       "      <td>0</td>\n",
       "      <td>1</td>\n",
       "      <td>0</td>\n",
       "      <td>0</td>\n",
       "    </tr>\n",
       "    <tr>\n",
       "      <th>2</th>\n",
       "      <td>0</td>\n",
       "      <td>0</td>\n",
       "      <td>0</td>\n",
       "      <td>0</td>\n",
       "      <td>1</td>\n",
       "      <td>0</td>\n",
       "      <td>0</td>\n",
       "      <td>0</td>\n",
       "      <td>1</td>\n",
       "      <td>0</td>\n",
       "      <td>0</td>\n",
       "      <td>0</td>\n",
       "      <td>1</td>\n",
       "    </tr>\n",
       "    <tr>\n",
       "      <th>3</th>\n",
       "      <td>0</td>\n",
       "      <td>0</td>\n",
       "      <td>0</td>\n",
       "      <td>0</td>\n",
       "      <td>1</td>\n",
       "      <td>0</td>\n",
       "      <td>0</td>\n",
       "      <td>0</td>\n",
       "      <td>1</td>\n",
       "      <td>0</td>\n",
       "      <td>0</td>\n",
       "      <td>0</td>\n",
       "      <td>1</td>\n",
       "    </tr>\n",
       "    <tr>\n",
       "      <th>4</th>\n",
       "      <td>0</td>\n",
       "      <td>1</td>\n",
       "      <td>0</td>\n",
       "      <td>0</td>\n",
       "      <td>0</td>\n",
       "      <td>0</td>\n",
       "      <td>1</td>\n",
       "      <td>0</td>\n",
       "      <td>0</td>\n",
       "      <td>0</td>\n",
       "      <td>1</td>\n",
       "      <td>0</td>\n",
       "      <td>0</td>\n",
       "    </tr>\n",
       "  </tbody>\n",
       "</table>\n",
       "</div>"
      ],
      "text/plain": [
       "   Brown-Cap  Gray-Cap  Red-Cap  Yellow-Cap  White-Cap  Other-Cap  No-Odor  \\\n",
       "0          1         0        0           0          0          0        0   \n",
       "1          0         0        0           1          0          0        0   \n",
       "2          0         0        0           0          1          0        0   \n",
       "3          0         0        0           0          1          0        0   \n",
       "4          0         1        0           0          0          0        1   \n",
       "\n",
       "   Foul-Odor  Other-Odor  Woods-Habitat  Grass-Habitat  Paths-Habitat  \\\n",
       "0          0           1              0              0              0   \n",
       "1          0           1              0              1              0   \n",
       "2          0           1              0              0              0   \n",
       "3          0           1              0              0              0   \n",
       "4          0           0              0              1              0   \n",
       "\n",
       "   Other-Habitat  \n",
       "0              1  \n",
       "1              0  \n",
       "2              1  \n",
       "3              1  \n",
       "4              0  "
      ]
     },
     "execution_count": 27,
     "metadata": {},
     "output_type": "execute_result"
    }
   ],
   "source": [
    "# return the first 5 rows of X variable\n",
    "X.head()"
   ]
  },
  {
   "cell_type": "code",
   "execution_count": 28,
   "metadata": {},
   "outputs": [],
   "source": [
    "# create 4 variables, X_train, X_test, y_train, y_test\n",
    "# to hold the X and y values to be used for training\n",
    "# the models and for testing the models\n",
    "# use 30% of data for testing\n",
    "X_train, X_test, y_train, y_test = train_test_split(X, y, test_size=0.3, random_state=0)"
   ]
  },
  {
   "cell_type": "markdown",
   "metadata": {},
   "source": [
    "### 3. Building & Comparing Predictive Models\n",
    "#### Thoughts Prior to Modeling Data\n",
    "The 1981 book _The Audubon Society Field Guide to North American Mushrooms_ claims that there is no easy rule to determine whether a mushroom is poisonous. <bR>\n",
    "This makes me think that there is no one visible sign as to whether a mushroom is poisonous. <br>\n",
    "So I believe that neither the Cap-Color nor the Habitat variables will be the best indicators of a mushroom's edibility on their own. <br>\n",
    "I believe that odor will be the best single predictor of a mushroom's edibility, but a model that combines all three columns will be the best indicators of a mushroom's edibility. <br>\n",
    "    \n",
    "Before building any models, I wanted to establish the benchmark that any model would have to beat to better than just guessing. <br>\n",
    "To do so, I found that ~48.3644% of mushrooms in the training dataset were poisonous, meaning that ~51.6356% of mushrooms were edible. <br>\n",
    "So if you guessed that every mushroom was edible, you would be right ~51.6356% of the time. <br>\n",
    "Any model that is built needs to be better than guessing, so it needs to be right more than ~51.6356% of the time to be useful. <br>\n",
    "\n",
    "Since I want to predict whether a mushroom was poisonous or edible, I used the LogisticRegression() method in scikit-learn to build my models."
   ]
  },
  {
   "cell_type": "code",
   "execution_count": 29,
   "metadata": {},
   "outputs": [
    {
     "data": {
      "text/plain": [
       "48.36440379880408"
      ]
     },
     "execution_count": 29,
     "metadata": {},
     "output_type": "execute_result"
    }
   ],
   "source": [
    "# return percentage of mushrooms in training data that are poisonous.\n",
    "y_train.sum()/y_train.shape[0] * 100"
   ]
  },
  {
   "cell_type": "markdown",
   "metadata": {},
   "source": [
    "#### Predicting Based on Cap-Color\n",
    "The first model that I built predict's whether a mushroom is poisonous or not using the cap-color indicator variables. <br>\n",
    "I used scikt-learn's LogisticRegression method to create the model, and then fit my cap-color indicator variables to the model. <br>\n",
    "I then used the score method to determine what percentage of mushrooms in training data were accurately determined to be poisonous using this model. <br>\n",
    "This model had an accuracy of ~58.6352% which is ~7% better than just guessing. <br>\n",
    "On the test data, the model was able to predict a mushroom's edibility ~59.4750% of the time, which is slightly better than on the training data, and about 8% better than just guessing. "
   ]
  },
  {
   "cell_type": "code",
   "execution_count": 30,
   "metadata": {
    "scrolled": true
   },
   "outputs": [
    {
     "name": "stderr",
     "output_type": "stream",
     "text": [
      "/anaconda3/lib/python3.7/site-packages/sklearn/linear_model/logistic.py:433: FutureWarning: Default solver will be changed to 'lbfgs' in 0.22. Specify a solver to silence this warning.\n",
      "  FutureWarning)\n"
     ]
    },
    {
     "data": {
      "text/plain": [
       "LogisticRegression(C=1.0, class_weight=None, dual=False, fit_intercept=True,\n",
       "          intercept_scaling=1, max_iter=100, multi_class='warn',\n",
       "          n_jobs=None, penalty='l2', random_state=None, solver='warn',\n",
       "          tol=0.0001, verbose=0, warm_start=False)"
      ]
     },
     "execution_count": 30,
     "metadata": {},
     "output_type": "execute_result"
    }
   ],
   "source": [
    "# use scikit-learn's LogisticRegression modeling method\n",
    "model_cap_color = LogisticRegression()\n",
    "# fit the model using the subset of the X_train data\n",
    "# that contains indicator variables about Cap-Color and the y_train data\n",
    "model_cap_color.fit(X_train[['Brown-Cap', 'Gray-Cap', 'Red-Cap', 'Yellow-Cap', 'White-Cap', 'Other-Cap']],y_train)"
   ]
  },
  {
   "cell_type": "code",
   "execution_count": 31,
   "metadata": {},
   "outputs": [
    {
     "data": {
      "text/plain": [
       "58.63524446007739"
      ]
     },
     "execution_count": 31,
     "metadata": {},
     "output_type": "execute_result"
    }
   ],
   "source": [
    "# return how accurate the model is on training data\n",
    "model_cap_color.score(X_train[['Brown-Cap', 'Gray-Cap', 'Red-Cap', 'Yellow-Cap', 'White-Cap', 'Other-Cap']],y_train) * 100"
   ]
  },
  {
   "cell_type": "code",
   "execution_count": 32,
   "metadata": {},
   "outputs": [
    {
     "data": {
      "text/plain": [
       "59.47497949138638"
      ]
     },
     "execution_count": 32,
     "metadata": {},
     "output_type": "execute_result"
    }
   ],
   "source": [
    "# use the model to generate predictions on the test data\n",
    "# of whether a mushroom will be poisonous\n",
    "predicted = model_cap_color.predict(X_test[['Brown-Cap', 'Gray-Cap', 'Red-Cap', 'Yellow-Cap', 'White-Cap', 'Other-Cap']])\n",
    "# return how accurate the model is on test data\n",
    "# by checking how often the prediction and the actual\n",
    "# poisonous variables are the same\n",
    "metrics.accuracy_score(y_test, predicted) * 100"
   ]
  },
  {
   "cell_type": "markdown",
   "metadata": {},
   "source": [
    "#### Predicting Based on Odor\n",
    "The second model that I built predict's whether a mushroom is poisonous or not using the odor indicator variables. <br>\n",
    "I used scikt-learn's LogisticRegression method to create the model, and then fit my odor indicator variables to the model. <br>\n",
    "I then used the score method to determine what percentage of mushrooms in training data were accurately determined to be poisonous using this model. <br>\n",
    "This model had an accuracy of ~88.9729% which is ~37% better guessing. <br>\n",
    "On the test data, the model was able to predict a mushroom's edibility ~87.9820% of the time, which is slightly worse than on the training data, and about 36% better than just guessing. "
   ]
  },
  {
   "cell_type": "code",
   "execution_count": 33,
   "metadata": {},
   "outputs": [
    {
     "name": "stderr",
     "output_type": "stream",
     "text": [
      "/anaconda3/lib/python3.7/site-packages/sklearn/linear_model/logistic.py:433: FutureWarning: Default solver will be changed to 'lbfgs' in 0.22. Specify a solver to silence this warning.\n",
      "  FutureWarning)\n"
     ]
    },
    {
     "data": {
      "text/plain": [
       "LogisticRegression(C=1.0, class_weight=None, dual=False, fit_intercept=True,\n",
       "          intercept_scaling=1, max_iter=100, multi_class='warn',\n",
       "          n_jobs=None, penalty='l2', random_state=None, solver='warn',\n",
       "          tol=0.0001, verbose=0, warm_start=False)"
      ]
     },
     "execution_count": 33,
     "metadata": {},
     "output_type": "execute_result"
    }
   ],
   "source": [
    "# use scikit-learn's LogisticRegression modeling method\n",
    "model_odor = LogisticRegression()\n",
    "# fit the model using the subset of the X_train data\n",
    "# that contains indicator variables about Odor and the y_train data\n",
    "model_odor.fit(X_train[['No-Odor', 'Foul-Odor','Other-Odor']],y_train)"
   ]
  },
  {
   "cell_type": "code",
   "execution_count": 34,
   "metadata": {},
   "outputs": [
    {
     "data": {
      "text/plain": [
       "88.97291593387267"
      ]
     },
     "execution_count": 34,
     "metadata": {},
     "output_type": "execute_result"
    }
   ],
   "source": [
    "# return how accurate the model is on training data\n",
    "model_odor.score(X_train[['No-Odor', 'Foul-Odor','Other-Odor']],y_train) * 100"
   ]
  },
  {
   "cell_type": "code",
   "execution_count": 35,
   "metadata": {},
   "outputs": [
    {
     "data": {
      "text/plain": [
       "87.98195242001641"
      ]
     },
     "execution_count": 35,
     "metadata": {},
     "output_type": "execute_result"
    }
   ],
   "source": [
    "# use the model to generate predictions on the test data\n",
    "# of whether a mushroom will be poisonous\n",
    "predicted = model_odor.predict(X_test[['No-Odor', 'Foul-Odor','Other-Odor']])\n",
    "# return how accurate the model is on test data\n",
    "# by checking how often the prediction and the actual\n",
    "# poisonous variables are the same\n",
    "metrics.accuracy_score(y_test, predicted) * 100"
   ]
  },
  {
   "cell_type": "markdown",
   "metadata": {},
   "source": [
    "#### Predicting Based on Habitat\n",
    "The third model that I built predict's whether a mushroom is poisonous or not using the habitat indicator variables. <br>\n",
    "I used scikt-learn's LogisticRegression method to create the model, and then fit my habitat indicator variables to the model. <br>\n",
    "I then used the score method to determine what percentage of mushrooms in training data were accurately determined to be poisonous using this model. <br>\n",
    "This model had an accuracy of ~63.7883% which is ~12% better than just guessing. <br>\n",
    "On the test data, the model was able to predict a mushroom's edibility ~64.3560% of the time, which is slightly better than on the training data, and about 13% better than just guessing. "
   ]
  },
  {
   "cell_type": "code",
   "execution_count": 36,
   "metadata": {},
   "outputs": [
    {
     "name": "stderr",
     "output_type": "stream",
     "text": [
      "/anaconda3/lib/python3.7/site-packages/sklearn/linear_model/logistic.py:433: FutureWarning: Default solver will be changed to 'lbfgs' in 0.22. Specify a solver to silence this warning.\n",
      "  FutureWarning)\n"
     ]
    },
    {
     "data": {
      "text/plain": [
       "LogisticRegression(C=1.0, class_weight=None, dual=False, fit_intercept=True,\n",
       "          intercept_scaling=1, max_iter=100, multi_class='warn',\n",
       "          n_jobs=None, penalty='l2', random_state=None, solver='warn',\n",
       "          tol=0.0001, verbose=0, warm_start=False)"
      ]
     },
     "execution_count": 36,
     "metadata": {},
     "output_type": "execute_result"
    }
   ],
   "source": [
    "# use scikit-learn's LogisticRegression modeling method\n",
    "model_habitat = LogisticRegression()\n",
    "# fit the model using the subset of the X_train data\n",
    "# that contains indicator variables about Habitat and the y_train data\n",
    "model_habitat.fit(X_train[['Woods-Habitat', 'Grass-Habitat', 'Paths-Habitat', 'Other-Habitat']],y_train)"
   ]
  },
  {
   "cell_type": "code",
   "execution_count": 37,
   "metadata": {},
   "outputs": [
    {
     "data": {
      "text/plain": [
       "63.788251846640875"
      ]
     },
     "execution_count": 37,
     "metadata": {},
     "output_type": "execute_result"
    }
   ],
   "source": [
    "# return how accurate the model is on training data\n",
    "model_habitat.score(X_train[['Woods-Habitat', 'Grass-Habitat', 'Paths-Habitat', 'Other-Habitat']],y_train) * 100"
   ]
  },
  {
   "cell_type": "code",
   "execution_count": 38,
   "metadata": {},
   "outputs": [
    {
     "data": {
      "text/plain": [
       "64.35602953240361"
      ]
     },
     "execution_count": 38,
     "metadata": {},
     "output_type": "execute_result"
    }
   ],
   "source": [
    "# use the model to generate predictions on the test data\n",
    "# of whether a mushroom will be poisonous\n",
    "predicted = model_habitat.predict(X_test[['Woods-Habitat', 'Grass-Habitat', 'Paths-Habitat', 'Other-Habitat']])\n",
    "# return how accurate the model is on test data\n",
    "# by checking how often the prediction and the actual\n",
    "# poisonous variables are the same\n",
    "metrics.accuracy_score(y_test, predicted) * 100"
   ]
  },
  {
   "cell_type": "markdown",
   "metadata": {},
   "source": [
    "#### Predicting Based on All Indicator Variables\n",
    "The final model that I built predict's whether a mushroom is poisonous or not using all the indicator variables that I created. <br>\n",
    "I used scikt-learn's LogisticRegression method to create the model, and then fit all of my indicator variables to the model. <br>\n",
    "I then used the score method to determine what percentage of mushrooms in training data were accurately determined to be poisonous using this model. <br>\n",
    "This model had an accuracy of ~94.4601% which is ~43% better than just guessing. <br>\n",
    "On the test data, the model was able to predict a mushroom's edibility ~94.2166% of the time, which is slightly worse than on the training data, but still about 43% better than just guessing.<br>"
   ]
  },
  {
   "cell_type": "code",
   "execution_count": 39,
   "metadata": {},
   "outputs": [
    {
     "name": "stderr",
     "output_type": "stream",
     "text": [
      "/anaconda3/lib/python3.7/site-packages/sklearn/linear_model/logistic.py:433: FutureWarning: Default solver will be changed to 'lbfgs' in 0.22. Specify a solver to silence this warning.\n",
      "  FutureWarning)\n"
     ]
    },
    {
     "data": {
      "text/plain": [
       "LogisticRegression(C=1.0, class_weight=None, dual=False, fit_intercept=True,\n",
       "          intercept_scaling=1, max_iter=100, multi_class='warn',\n",
       "          n_jobs=None, penalty='l2', random_state=None, solver='warn',\n",
       "          tol=0.0001, verbose=0, warm_start=False)"
      ]
     },
     "execution_count": 39,
     "metadata": {},
     "output_type": "execute_result"
    }
   ],
   "source": [
    "# use scikit-learn's LogisticRegression modeling method\n",
    "model = LogisticRegression()\n",
    "# fit the model using all of the indicator variables in \n",
    "# the X_train data and the y_train data\n",
    "model.fit(X_train, y_train)"
   ]
  },
  {
   "cell_type": "code",
   "execution_count": 40,
   "metadata": {},
   "outputs": [
    {
     "data": {
      "text/plain": [
       "94.46007738304608"
      ]
     },
     "execution_count": 40,
     "metadata": {},
     "output_type": "execute_result"
    }
   ],
   "source": [
    "# return how accurate the model is on training data * 100\n",
    "model.score(X_train,y_train) * 100"
   ]
  },
  {
   "cell_type": "code",
   "execution_count": 41,
   "metadata": {},
   "outputs": [
    {
     "data": {
      "text/plain": [
       "94.21657095980311"
      ]
     },
     "execution_count": 41,
     "metadata": {},
     "output_type": "execute_result"
    }
   ],
   "source": [
    "# use the model to generate predictions on the test data\n",
    "# of whether a mushroom will be poisonous\n",
    "predicted = model.predict(X_test)\n",
    "# return how accurate the model is on test data\n",
    "# by checking how often the prediction and the actual\n",
    "# poisonous variables are the same\n",
    "metrics.accuracy_score(y_test, predicted) * 100"
   ]
  },
  {
   "cell_type": "code",
   "execution_count": 42,
   "metadata": {},
   "outputs": [
    {
     "name": "stdout",
     "output_type": "stream",
     "text": [
      "Index(['Brown-Cap', 'Gray-Cap', 'Red-Cap', 'Yellow-Cap', 'White-Cap',\n",
      "       'Other-Cap', 'No-Odor', 'Foul-Odor', 'Other-Odor', 'Woods-Habitat',\n",
      "       'Grass-Habitat', 'Paths-Habitat', 'Other-Habitat'],\n",
      "      dtype='object')\n"
     ]
    },
    {
     "data": {
      "text/plain": [
       "array([[ 0.81167182,  0.01391547,  1.41892351, -3.19041249, -1.08569961,\n",
       "         2.9038334 , -5.56843898,  6.5119642 , -0.07129312,  0.60417601,\n",
       "        -0.30467564,  0.11877102,  0.4539607 ]])"
      ]
     },
     "execution_count": 42,
     "metadata": {},
     "output_type": "execute_result"
    }
   ],
   "source": [
    "# print the name of each of the indicator variables\n",
    "print(X_train.columns)\n",
    "# return the coefficients of each indicator variable in the model\n",
    "model.coef_"
   ]
  },
  {
   "cell_type": "markdown",
   "metadata": {},
   "source": [
    "### 4. Summary and Recommendation for Future Analysis\n",
    "If I could only choose one column to use as a predictor for a mushroom's edibility, I would use odor as my predictor. <br>\n",
    "The logistic regression model using odor had an accuracy of between 87-88% making it, by far, the most accurate model that I had which used only one predictor column. <br>\n",
    "However, if I could use more than one column for my predictions, I would use the final model I created which used all three predictor columns used in my analysis. <br>\n",
    "This model had the highest accuracy, as it was able to accurately predict a mushroom's edibility ~94% of the time. <br>\n",
    "In that third model, the following variables made it more likely for a mushroom to be poisonous:\n",
    "1. Having a brown cap color\n",
    "2. Having a gray cap color\n",
    "3. Having a red cap color\n",
    "4. Having any other cap color\n",
    "5. Having a foul odor\n",
    "6. Being found in the woods\n",
    "7. Being found on the paths\n",
    "8. Being found in any other habitat\n",
    "\n",
    "The following variables made it less likely for a mushroom to be poisonous:\n",
    "1. Having a yellow cap color\n",
    "2. Having a white cap color\n",
    "3. Having no odor\n",
    "4. Having any other odor\n",
    "5. Being found in the grass\n",
    "\n",
    "From this model, we can conclude that yellow or white capped mushrooms, with no odor found in the grass should be  safe to eat. <br>\n",
    "\n",
    "Future analyses should attempt to see whether we can achieve a high accuracy with only two of the columns, as opposed to all three. <br>\n",
    "Additionally, it should test the significance (p-value) of each indicator variable included in each model. <br>\n",
    "Finally, another column from the mushroom data set that might be good to include in the analysis would be population, as it would be interesting to determine whether how a mushroom grows (with regards to other mushrooms) can be used to determine its edibilty (ie. are lone mushrooms more likely to be poisonous). "
   ]
  }
 ],
 "metadata": {
  "kernelspec": {
   "display_name": "Python 3",
   "language": "python",
   "name": "python3"
  },
  "language_info": {
   "codemirror_mode": {
    "name": "ipython",
    "version": 3
   },
   "file_extension": ".py",
   "mimetype": "text/x-python",
   "name": "python",
   "nbconvert_exporter": "python",
   "pygments_lexer": "ipython3",
   "version": "3.7.1"
  }
 },
 "nbformat": 4,
 "nbformat_minor": 2
}
