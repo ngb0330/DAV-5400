{
 "cells": [
  {
   "cell_type": "code",
   "execution_count": 1,
   "metadata": {},
   "outputs": [],
   "source": [
    "import pandas as pd\n",
    "import numpy as np\n",
    "import matplotlib.pyplot as plt\n",
    "import seaborn as sns"
   ]
  },
  {
   "cell_type": "markdown",
   "metadata": {},
   "source": [
    "%matplotlib notebook"
   ]
  },
  {
   "cell_type": "markdown",
   "metadata": {},
   "source": [
    "## Dataset #1: User Review Data\n",
    "\n",
    "This dataset contains the number of reviews for 5 users in 6 different categories of destinations in South India. <br>\n",
    "The six categories of destinations are: Sports, Religious, Nature, Theatre, Shopping, and Picnic. <br>"
   ]
  },
  {
   "cell_type": "markdown",
   "metadata": {},
   "source": [
    "### Data Loading and Tidying\n",
    "In order to analyze this data, I loaded it in from the csv file I created based on [Jeeho Bae's discussion post](https://yu.instructure.com/courses/33553/discussion_topics/42271/entry-126857) in our class forum. <br>\n",
    "When reading the csv into a Pandas' DataFrame, I set the index to be the first column, as the data appeared to be indexed already. <br>\n",
    "After reading the dataset into a DataFrame object, I then needed to convert the data from wide format to long format, as the data was not tidy. <br>\n",
    "The data was untidy because the columns were actaully values of a category, and not categories, so I used Pandas' melt function to convert the data from wide to long format. <br>\n",
    "The resulting DataFrame has three columns: User Id, Category (containing the six destination category values), and Number of Reviews. "
   ]
  },
  {
   "cell_type": "code",
   "execution_count": 2,
   "metadata": {},
   "outputs": [
    {
     "data": {
      "text/html": [
       "<div>\n",
       "<style scoped>\n",
       "    .dataframe tbody tr th:only-of-type {\n",
       "        vertical-align: middle;\n",
       "    }\n",
       "\n",
       "    .dataframe tbody tr th {\n",
       "        vertical-align: top;\n",
       "    }\n",
       "\n",
       "    .dataframe thead th {\n",
       "        text-align: right;\n",
       "    }\n",
       "</style>\n",
       "<table border=\"1\" class=\"dataframe\">\n",
       "  <thead>\n",
       "    <tr style=\"text-align: right;\">\n",
       "      <th></th>\n",
       "      <th>User Id</th>\n",
       "      <th>Sports</th>\n",
       "      <th>Religious</th>\n",
       "      <th>Nature</th>\n",
       "      <th>Theatre</th>\n",
       "      <th>Shopping</th>\n",
       "      <th>Picnic</th>\n",
       "    </tr>\n",
       "  </thead>\n",
       "  <tbody>\n",
       "    <tr>\n",
       "      <th>0</th>\n",
       "      <td>User 1</td>\n",
       "      <td>2</td>\n",
       "      <td>77</td>\n",
       "      <td>79</td>\n",
       "      <td>69</td>\n",
       "      <td>68</td>\n",
       "      <td>95</td>\n",
       "    </tr>\n",
       "    <tr>\n",
       "      <th>1</th>\n",
       "      <td>User 2</td>\n",
       "      <td>2</td>\n",
       "      <td>62</td>\n",
       "      <td>76</td>\n",
       "      <td>76</td>\n",
       "      <td>69</td>\n",
       "      <td>68</td>\n",
       "    </tr>\n",
       "    <tr>\n",
       "      <th>2</th>\n",
       "      <td>User 3</td>\n",
       "      <td>2</td>\n",
       "      <td>50</td>\n",
       "      <td>97</td>\n",
       "      <td>87</td>\n",
       "      <td>50</td>\n",
       "      <td>75</td>\n",
       "    </tr>\n",
       "    <tr>\n",
       "      <th>3</th>\n",
       "      <td>User 4</td>\n",
       "      <td>2</td>\n",
       "      <td>68</td>\n",
       "      <td>77</td>\n",
       "      <td>95</td>\n",
       "      <td>76</td>\n",
       "      <td>61</td>\n",
       "    </tr>\n",
       "    <tr>\n",
       "      <th>4</th>\n",
       "      <td>User 5</td>\n",
       "      <td>2</td>\n",
       "      <td>98</td>\n",
       "      <td>54</td>\n",
       "      <td>59</td>\n",
       "      <td>95</td>\n",
       "      <td>86</td>\n",
       "    </tr>\n",
       "  </tbody>\n",
       "</table>\n",
       "</div>"
      ],
      "text/plain": [
       "   User Id  Sports  Religious  Nature  Theatre  Shopping  Picnic\n",
       "0   User 1       2         77      79       69        68      95\n",
       "1  User 2        2         62      76       76        69      68\n",
       "2   User 3       2         50      97       87        50      75\n",
       "3   User 4       2         68      77       95        76      61\n",
       "4   User 5       2         98      54       59        95      86"
      ]
     },
     "execution_count": 2,
     "metadata": {},
     "output_type": "execute_result"
    }
   ],
   "source": [
    "# read reviews data into DataFrame\n",
    "reviews = pd.read_csv('https://raw.githubusercontent.com/ngb0330/DAV-5400/master/Week%2010/Datasets/User%20Reviews.csv',index_col = 0)\n",
    "# return reviews DataFrame.\n",
    "reviews"
   ]
  },
  {
   "cell_type": "code",
   "execution_count": 3,
   "metadata": {},
   "outputs": [
    {
     "data": {
      "text/html": [
       "<div>\n",
       "<style scoped>\n",
       "    .dataframe tbody tr th:only-of-type {\n",
       "        vertical-align: middle;\n",
       "    }\n",
       "\n",
       "    .dataframe tbody tr th {\n",
       "        vertical-align: top;\n",
       "    }\n",
       "\n",
       "    .dataframe thead th {\n",
       "        text-align: right;\n",
       "    }\n",
       "</style>\n",
       "<table border=\"1\" class=\"dataframe\">\n",
       "  <thead>\n",
       "    <tr style=\"text-align: right;\">\n",
       "      <th></th>\n",
       "      <th>User Id</th>\n",
       "      <th>Category</th>\n",
       "      <th>Number of Reviews</th>\n",
       "    </tr>\n",
       "  </thead>\n",
       "  <tbody>\n",
       "    <tr>\n",
       "      <th>0</th>\n",
       "      <td>User 1</td>\n",
       "      <td>Sports</td>\n",
       "      <td>2</td>\n",
       "    </tr>\n",
       "    <tr>\n",
       "      <th>1</th>\n",
       "      <td>User 2</td>\n",
       "      <td>Sports</td>\n",
       "      <td>2</td>\n",
       "    </tr>\n",
       "    <tr>\n",
       "      <th>2</th>\n",
       "      <td>User 3</td>\n",
       "      <td>Sports</td>\n",
       "      <td>2</td>\n",
       "    </tr>\n",
       "    <tr>\n",
       "      <th>3</th>\n",
       "      <td>User 4</td>\n",
       "      <td>Sports</td>\n",
       "      <td>2</td>\n",
       "    </tr>\n",
       "    <tr>\n",
       "      <th>4</th>\n",
       "      <td>User 5</td>\n",
       "      <td>Sports</td>\n",
       "      <td>2</td>\n",
       "    </tr>\n",
       "  </tbody>\n",
       "</table>\n",
       "</div>"
      ],
      "text/plain": [
       "   User Id Category  Number of Reviews\n",
       "0   User 1   Sports                  2\n",
       "1  User 2    Sports                  2\n",
       "2   User 3   Sports                  2\n",
       "3   User 4   Sports                  2\n",
       "4   User 5   Sports                  2"
      ]
     },
     "execution_count": 3,
     "metadata": {},
     "output_type": "execute_result"
    }
   ],
   "source": [
    "# Combine the Sports, Religious, Nature, Theatre,\n",
    "# Shopping, and Picnic columns into one Category column\n",
    "# and create new column Number of Reviews to hold the counts \n",
    "# from the melted columns.\n",
    "reviews_long = pd.melt(reviews, 'User Id', \n",
    "                       value_vars = ['Sports', 'Religious', 'Nature', 'Theatre', 'Shopping', 'Picnic'],\n",
    "                      var_name = 'Category', value_name = 'Number of Reviews')\n",
    "# Return first 5 rows of melted data.\n",
    "reviews_long.head()"
   ]
  },
  {
   "cell_type": "markdown",
   "metadata": {},
   "source": [
    "### Analysis of Reviews Data\n",
    "After tidying the data, and converting it to long format, the data is now ready to be analyzed. <br>\n",
    "There are two questions I wanted to answer based on this dataset:\n",
    "1. Which category has the highest number of reviews?\n",
    "2. Which category did each user review the most?"
   ]
  },
  {
   "cell_type": "markdown",
   "metadata": {},
   "source": [
    "#### Question 1: Which Category Has the Highest Number of Reviews?\n",
    "To answer this question, I grouped the long-formatted DataFrame of reviews data by Category, and calculated the sum of the number of reviews per each category. <br>\n",
    "I then sorted the resulting DataFrame by number of reviews in descending order. <br>\n",
    "I found that the Theatre Category has the highest number of reviews with 386 total reviews. <br>\n",
    "To display this data, I present both a table and a bar graph of the sorted data. <br>"
   ]
  },
  {
   "cell_type": "code",
   "execution_count": 4,
   "metadata": {},
   "outputs": [],
   "source": [
    "# Group reviews_long data by Category, and \n",
    "# sum the Number of Reviews category for each Category.\n",
    "# Convert the resulting Series to a DataFrame.\n",
    "reviews_by_category = reviews_long.groupby('Category')['Number of Reviews'].agg(sum).to_frame()\n",
    "# Sort the DataFrame by Number of Reviews in Descending order.\n",
    "reviews_by_category.sort_values(by = 'Number of Reviews', ascending = False, inplace = True)"
   ]
  },
  {
   "cell_type": "code",
   "execution_count": 5,
   "metadata": {},
   "outputs": [
    {
     "data": {
      "text/html": [
       "<div>\n",
       "<style scoped>\n",
       "    .dataframe tbody tr th:only-of-type {\n",
       "        vertical-align: middle;\n",
       "    }\n",
       "\n",
       "    .dataframe tbody tr th {\n",
       "        vertical-align: top;\n",
       "    }\n",
       "\n",
       "    .dataframe thead th {\n",
       "        text-align: right;\n",
       "    }\n",
       "</style>\n",
       "<table border=\"1\" class=\"dataframe\">\n",
       "  <thead>\n",
       "    <tr style=\"text-align: right;\">\n",
       "      <th></th>\n",
       "      <th>Number of Reviews</th>\n",
       "    </tr>\n",
       "    <tr>\n",
       "      <th>Category</th>\n",
       "      <th></th>\n",
       "    </tr>\n",
       "  </thead>\n",
       "  <tbody>\n",
       "    <tr>\n",
       "      <th>Theatre</th>\n",
       "      <td>386</td>\n",
       "    </tr>\n",
       "    <tr>\n",
       "      <th>Picnic</th>\n",
       "      <td>385</td>\n",
       "    </tr>\n",
       "    <tr>\n",
       "      <th>Nature</th>\n",
       "      <td>383</td>\n",
       "    </tr>\n",
       "    <tr>\n",
       "      <th>Shopping</th>\n",
       "      <td>358</td>\n",
       "    </tr>\n",
       "    <tr>\n",
       "      <th>Religious</th>\n",
       "      <td>355</td>\n",
       "    </tr>\n",
       "    <tr>\n",
       "      <th>Sports</th>\n",
       "      <td>10</td>\n",
       "    </tr>\n",
       "  </tbody>\n",
       "</table>\n",
       "</div>"
      ],
      "text/plain": [
       "           Number of Reviews\n",
       "Category                    \n",
       "Theatre                  386\n",
       "Picnic                   385\n",
       "Nature                   383\n",
       "Shopping                 358\n",
       "Religious                355\n",
       "Sports                    10"
      ]
     },
     "execution_count": 5,
     "metadata": {},
     "output_type": "execute_result"
    }
   ],
   "source": [
    "# Return reviews_by_category DataFrame\n",
    "reviews_by_category"
   ]
  },
  {
   "cell_type": "code",
   "execution_count": 6,
   "metadata": {},
   "outputs": [
    {
     "data": {
      "image/png": "[encoded data removed]",
      "text/plain": [
       "<Figure size 432x288 with 1 Axes>"
      ]
     },
     "metadata": {
      "needs_background": "light"
     },
     "output_type": "display_data"
    }
   ],
   "source": [
    "# Create the bar plot of the number of reviews per category\n",
    "sns.barplot(x = reviews_by_category.index, y= reviews_by_category['Number of Reviews'])\n",
    "# Set the title and label the axes of the bar plot. \n",
    "plt.title('Number of Reviews per Category', fontsize = 14)\n",
    "plt.xlabel('Category', fontsize = 12)\n",
    "plt.ylabel('Number of Reviews', fontsize = 12);"
   ]
  },
  {
   "cell_type": "markdown",
   "metadata": {},
   "source": [
    "#### Question 2: Which Category Did Each User Review the Most?\n",
    "To answer this questions, I grouped the long-formatted DataFrame by User Id, and then got the maximum number of reviews per each user. <br>\n",
    "I set a variable idx to hold the index values in the long-formatted DataFrame that had the maximum number of reviews for each user. <br>\n",
    "Then I got the data for each index and sorted the subset of the DataFrame that had these local-maxima by User Id, so it was in user order. <br>\n",
    "The DataFrame is returned displaying the category with the greatest number of reviews for each user. <br>\n",
    "Additionally, a Barplot (created using Seaborn) is displayed with the number of reviews per category by each user, which makes it easy to spot which category had the most reviews per user. <br>\n",
    "For each user, the category that had the most reviews was:\n",
    "1. User 1 - Picnic - 95 reviews\n",
    "2. User 2 - Nature & Theatre (tied) - 76 reviews\n",
    "3. User 3 - Nature - 97 reviews\n",
    "4. User 4 - Theatre - 95 reviews\n",
    "5. User 5 - Religious - 98 reviews"
   ]
  },
  {
   "cell_type": "code",
   "execution_count": 7,
   "metadata": {},
   "outputs": [],
   "source": [
    "# Group reviews_long data by User Id.\n",
    "reviews_per_user = reviews_long.groupby(\"User Id\")"
   ]
  },
  {
   "cell_type": "code",
   "execution_count": 8,
   "metadata": {},
   "outputs": [
    {
     "data": {
      "text/html": [
       "<div>\n",
       "<style scoped>\n",
       "    .dataframe tbody tr th:only-of-type {\n",
       "        vertical-align: middle;\n",
       "    }\n",
       "\n",
       "    .dataframe tbody tr th {\n",
       "        vertical-align: top;\n",
       "    }\n",
       "\n",
       "    .dataframe thead th {\n",
       "        text-align: right;\n",
       "    }\n",
       "</style>\n",
       "<table border=\"1\" class=\"dataframe\">\n",
       "  <thead>\n",
       "    <tr style=\"text-align: right;\">\n",
       "      <th></th>\n",
       "      <th>User Id</th>\n",
       "      <th>Category</th>\n",
       "      <th>Number of Reviews</th>\n",
       "    </tr>\n",
       "  </thead>\n",
       "  <tbody>\n",
       "    <tr>\n",
       "      <th>25</th>\n",
       "      <td>User 1</td>\n",
       "      <td>Picnic</td>\n",
       "      <td>95</td>\n",
       "    </tr>\n",
       "    <tr>\n",
       "      <th>11</th>\n",
       "      <td>User 2</td>\n",
       "      <td>Nature</td>\n",
       "      <td>76</td>\n",
       "    </tr>\n",
       "    <tr>\n",
       "      <th>16</th>\n",
       "      <td>User 2</td>\n",
       "      <td>Theatre</td>\n",
       "      <td>76</td>\n",
       "    </tr>\n",
       "    <tr>\n",
       "      <th>12</th>\n",
       "      <td>User 3</td>\n",
       "      <td>Nature</td>\n",
       "      <td>97</td>\n",
       "    </tr>\n",
       "    <tr>\n",
       "      <th>18</th>\n",
       "      <td>User 4</td>\n",
       "      <td>Theatre</td>\n",
       "      <td>95</td>\n",
       "    </tr>\n",
       "    <tr>\n",
       "      <th>9</th>\n",
       "      <td>User 5</td>\n",
       "      <td>Religious</td>\n",
       "      <td>98</td>\n",
       "    </tr>\n",
       "  </tbody>\n",
       "</table>\n",
       "</div>"
      ],
      "text/plain": [
       "    User Id   Category  Number of Reviews\n",
       "25   User 1     Picnic                 95\n",
       "11  User 2      Nature                 76\n",
       "16  User 2     Theatre                 76\n",
       "12   User 3     Nature                 97\n",
       "18   User 4    Theatre                 95\n",
       "9    User 5  Religious                 98"
      ]
     },
     "execution_count": 8,
     "metadata": {},
     "output_type": "execute_result"
    }
   ],
   "source": [
    "# Find location in reviews_long DataFrame with the \n",
    "# maximum number of reviews for each user.\n",
    "idx = reviews_per_user['Number of Reviews'].transform('max') == reviews_long['Number of Reviews']\n",
    "# Sort the rows containing the maximum number of reviews\n",
    "# for each user by User Id.\n",
    "reviews_long[idx].sort_values('User Id')"
   ]
  },
  {
   "cell_type": "code",
   "execution_count": 9,
   "metadata": {},
   "outputs": [
    {
     "data": {
      "image/png": "[encoded data removed]",
      "text/plain": [
       "<Figure size 442.75x360 with 1 Axes>"
      ]
     },
     "metadata": {
      "needs_background": "light"
     },
     "output_type": "display_data"
    }
   ],
   "source": [
    "# Create a bar plot of number of reviews per user, for each category.\n",
    "sns.catplot(\"User Id\", \"Number of Reviews\", hue=\"Category\", data=reviews_long, kind=\"bar\")\n",
    "# Set the title and labels for the bar plot.\n",
    "plt.title('Number of Reviews per User by Category', fontsize = 14)\n",
    "plt.xlabel('User', fontsize = 12)\n",
    "plt.ylabel('Number of Reviews', fontsize = 12);"
   ]
  },
  {
   "cell_type": "markdown",
   "metadata": {},
   "source": [
    "## Dataset #2: Student Test Data for Different Classes\n",
    "This dataset contains test grades for 4 students in 4 different classes (Physics, Chemistry, English, and Math). <br>"
   ]
  },
  {
   "cell_type": "markdown",
   "metadata": {},
   "source": [
    "### Data Loading and Tidying\n",
    "In order to analyze this data, I loaded it in from the csv file I created based on [Evelyn Yoon's discussion post](https://imgur.com/a/Y0RbR5G) in our class forum. <br>\n",
    "After reading the dataset into a DataFrame object, I then needed to convert the data from wide format to long format, as the data was not tidy. <br>\n",
    "The data was untidy because the columns were actaully values of a category, and not categories, so I used Pandas' melt function to convert the data from wide to long format. <br>\n",
    "The resulting DataFrame has three columns: Student, Class (containing the four class category values), and Grade. "
   ]
  },
  {
   "cell_type": "code",
   "execution_count": 10,
   "metadata": {},
   "outputs": [
    {
     "data": {
      "text/html": [
       "<div>\n",
       "<style scoped>\n",
       "    .dataframe tbody tr th:only-of-type {\n",
       "        vertical-align: middle;\n",
       "    }\n",
       "\n",
       "    .dataframe tbody tr th {\n",
       "        vertical-align: top;\n",
       "    }\n",
       "\n",
       "    .dataframe thead th {\n",
       "        text-align: right;\n",
       "    }\n",
       "</style>\n",
       "<table border=\"1\" class=\"dataframe\">\n",
       "  <thead>\n",
       "    <tr style=\"text-align: right;\">\n",
       "      <th></th>\n",
       "      <th>Student</th>\n",
       "      <th>Physics</th>\n",
       "      <th>Chemistry</th>\n",
       "      <th>English</th>\n",
       "      <th>Math</th>\n",
       "    </tr>\n",
       "  </thead>\n",
       "  <tbody>\n",
       "    <tr>\n",
       "      <th>0</th>\n",
       "      <td>John</td>\n",
       "      <td>78</td>\n",
       "      <td>79</td>\n",
       "      <td>56</td>\n",
       "      <td>95</td>\n",
       "    </tr>\n",
       "    <tr>\n",
       "      <th>1</th>\n",
       "      <td>Alice</td>\n",
       "      <td>58</td>\n",
       "      <td>72</td>\n",
       "      <td>91</td>\n",
       "      <td>81</td>\n",
       "    </tr>\n",
       "    <tr>\n",
       "      <th>2</th>\n",
       "      <td>Rachel</td>\n",
       "      <td>22</td>\n",
       "      <td>61</td>\n",
       "      <td>88</td>\n",
       "      <td>64</td>\n",
       "    </tr>\n",
       "    <tr>\n",
       "      <th>3</th>\n",
       "      <td>Tom</td>\n",
       "      <td>78</td>\n",
       "      <td>89</td>\n",
       "      <td>56</td>\n",
       "      <td>83</td>\n",
       "    </tr>\n",
       "  </tbody>\n",
       "</table>\n",
       "</div>"
      ],
      "text/plain": [
       "  Student  Physics  Chemistry  English  Math\n",
       "0    John       78         79       56    95\n",
       "1   Alice       58         72       91    81\n",
       "2  Rachel       22         61       88    64\n",
       "3     Tom       78         89       56    83"
      ]
     },
     "execution_count": 10,
     "metadata": {},
     "output_type": "execute_result"
    }
   ],
   "source": [
    "# Read tests per class data into DataFrame.\n",
    "tests_classes = pd.read_csv('https://raw.githubusercontent.com/ngb0330/DAV-5400/master/Week%2010/Datasets/Student%20Test%20Multiple%20Classes.csv')\n",
    "# Return the resulting DataFrame.\n",
    "tests_classes"
   ]
  },
  {
   "cell_type": "code",
   "execution_count": 11,
   "metadata": {},
   "outputs": [
    {
     "data": {
      "text/html": [
       "<div>\n",
       "<style scoped>\n",
       "    .dataframe tbody tr th:only-of-type {\n",
       "        vertical-align: middle;\n",
       "    }\n",
       "\n",
       "    .dataframe tbody tr th {\n",
       "        vertical-align: top;\n",
       "    }\n",
       "\n",
       "    .dataframe thead th {\n",
       "        text-align: right;\n",
       "    }\n",
       "</style>\n",
       "<table border=\"1\" class=\"dataframe\">\n",
       "  <thead>\n",
       "    <tr style=\"text-align: right;\">\n",
       "      <th></th>\n",
       "      <th>Student</th>\n",
       "      <th>Class</th>\n",
       "      <th>Grade</th>\n",
       "    </tr>\n",
       "  </thead>\n",
       "  <tbody>\n",
       "    <tr>\n",
       "      <th>0</th>\n",
       "      <td>John</td>\n",
       "      <td>Physics</td>\n",
       "      <td>78</td>\n",
       "    </tr>\n",
       "    <tr>\n",
       "      <th>1</th>\n",
       "      <td>Alice</td>\n",
       "      <td>Physics</td>\n",
       "      <td>58</td>\n",
       "    </tr>\n",
       "    <tr>\n",
       "      <th>2</th>\n",
       "      <td>Rachel</td>\n",
       "      <td>Physics</td>\n",
       "      <td>22</td>\n",
       "    </tr>\n",
       "    <tr>\n",
       "      <th>3</th>\n",
       "      <td>Tom</td>\n",
       "      <td>Physics</td>\n",
       "      <td>78</td>\n",
       "    </tr>\n",
       "    <tr>\n",
       "      <th>4</th>\n",
       "      <td>John</td>\n",
       "      <td>Chemistry</td>\n",
       "      <td>79</td>\n",
       "    </tr>\n",
       "  </tbody>\n",
       "</table>\n",
       "</div>"
      ],
      "text/plain": [
       "  Student      Class  Grade\n",
       "0    John    Physics     78\n",
       "1   Alice    Physics     58\n",
       "2  Rachel    Physics     22\n",
       "3     Tom    Physics     78\n",
       "4    John  Chemistry     79"
      ]
     },
     "execution_count": 11,
     "metadata": {},
     "output_type": "execute_result"
    }
   ],
   "source": [
    "# Combine the Physics, Chemistry, English, and Math\n",
    "# columns into one Class column\n",
    "# and create new column Grade to hold the counts \n",
    "# from the melted columns.\n",
    "tests_classes_long = pd.melt(tests_classes, 'Student', value_vars = ['Physics', 'Chemistry', 'English', 'Math'],\n",
    "                            var_name = 'Class', value_name = 'Grade')\n",
    "# Return first 5 rows of melted data.\n",
    "tests_classes_long.head()"
   ]
  },
  {
   "cell_type": "markdown",
   "metadata": {},
   "source": [
    "### Analysis of Student Test Data For Different Classes\n",
    "After tidying the data and converting it to long format, the data is now ready to be analyzed. <br>\n",
    "There are four questions I wanted to answer based on this data:\n",
    "1. What is average test score for each class?\n",
    "2. What is the average test score for each student?\n",
    "3. What is the highest and lowest score in each class?\n",
    "4. What is the highest and lowest score for each student?"
   ]
  },
  {
   "cell_type": "markdown",
   "metadata": {},
   "source": [
    "#### Question 1: Average Test Score for Each Class\n",
    "To find the average test score for each class, I grouped the long-formatted data by class, and calculated the mean of the grades for each class. <br>\n",
    "I then sorted the data in descending order and found that the average values for each class were as follows:\n",
    "1. Math - 80.75\n",
    "2. Chemistry - 75.25\n",
    "3. English - 72.75\n",
    "4. Physics - 59.00\n",
    "\n",
    "\n",
    "The data is displayed as both a table and a bar plot. <br>"
   ]
  },
  {
   "cell_type": "code",
   "execution_count": 12,
   "metadata": {},
   "outputs": [
    {
     "data": {
      "text/html": [
       "<div>\n",
       "<style scoped>\n",
       "    .dataframe tbody tr th:only-of-type {\n",
       "        vertical-align: middle;\n",
       "    }\n",
       "\n",
       "    .dataframe tbody tr th {\n",
       "        vertical-align: top;\n",
       "    }\n",
       "\n",
       "    .dataframe thead th {\n",
       "        text-align: right;\n",
       "    }\n",
       "</style>\n",
       "<table border=\"1\" class=\"dataframe\">\n",
       "  <thead>\n",
       "    <tr style=\"text-align: right;\">\n",
       "      <th></th>\n",
       "      <th>Grade</th>\n",
       "    </tr>\n",
       "    <tr>\n",
       "      <th>Class</th>\n",
       "      <th></th>\n",
       "    </tr>\n",
       "  </thead>\n",
       "  <tbody>\n",
       "    <tr>\n",
       "      <th>Math</th>\n",
       "      <td>80.75</td>\n",
       "    </tr>\n",
       "    <tr>\n",
       "      <th>Chemistry</th>\n",
       "      <td>75.25</td>\n",
       "    </tr>\n",
       "    <tr>\n",
       "      <th>English</th>\n",
       "      <td>72.75</td>\n",
       "    </tr>\n",
       "    <tr>\n",
       "      <th>Physics</th>\n",
       "      <td>59.00</td>\n",
       "    </tr>\n",
       "  </tbody>\n",
       "</table>\n",
       "</div>"
      ],
      "text/plain": [
       "           Grade\n",
       "Class           \n",
       "Math       80.75\n",
       "Chemistry  75.25\n",
       "English    72.75\n",
       "Physics    59.00"
      ]
     },
     "execution_count": 12,
     "metadata": {},
     "output_type": "execute_result"
    }
   ],
   "source": [
    "# Group the data by Class and calculate the average Grade for each class.\n",
    "# Convert the resulting Series to a DataFrame.\n",
    "average_per_class = tests_classes_long.groupby('Class')['Grade'].mean().to_frame()\n",
    "# Sort the data by Grade in descending order\n",
    "average_per_class.sort_values(by = 'Grade', ascending = False, inplace = True)\n",
    "# Return the sorted DataFrame.\n",
    "average_per_class"
   ]
  },
  {
   "cell_type": "code",
   "execution_count": 13,
   "metadata": {},
   "outputs": [
    {
     "data": {
      "image/png": "[encoded data removed]",
      "text/plain": [
       "<Figure size 360x360 with 1 Axes>"
      ]
     },
     "metadata": {
      "needs_background": "light"
     },
     "output_type": "display_data"
    }
   ],
   "source": [
    "# Create a bar plot of average grade per class.\n",
    "sns.catplot(\"Class\", \"Grade\", data = average_per_class.reset_index(), kind = 'bar')\n",
    "# Set the title and labels for the plot.\n",
    "plt.title('Average Grades For Each Class', fontsize = 14)\n",
    "plt.xlabel('Class', fontsize = 12)\n",
    "plt.ylabel('Average Grade', fontsize = 12);"
   ]
  },
  {
   "cell_type": "markdown",
   "metadata": {},
   "source": [
    "#### Question 2: Average Test Score for Each Student\n",
    "To find the average test score for each student, I grouped the long-formatted data by student, and calculated the mean of the grades for each student. <br>\n",
    "I then sorted the data in descending order and found that the average values for each student were as follows:\n",
    "1. John - 77.00\n",
    "2. Tom - 76.50\n",
    "3. Alice - 75.50\n",
    "4. Rachel - 58.75\n",
    "\n",
    "\n",
    "The data is displayed as both a table and a bar plot. <br>"
   ]
  },
  {
   "cell_type": "code",
   "execution_count": 14,
   "metadata": {},
   "outputs": [
    {
     "data": {
      "text/html": [
       "<div>\n",
       "<style scoped>\n",
       "    .dataframe tbody tr th:only-of-type {\n",
       "        vertical-align: middle;\n",
       "    }\n",
       "\n",
       "    .dataframe tbody tr th {\n",
       "        vertical-align: top;\n",
       "    }\n",
       "\n",
       "    .dataframe thead th {\n",
       "        text-align: right;\n",
       "    }\n",
       "</style>\n",
       "<table border=\"1\" class=\"dataframe\">\n",
       "  <thead>\n",
       "    <tr style=\"text-align: right;\">\n",
       "      <th></th>\n",
       "      <th>Grade</th>\n",
       "    </tr>\n",
       "    <tr>\n",
       "      <th>Student</th>\n",
       "      <th></th>\n",
       "    </tr>\n",
       "  </thead>\n",
       "  <tbody>\n",
       "    <tr>\n",
       "      <th>John</th>\n",
       "      <td>77.00</td>\n",
       "    </tr>\n",
       "    <tr>\n",
       "      <th>Tom</th>\n",
       "      <td>76.50</td>\n",
       "    </tr>\n",
       "    <tr>\n",
       "      <th>Alice</th>\n",
       "      <td>75.50</td>\n",
       "    </tr>\n",
       "    <tr>\n",
       "      <th>Rachel</th>\n",
       "      <td>58.75</td>\n",
       "    </tr>\n",
       "  </tbody>\n",
       "</table>\n",
       "</div>"
      ],
      "text/plain": [
       "         Grade\n",
       "Student       \n",
       "John     77.00\n",
       "Tom      76.50\n",
       "Alice    75.50\n",
       "Rachel   58.75"
      ]
     },
     "execution_count": 14,
     "metadata": {},
     "output_type": "execute_result"
    }
   ],
   "source": [
    "# Group the data by Student and calculated the average Grade for each Student. \n",
    "# Convert the resulting Series to a DataFrame.\n",
    "average_per_student = tests_classes_long.groupby('Student')['Grade'].mean().to_frame()\n",
    "# Sort the data by Grade in Descending order.\n",
    "average_per_student.sort_values(by = 'Grade', ascending = False, inplace = True)\n",
    "# Return the sorted DataFrame.\n",
    "average_per_student"
   ]
  },
  {
   "cell_type": "code",
   "execution_count": 15,
   "metadata": {},
   "outputs": [
    {
     "data": {
      "image/png": "[encoded data removed]",
      "text/plain": [
       "<Figure size 360x360 with 1 Axes>"
      ]
     },
     "metadata": {
      "needs_background": "light"
     },
     "output_type": "display_data"
    }
   ],
   "source": [
    "# Create a bar plot of average grade per student.\n",
    "sns.catplot(\"Student\", \"Grade\", data = average_per_student.reset_index(), kind = 'bar')\n",
    "# Set the title and labels for the plot.\n",
    "plt.title('Average Grades For Each Student', fontsize = 14)\n",
    "plt.xlabel('Student', fontsize = 12)\n",
    "plt.ylabel('Average Grade', fontsize = 12);"
   ]
  },
  {
   "cell_type": "markdown",
   "metadata": {},
   "source": [
    "#### Question 3: Highest and Lowest Score in Each Class\n",
    "To find the highest and lowert test score in each class, I grouped the long-formatted data by class, and calculated the maximum, minimum, and range  of the grades for each class. <br>\n",
    "To calculate the range, I defined a function called peak_to_peak which returns the maximum subtracted by the minimum. <br>\n",
    "I then sorted the data in descending order by high grade and found that the highest and lowest grade in each class were as follows:\n",
    "1. Math - High: 95, Low: 64\n",
    "2. English - High: 91, Low: 56\n",
    "3. Chemistry - High: 89, Low: 61\n",
    "4. Physics - High: 78, Low: 22\n",
    "\n",
    "The data is displayed as a table with the range, high, and low scores for each class. <br>"
   ]
  },
  {
   "cell_type": "code",
   "execution_count": 16,
   "metadata": {},
   "outputs": [],
   "source": [
    "def peak_to_peak (x):\n",
    "    '''\n",
    "    The peak_to_peak function takes a Series or DataFrame object and returns the \n",
    "    difference between the maximum and minimum values (also known as the Range). \n",
    "    Parameter: x - the Series or DataFrame to calculate the Range of.\n",
    "    Return: the Range of the Series or DataFrame\n",
    "    '\n",
    "    '''\n",
    "    \n",
    "    return x.max() - x.min()"
   ]
  },
  {
   "cell_type": "code",
   "execution_count": 17,
   "metadata": {},
   "outputs": [
    {
     "data": {
      "text/html": [
       "<div>\n",
       "<style scoped>\n",
       "    .dataframe tbody tr th:only-of-type {\n",
       "        vertical-align: middle;\n",
       "    }\n",
       "\n",
       "    .dataframe tbody tr th {\n",
       "        vertical-align: top;\n",
       "    }\n",
       "\n",
       "    .dataframe thead th {\n",
       "        text-align: right;\n",
       "    }\n",
       "</style>\n",
       "<table border=\"1\" class=\"dataframe\">\n",
       "  <thead>\n",
       "    <tr style=\"text-align: right;\">\n",
       "      <th></th>\n",
       "      <th>Range</th>\n",
       "      <th>High</th>\n",
       "      <th>Low</th>\n",
       "    </tr>\n",
       "    <tr>\n",
       "      <th>Class</th>\n",
       "      <th></th>\n",
       "      <th></th>\n",
       "      <th></th>\n",
       "    </tr>\n",
       "  </thead>\n",
       "  <tbody>\n",
       "    <tr>\n",
       "      <th>Math</th>\n",
       "      <td>31</td>\n",
       "      <td>95</td>\n",
       "      <td>64</td>\n",
       "    </tr>\n",
       "    <tr>\n",
       "      <th>English</th>\n",
       "      <td>35</td>\n",
       "      <td>91</td>\n",
       "      <td>56</td>\n",
       "    </tr>\n",
       "    <tr>\n",
       "      <th>Chemistry</th>\n",
       "      <td>28</td>\n",
       "      <td>89</td>\n",
       "      <td>61</td>\n",
       "    </tr>\n",
       "    <tr>\n",
       "      <th>Physics</th>\n",
       "      <td>56</td>\n",
       "      <td>78</td>\n",
       "      <td>22</td>\n",
       "    </tr>\n",
       "  </tbody>\n",
       "</table>\n",
       "</div>"
      ],
      "text/plain": [
       "           Range  High  Low\n",
       "Class                      \n",
       "Math          31    95   64\n",
       "English       35    91   56\n",
       "Chemistry     28    89   61\n",
       "Physics       56    78   22"
      ]
     },
     "execution_count": 17,
     "metadata": {},
     "output_type": "execute_result"
    }
   ],
   "source": [
    "# Group the tests_classes_long data by Class and calculate the \n",
    "# max, min, and peak_to_peak (range) of the Grade for each Class.\n",
    "range_per_class = tests_classes_long.groupby('Class')['Grade'].agg([peak_to_peak,'max', 'min'])\n",
    "# Change the names of the columns of the DataFrame.\n",
    "range_per_class.rename(columns = {'peak_to_peak': 'Range', 'max': 'High', 'min':'Low'}, inplace = True)\n",
    "# Sort the DataFrame by High, and then Low (if tied), Grade in Descending order\n",
    "range_per_class.sort_values(by = ['High', 'Low'], ascending = False, inplace = True)\n",
    "# Return the sorted DataFrame\n",
    "range_per_class"
   ]
  },
  {
   "cell_type": "markdown",
   "metadata": {},
   "source": [
    "#### Question 4: Highest and Lowest Score For Each Student\n",
    "To find the highest and lowert test score for each student, I grouped the long-formatted data by student, and calculated the maximum, minimum, and range  of the grades for each student. <br>\n",
    "To calculate the range, I used my peak_to_peak function. <br>\n",
    "I then sorted the data in descending order by high grade and found that the highest and lowest grade for each student were as follows:\n",
    "1. John - High: 95, Low: 56\n",
    "2. Alice - High: 91, Low: 58\n",
    "3. Tom - High: 89, Low: 56\n",
    "4. Rachel - High: 88, Low: 22\n",
    "\n",
    "The data is displayed as a table with the range, high, and low scores for each student. <br>"
   ]
  },
  {
   "cell_type": "code",
   "execution_count": 18,
   "metadata": {},
   "outputs": [
    {
     "data": {
      "text/html": [
       "<div>\n",
       "<style scoped>\n",
       "    .dataframe tbody tr th:only-of-type {\n",
       "        vertical-align: middle;\n",
       "    }\n",
       "\n",
       "    .dataframe tbody tr th {\n",
       "        vertical-align: top;\n",
       "    }\n",
       "\n",
       "    .dataframe thead th {\n",
       "        text-align: right;\n",
       "    }\n",
       "</style>\n",
       "<table border=\"1\" class=\"dataframe\">\n",
       "  <thead>\n",
       "    <tr style=\"text-align: right;\">\n",
       "      <th></th>\n",
       "      <th>Range</th>\n",
       "      <th>High</th>\n",
       "      <th>Low</th>\n",
       "    </tr>\n",
       "    <tr>\n",
       "      <th>Student</th>\n",
       "      <th></th>\n",
       "      <th></th>\n",
       "      <th></th>\n",
       "    </tr>\n",
       "  </thead>\n",
       "  <tbody>\n",
       "    <tr>\n",
       "      <th>John</th>\n",
       "      <td>39</td>\n",
       "      <td>95</td>\n",
       "      <td>56</td>\n",
       "    </tr>\n",
       "    <tr>\n",
       "      <th>Alice</th>\n",
       "      <td>33</td>\n",
       "      <td>91</td>\n",
       "      <td>58</td>\n",
       "    </tr>\n",
       "    <tr>\n",
       "      <th>Tom</th>\n",
       "      <td>33</td>\n",
       "      <td>89</td>\n",
       "      <td>56</td>\n",
       "    </tr>\n",
       "    <tr>\n",
       "      <th>Rachel</th>\n",
       "      <td>66</td>\n",
       "      <td>88</td>\n",
       "      <td>22</td>\n",
       "    </tr>\n",
       "  </tbody>\n",
       "</table>\n",
       "</div>"
      ],
      "text/plain": [
       "         Range  High  Low\n",
       "Student                  \n",
       "John        39    95   56\n",
       "Alice       33    91   58\n",
       "Tom         33    89   56\n",
       "Rachel      66    88   22"
      ]
     },
     "execution_count": 18,
     "metadata": {},
     "output_type": "execute_result"
    }
   ],
   "source": [
    "# Group the tests_classes_long data by Student and calculate the \n",
    "# max, min, and peak_to_peak (range) of the Grade for each Student.\n",
    "range_per_student = tests_classes_long.groupby('Student')['Grade'].agg([peak_to_peak,'max', 'min'])\n",
    "# Change the names of the columns of the DataFrame.\n",
    "range_per_student.rename(columns = {'peak_to_peak': 'Range', 'max': 'High', 'min':'Low'}, inplace = True)\n",
    "# Sort the DataFrame by High, and then Low (if tied), Grade in Descending order\n",
    "range_per_student.sort_values(by = ['High', 'Low'], ascending = False, inplace = True)\n",
    "# Return the sorted DataFrame\n",
    "range_per_student"
   ]
  },
  {
   "cell_type": "markdown",
   "metadata": {},
   "source": [
    "## Dataset #3: Student Test Data for Same Class\n",
    "This dataset contains test grades for 8 students on 4 different tests (Test 1, Test 2, Test 3, and Test 4). <br>"
   ]
  },
  {
   "cell_type": "markdown",
   "metadata": {},
   "source": [
    "### Data Loading and Tidying\n",
    "In order to analyze this data, I loaded it in from the csv file I created based on [my discussion post](https://yu.instructure.com/courses/33553/discussion_topics/42271/entry-127298) in our class forum. <br>\n",
    "After reading the dataset into a DataFrame object, I then needed to convert the data from wide format to long format, as the data was not tidy. <br>\n",
    "The data was untidy because the columns were actaully values of a category, and not categories, so I used Pandas' melt function to convert the data from wide to long format. <br>\n",
    "The resulting DataFrame has three columns: Student, Test Number (containing the four test category values), and Grade. <br>\n",
    "Additionally, while the data did contain 3 missing values, I chose to treat those values as Numpy's NaN (not a number), and not as zeroes. <br>\n",
    "I decided to do this because it is possible that these students have not yet taken the exam, or were excused from the exam, and should not therefore be given a zero for the exam, which lower their average. <br>\n",
    "I therefore did not need to change these values, as when loaded into the DataFrame using Pandas' read_csv function, the missing data was already coded as NaN. <br>"
   ]
  },
  {
   "cell_type": "code",
   "execution_count": 19,
   "metadata": {},
   "outputs": [
    {
     "data": {
      "text/html": [
       "<div>\n",
       "<style scoped>\n",
       "    .dataframe tbody tr th:only-of-type {\n",
       "        vertical-align: middle;\n",
       "    }\n",
       "\n",
       "    .dataframe tbody tr th {\n",
       "        vertical-align: top;\n",
       "    }\n",
       "\n",
       "    .dataframe thead th {\n",
       "        text-align: right;\n",
       "    }\n",
       "</style>\n",
       "<table border=\"1\" class=\"dataframe\">\n",
       "  <thead>\n",
       "    <tr style=\"text-align: right;\">\n",
       "      <th></th>\n",
       "      <th>Name</th>\n",
       "      <th>Test 1</th>\n",
       "      <th>Test 2</th>\n",
       "      <th>Test 3</th>\n",
       "      <th>Test 4</th>\n",
       "    </tr>\n",
       "  </thead>\n",
       "  <tbody>\n",
       "    <tr>\n",
       "      <th>0</th>\n",
       "      <td>Reggie Miller</td>\n",
       "      <td>97.0</td>\n",
       "      <td>80</td>\n",
       "      <td>87.0</td>\n",
       "      <td>91</td>\n",
       "    </tr>\n",
       "    <tr>\n",
       "      <th>1</th>\n",
       "      <td>Dan Bonner</td>\n",
       "      <td>76.0</td>\n",
       "      <td>68</td>\n",
       "      <td>80.0</td>\n",
       "      <td>81</td>\n",
       "    </tr>\n",
       "    <tr>\n",
       "      <th>2</th>\n",
       "      <td>Steve Smith</td>\n",
       "      <td>84.0</td>\n",
       "      <td>75</td>\n",
       "      <td>NaN</td>\n",
       "      <td>86</td>\n",
       "    </tr>\n",
       "    <tr>\n",
       "      <th>3</th>\n",
       "      <td>Charles Barkley</td>\n",
       "      <td>NaN</td>\n",
       "      <td>89</td>\n",
       "      <td>NaN</td>\n",
       "      <td>76</td>\n",
       "    </tr>\n",
       "    <tr>\n",
       "      <th>4</th>\n",
       "      <td>Kenny Smith</td>\n",
       "      <td>80.0</td>\n",
       "      <td>81</td>\n",
       "      <td>79.0</td>\n",
       "      <td>85</td>\n",
       "    </tr>\n",
       "    <tr>\n",
       "      <th>5</th>\n",
       "      <td>Chris Webber</td>\n",
       "      <td>75.0</td>\n",
       "      <td>75</td>\n",
       "      <td>76.0</td>\n",
       "      <td>92</td>\n",
       "    </tr>\n",
       "    <tr>\n",
       "      <th>6</th>\n",
       "      <td>Jalen Rose</td>\n",
       "      <td>80.0</td>\n",
       "      <td>85</td>\n",
       "      <td>84.0</td>\n",
       "      <td>83</td>\n",
       "    </tr>\n",
       "    <tr>\n",
       "      <th>7</th>\n",
       "      <td>Jim Jackson</td>\n",
       "      <td>92.0</td>\n",
       "      <td>91</td>\n",
       "      <td>94.0</td>\n",
       "      <td>95</td>\n",
       "    </tr>\n",
       "  </tbody>\n",
       "</table>\n",
       "</div>"
      ],
      "text/plain": [
       "              Name  Test 1  Test 2  Test 3  Test 4\n",
       "0    Reggie Miller    97.0      80    87.0      91\n",
       "1       Dan Bonner    76.0      68    80.0      81\n",
       "2      Steve Smith    84.0      75     NaN      86\n",
       "3  Charles Barkley     NaN      89     NaN      76\n",
       "4      Kenny Smith    80.0      81    79.0      85\n",
       "5     Chris Webber    75.0      75    76.0      92\n",
       "6       Jalen Rose    80.0      85    84.0      83\n",
       "7      Jim Jackson    92.0      91    94.0      95"
      ]
     },
     "execution_count": 19,
     "metadata": {},
     "output_type": "execute_result"
    }
   ],
   "source": [
    "# Read test data from the same class into a DataFrame.\n",
    "same_class = pd.read_csv('https://raw.githubusercontent.com/ngb0330/DAV-5400/master/Week%2010/Datasets/Student%20Test%20Same%20Class.csv')\n",
    "# Return the resulting DataFrame.\n",
    "same_class"
   ]
  },
  {
   "cell_type": "code",
   "execution_count": 20,
   "metadata": {},
   "outputs": [
    {
     "data": {
      "text/html": [
       "<div>\n",
       "<style scoped>\n",
       "    .dataframe tbody tr th:only-of-type {\n",
       "        vertical-align: middle;\n",
       "    }\n",
       "\n",
       "    .dataframe tbody tr th {\n",
       "        vertical-align: top;\n",
       "    }\n",
       "\n",
       "    .dataframe thead th {\n",
       "        text-align: right;\n",
       "    }\n",
       "</style>\n",
       "<table border=\"1\" class=\"dataframe\">\n",
       "  <thead>\n",
       "    <tr style=\"text-align: right;\">\n",
       "      <th></th>\n",
       "      <th>Name</th>\n",
       "      <th>Test Number</th>\n",
       "      <th>Grade</th>\n",
       "    </tr>\n",
       "  </thead>\n",
       "  <tbody>\n",
       "    <tr>\n",
       "      <th>0</th>\n",
       "      <td>Reggie Miller</td>\n",
       "      <td>Test 1</td>\n",
       "      <td>97.0</td>\n",
       "    </tr>\n",
       "    <tr>\n",
       "      <th>1</th>\n",
       "      <td>Dan Bonner</td>\n",
       "      <td>Test 1</td>\n",
       "      <td>76.0</td>\n",
       "    </tr>\n",
       "    <tr>\n",
       "      <th>2</th>\n",
       "      <td>Steve Smith</td>\n",
       "      <td>Test 1</td>\n",
       "      <td>84.0</td>\n",
       "    </tr>\n",
       "    <tr>\n",
       "      <th>3</th>\n",
       "      <td>Charles Barkley</td>\n",
       "      <td>Test 1</td>\n",
       "      <td>NaN</td>\n",
       "    </tr>\n",
       "    <tr>\n",
       "      <th>4</th>\n",
       "      <td>Kenny Smith</td>\n",
       "      <td>Test 1</td>\n",
       "      <td>80.0</td>\n",
       "    </tr>\n",
       "  </tbody>\n",
       "</table>\n",
       "</div>"
      ],
      "text/plain": [
       "              Name Test Number  Grade\n",
       "0    Reggie Miller      Test 1   97.0\n",
       "1       Dan Bonner      Test 1   76.0\n",
       "2      Steve Smith      Test 1   84.0\n",
       "3  Charles Barkley      Test 1    NaN\n",
       "4      Kenny Smith      Test 1   80.0"
      ]
     },
     "execution_count": 20,
     "metadata": {},
     "output_type": "execute_result"
    }
   ],
   "source": [
    "# Combine the Test 1, Test 2, Test 3, and Test 4\n",
    "# columns into one Test Number column\n",
    "# and create new column Grade to hold the counts \n",
    "# from the melted columns.\n",
    "same_class_long = pd.melt(same_class, 'Name', \n",
    "                          value_vars = ['Test 1', 'Test 2', 'Test 3', 'Test 4'],\n",
    "                         var_name = 'Test Number', value_name = 'Grade')\n",
    "# Return the first 5 rows of melted data.\n",
    "same_class_long.head()"
   ]
  },
  {
   "cell_type": "markdown",
   "metadata": {},
   "source": [
    "### Analysis of Student Test Data In the Same Class\n",
    "After tidying the data and converting it to long format, the data is now ready to be analyzed. <br>\n",
    "There are three questions I wanted to answer based on this data:\n",
    "1. Which student had the highest average test grades?\n",
    "2. Which student had the greatest range of test grades?\n",
    "3. Which test had the highest grades?"
   ]
  },
  {
   "cell_type": "markdown",
   "metadata": {},
   "source": [
    "#### Question 1: Student with Highest Average Test Grades\n",
    "To find the student with the highest average test score, I grouped the long-formatted data by student, and calculated the mean of the grades for each student. <br>\n",
    "I then sorted the data in descending order and found that the student with the highest average grades was Jim Jackson, with a 93.00 average. <br>\n",
    "\n",
    "The data is displayed as both a table and a bar plot. <br>"
   ]
  },
  {
   "cell_type": "code",
   "execution_count": 21,
   "metadata": {},
   "outputs": [
    {
     "data": {
      "text/html": [
       "<div>\n",
       "<style scoped>\n",
       "    .dataframe tbody tr th:only-of-type {\n",
       "        vertical-align: middle;\n",
       "    }\n",
       "\n",
       "    .dataframe tbody tr th {\n",
       "        vertical-align: top;\n",
       "    }\n",
       "\n",
       "    .dataframe thead th {\n",
       "        text-align: right;\n",
       "    }\n",
       "</style>\n",
       "<table border=\"1\" class=\"dataframe\">\n",
       "  <thead>\n",
       "    <tr style=\"text-align: right;\">\n",
       "      <th></th>\n",
       "      <th>Grade</th>\n",
       "    </tr>\n",
       "    <tr>\n",
       "      <th>Name</th>\n",
       "      <th></th>\n",
       "    </tr>\n",
       "  </thead>\n",
       "  <tbody>\n",
       "    <tr>\n",
       "      <th>Jim Jackson</th>\n",
       "      <td>93.000000</td>\n",
       "    </tr>\n",
       "    <tr>\n",
       "      <th>Reggie Miller</th>\n",
       "      <td>88.750000</td>\n",
       "    </tr>\n",
       "    <tr>\n",
       "      <th>Jalen Rose</th>\n",
       "      <td>83.000000</td>\n",
       "    </tr>\n",
       "    <tr>\n",
       "      <th>Charles Barkley</th>\n",
       "      <td>82.500000</td>\n",
       "    </tr>\n",
       "    <tr>\n",
       "      <th>Steve Smith</th>\n",
       "      <td>81.666667</td>\n",
       "    </tr>\n",
       "  </tbody>\n",
       "</table>\n",
       "</div>"
      ],
      "text/plain": [
       "                     Grade\n",
       "Name                      \n",
       "Jim Jackson      93.000000\n",
       "Reggie Miller    88.750000\n",
       "Jalen Rose       83.000000\n",
       "Charles Barkley  82.500000\n",
       "Steve Smith      81.666667"
      ]
     },
     "execution_count": 21,
     "metadata": {},
     "output_type": "execute_result"
    }
   ],
   "source": [
    "# Group the same_class_long data by Name and calculate the\n",
    "# average of the Grade for each Name.\n",
    "# Convert the resulting Series to a DataFrame.\n",
    "average_per_student = same_class_long.groupby('Name')['Grade'].mean().to_frame()\n",
    "# Sort the DataFrame by average Grade in desceiding order\n",
    "average_per_student.sort_values(by = 'Grade', ascending = False, inplace = True)\n",
    "# Display the first 5 rows of the sorted data\n",
    "average_per_student.head()"
   ]
  },
  {
   "cell_type": "code",
   "execution_count": 22,
   "metadata": {},
   "outputs": [
    {
     "data": {
      "image/png": "[encoded data removed]",
      "text/plain": [
       "<Figure size 720x360 with 1 Axes>"
      ]
     },
     "metadata": {
      "needs_background": "light"
     },
     "output_type": "display_data"
    }
   ],
   "source": [
    "# Create a bar plot of average grade per student\n",
    "sns.catplot('Name', 'Grade', data = average_per_student.reset_index(), kind = 'bar', aspect = 2)\n",
    "# Set the title and labels for the plot.\n",
    "plt.title('Average Grades For Each Student', fontsize = 14)\n",
    "plt.xlabel('Student', fontsize = 12)\n",
    "plt.ylabel('Average Grade', fontsize = 12);"
   ]
  },
  {
   "cell_type": "markdown",
   "metadata": {},
   "source": [
    "#### Question 2: Student with Greatest Range of  Test Grades\n",
    "To find the student with the greatest range of test scores, I grouped the long-formatted data by student, and calculated the maximum, minimum, and range (using my peak_to_peak function) of the grades for each student. <br>\n",
    "I then sorted the data in descending order of the range and found that there were two students with the greatest range of test grades: Reggie Miller and Chris Webber, who both had a range of 17.\n",
    "\n",
    "The data is displayed as both a table and a bar plot. <br>"
   ]
  },
  {
   "cell_type": "code",
   "execution_count": 23,
   "metadata": {},
   "outputs": [
    {
     "data": {
      "text/html": [
       "<div>\n",
       "<style scoped>\n",
       "    .dataframe tbody tr th:only-of-type {\n",
       "        vertical-align: middle;\n",
       "    }\n",
       "\n",
       "    .dataframe tbody tr th {\n",
       "        vertical-align: top;\n",
       "    }\n",
       "\n",
       "    .dataframe thead th {\n",
       "        text-align: right;\n",
       "    }\n",
       "</style>\n",
       "<table border=\"1\" class=\"dataframe\">\n",
       "  <thead>\n",
       "    <tr style=\"text-align: right;\">\n",
       "      <th></th>\n",
       "      <th>Range</th>\n",
       "      <th>High</th>\n",
       "      <th>Low</th>\n",
       "    </tr>\n",
       "    <tr>\n",
       "      <th>Name</th>\n",
       "      <th></th>\n",
       "      <th></th>\n",
       "      <th></th>\n",
       "    </tr>\n",
       "  </thead>\n",
       "  <tbody>\n",
       "    <tr>\n",
       "      <th>Reggie Miller</th>\n",
       "      <td>17.0</td>\n",
       "      <td>97.0</td>\n",
       "      <td>80.0</td>\n",
       "    </tr>\n",
       "    <tr>\n",
       "      <th>Chris Webber</th>\n",
       "      <td>17.0</td>\n",
       "      <td>92.0</td>\n",
       "      <td>75.0</td>\n",
       "    </tr>\n",
       "    <tr>\n",
       "      <th>Charles Barkley</th>\n",
       "      <td>13.0</td>\n",
       "      <td>89.0</td>\n",
       "      <td>76.0</td>\n",
       "    </tr>\n",
       "    <tr>\n",
       "      <th>Dan Bonner</th>\n",
       "      <td>13.0</td>\n",
       "      <td>81.0</td>\n",
       "      <td>68.0</td>\n",
       "    </tr>\n",
       "    <tr>\n",
       "      <th>Steve Smith</th>\n",
       "      <td>11.0</td>\n",
       "      <td>86.0</td>\n",
       "      <td>75.0</td>\n",
       "    </tr>\n",
       "    <tr>\n",
       "      <th>Kenny Smith</th>\n",
       "      <td>6.0</td>\n",
       "      <td>85.0</td>\n",
       "      <td>79.0</td>\n",
       "    </tr>\n",
       "    <tr>\n",
       "      <th>Jalen Rose</th>\n",
       "      <td>5.0</td>\n",
       "      <td>85.0</td>\n",
       "      <td>80.0</td>\n",
       "    </tr>\n",
       "    <tr>\n",
       "      <th>Jim Jackson</th>\n",
       "      <td>4.0</td>\n",
       "      <td>95.0</td>\n",
       "      <td>91.0</td>\n",
       "    </tr>\n",
       "  </tbody>\n",
       "</table>\n",
       "</div>"
      ],
      "text/plain": [
       "                 Range  High   Low\n",
       "Name                              \n",
       "Reggie Miller     17.0  97.0  80.0\n",
       "Chris Webber      17.0  92.0  75.0\n",
       "Charles Barkley   13.0  89.0  76.0\n",
       "Dan Bonner        13.0  81.0  68.0\n",
       "Steve Smith       11.0  86.0  75.0\n",
       "Kenny Smith        6.0  85.0  79.0\n",
       "Jalen Rose         5.0  85.0  80.0\n",
       "Jim Jackson        4.0  95.0  91.0"
      ]
     },
     "execution_count": 23,
     "metadata": {},
     "output_type": "execute_result"
    }
   ],
   "source": [
    "# Group the same_class_long data by Name and calculate the \n",
    "# max, min, and peak_to_peak (range) of the Grade for each Student.\n",
    "range_per_student = same_class_long.groupby('Name')['Grade'].agg([peak_to_peak, 'max', 'min'])\n",
    "# Rename the columns of the DataFrame.\n",
    "range_per_student.rename(columns = {'peak_to_peak': 'Range', 'max': 'High', 'min':'Low'}, inplace = True)\n",
    "# Sort the DataFrame by Range, and then High score (if tied), of the Grade \n",
    "# in descending order\n",
    "range_per_student.sort_values(by = ['Range', 'High'], ascending = False, inplace = True)\n",
    "# Return the sorted DataFrame.\n",
    "range_per_student"
   ]
  },
  {
   "cell_type": "code",
   "execution_count": 24,
   "metadata": {},
   "outputs": [
    {
     "data": {
      "image/png": "[encoded data removed]",
      "text/plain": [
       "<Figure size 720x360 with 1 Axes>"
      ]
     },
     "metadata": {
      "needs_background": "light"
     },
     "output_type": "display_data"
    }
   ],
   "source": [
    "# Create a bar plot of the range of grades per student.\n",
    "sns.catplot('Name', 'Range', data = range_per_student.reset_index(), kind = 'bar', aspect = 2)\n",
    "# Set the title and labels for the plot.\n",
    "plt.title('Range of Grades For Each Student', fontsize = 14)\n",
    "plt.xlabel('Student', fontsize = 12)\n",
    "plt.ylabel('Grade Range', fontsize = 12);"
   ]
  },
  {
   "cell_type": "markdown",
   "metadata": {},
   "source": [
    "#### Question 3: Test with the Highest Grades\n",
    "To find the test swith the highest grades, I grouped the long-formatted data by test number, and calculated the mean of the grades for each test number. <br>\n",
    "I decided to use the average test score to decide which test had the highest grades, as that would be more reflective of which test had the highest grades.\n",
    "I then sorted the data in descending order and found that the test number with the highest average grade was Test 4 with an 86.125 average grade on that test <br>\n",
    "\n",
    "The data is displayed as both a table and a bar plot. <br>"
   ]
  },
  {
   "cell_type": "code",
   "execution_count": 25,
   "metadata": {},
   "outputs": [
    {
     "data": {
      "text/html": [
       "<div>\n",
       "<style scoped>\n",
       "    .dataframe tbody tr th:only-of-type {\n",
       "        vertical-align: middle;\n",
       "    }\n",
       "\n",
       "    .dataframe tbody tr th {\n",
       "        vertical-align: top;\n",
       "    }\n",
       "\n",
       "    .dataframe thead th {\n",
       "        text-align: right;\n",
       "    }\n",
       "</style>\n",
       "<table border=\"1\" class=\"dataframe\">\n",
       "  <thead>\n",
       "    <tr style=\"text-align: right;\">\n",
       "      <th></th>\n",
       "      <th>Grade</th>\n",
       "    </tr>\n",
       "    <tr>\n",
       "      <th>Test Number</th>\n",
       "      <th></th>\n",
       "    </tr>\n",
       "  </thead>\n",
       "  <tbody>\n",
       "    <tr>\n",
       "      <th>Test 4</th>\n",
       "      <td>86.125000</td>\n",
       "    </tr>\n",
       "    <tr>\n",
       "      <th>Test 1</th>\n",
       "      <td>83.428571</td>\n",
       "    </tr>\n",
       "    <tr>\n",
       "      <th>Test 3</th>\n",
       "      <td>83.333333</td>\n",
       "    </tr>\n",
       "    <tr>\n",
       "      <th>Test 2</th>\n",
       "      <td>80.500000</td>\n",
       "    </tr>\n",
       "  </tbody>\n",
       "</table>\n",
       "</div>"
      ],
      "text/plain": [
       "                 Grade\n",
       "Test Number           \n",
       "Test 4       86.125000\n",
       "Test 1       83.428571\n",
       "Test 3       83.333333\n",
       "Test 2       80.500000"
      ]
     },
     "execution_count": 25,
     "metadata": {},
     "output_type": "execute_result"
    }
   ],
   "source": [
    "# Group the same_class_long data by Test Number and\n",
    "# calculate the average Grade for each Test Number. \n",
    "# Convert the resulting Series to a DataFrame.\n",
    "average_per_test = same_class_long.groupby('Test Number')['Grade'].mean().to_frame()\n",
    "# Sort the DataFrame by average Grade in descending order.\n",
    "average_per_test.sort_values(by = 'Grade', ascending = False, inplace = True)\n",
    "# Return the sorted DataFrame. \n",
    "average_per_test"
   ]
  },
  {
   "cell_type": "code",
   "execution_count": 26,
   "metadata": {},
   "outputs": [
    {
     "data": {
      "image/png": "[encoded data removed]",
      "text/plain": [
       "<Figure size 360x360 with 1 Axes>"
      ]
     },
     "metadata": {
      "needs_background": "light"
     },
     "output_type": "display_data"
    }
   ],
   "source": [
    "# Create a bar plot of the average grade for each test number.\n",
    "sns.catplot('Test Number', 'Grade', data = average_per_test.reset_index(), kind = 'bar')\n",
    "# Set the title and the labels for the bar plot.\n",
    "plt.title('Average Grades For Each Test', fontsize = 14)\n",
    "plt.xlabel('Test Number', fontsize = 12)\n",
    "plt.ylabel('Average Grade', fontsize = 12);"
   ]
  }
 ],
 "metadata": {
  "kernelspec": {
   "display_name": "Python 3",
   "language": "python",
   "name": "python3"
  },
  "language_info": {
   "codemirror_mode": {
    "name": "ipython",
    "version": 3
   },
   "file_extension": ".py",
   "mimetype": "text/x-python",
   "name": "python",
   "nbconvert_exporter": "python",
   "pygments_lexer": "ipython3",
   "version": "3.7.1"
  }
 },
 "nbformat": 4,
 "nbformat_minor": 2
}
