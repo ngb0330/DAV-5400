{
 "cells": [
  {
   "cell_type": "markdown",
   "metadata": {},
   "source": [
    "# DAV 5400 Assignment 3\n",
    "## Problem 0\n",
    "\n",
    "Read the cars-sample35.txt file into a csv and re-create the same 7 lists that were used in last week's assignment. <br>\n",
    "First, 7 empty lists are initialzed, and then they are filled with data, by looping over the csv file and adding the appropriate data to each list."
   ]
  },
  {
   "cell_type": "code",
   "execution_count": 1,
   "metadata": {},
   "outputs": [
    {
     "name": "stdout",
     "output_type": "stream",
     "text": [
      "35\n"
     ]
    }
   ],
   "source": [
    "import csv\n",
    "with open(r'/Users/natanbienstock/Documents/Grad School/Spring 2019/DAV 5400/DAV-5400/Week 2/cars-sample35.txt') as csvfile:\n",
    "   #initialize the 7 empty lists to be filled in loop\n",
    "    prices = []; maintenance_costs = []; doors = []; passengers = []\n",
    "    luggage_capacities = []; safety_ratings = []; classifications = []\n",
    "    #read in the cars-sample file.\n",
    "    readCSV = csv.reader(csvfile)\n",
    "    #add the data in each row (for each car) to the appropriate list\n",
    "    for row in readCSV:\n",
    "        prices.append(row[0]) #add price data to prices\n",
    "        maintenance_costs.append(row[1]) #add maitenance cost to maintenance_costs\n",
    "        doors.append(row[2]) # add door number to doors\n",
    "        passengers.append(row[3]) #add number of passengers to passengers\n",
    "        luggage_capacities.append(row[4]) #add luggace capacity to luggage_capacities\n",
    "        safety_ratings.append(row[5]) #add safety rating to safety_ratings\n",
    "        classifications.append(row[-1]) #add classification to classificiations\n",
    "\n",
    "#check that prices has right amount of data.\n",
    "print(len(prices))"
   ]
  },
  {
   "cell_type": "markdown",
   "metadata": {},
   "source": [
    "## Problem 1\n",
    "\n",
    "Uses a list comprehension to find all of the index values of cars having a price of 'med'. <br>\n",
    "The med_price_index list holds the index values for all cars with a price of 'med'. <br>\n",
    "This is done by looping through the prices list, and only adding the index to the list if the price at that index is 'med'. <br>\n",
    "The med_price_index list is printed, displaying the result.\n",
    "<br>\n",
    "This is the equivalent of: <br>\n",
    " \n",
    "    med_price_index = []\n",
    "    for index in range(len(prices)):\n",
    "        if prices[index] == 'med':\n",
    "            med_price_index.append(index)\n"
   ]
  },
  {
   "cell_type": "code",
   "execution_count": 2,
   "metadata": {},
   "outputs": [
    {
     "name": "stdout",
     "output_type": "stream",
     "text": [
      "[6, 16, 20, 23, 26, 29]\n"
     ]
    }
   ],
   "source": [
    "# generate mid_price_index list comprehension by checking\n",
    "# if price at index is med\n",
    "med_price_index = [index for index in range(len(prices)) if prices[index] == 'med']\n",
    "\n",
    "#print the resulting list\n",
    "print(med_price_index)"
   ]
  },
  {
   "cell_type": "markdown",
   "metadata": {},
   "source": [
    "## Problem 2\n",
    "\n",
    "Uses a list comprehension to find the number of passengers in cars with price values of 'med'. <br>\n",
    "The passengers_med list holds the passenger values for all cars with price values of 'med'. <br>\n",
    "This is done by looping over the med_price_index list, created in problem 1, and getting the passengers value as specified by each value in the med_price_index list <br>\n",
    "The passengers_med list is printed out displaying the result <br>\n",
    "This is the equivalent of:<br>\n",
    "    \n",
    "    passengers_med = []\n",
    "    for i in med_price_index:\n",
    "        passengers_med.append(passengers[i])\n",
    "    "
   ]
  },
  {
   "cell_type": "code",
   "execution_count": 3,
   "metadata": {},
   "outputs": [
    {
     "name": "stdout",
     "output_type": "stream",
     "text": [
      "['more', '2', '2', '2', '4', '2']\n"
     ]
    }
   ],
   "source": [
    "# generate passengers_med list comprehension by taking\n",
    "# numbers of passengers at index as specified by element\n",
    "# in med_price_index\n",
    "passengers_med = [passengers[i] for i in med_price_index]\n",
    "\n",
    "#print the list\n",
    "print(passengers_med)"
   ]
  },
  {
   "cell_type": "markdown",
   "metadata": {},
   "source": [
    "## Problem 3\n",
    "\n",
    "Uses a list comprehension to find the indeces where the price value of a car is 'high' and its maintenance cost is not low. <br>\n",
    "The high_price_not_low_maintenance list holds those indeces. <br>\n",
    "This is done by looping through the prices list, and if the price at an index is high, and the maintenance_costs list value at the index is not low, adding it to the high_price_not_low_maintenance list. <br>\n",
    "The list is then printed out displaying the result. <br>\n",
    "This is the equivalent of: <br>\n",
    "\n",
    "    high_price_not_low_maintenance = []\n",
    "    for i in range(len(prices)):\n",
    "        if prices[i] == 'high' and maintenance_costs[i] != 'low':\n",
    "            high_price_not_low_maintenace.append(i)"
   ]
  },
  {
   "cell_type": "code",
   "execution_count": 4,
   "metadata": {},
   "outputs": [
    {
     "name": "stdout",
     "output_type": "stream",
     "text": [
      "[0, 1, 2, 27, 31]\n"
     ]
    }
   ],
   "source": [
    "#generate the list by putting in indeces if \n",
    "#the price at the index is high and the \n",
    "#maintenance cost is not low.\n",
    "high_price_not_low_maintenance = [i for i in range(len(prices)) if prices[i] == 'high' and maintenance_costs[i] != 'low']\n",
    "\n",
    "#print the list\n",
    "print(high_price_not_low_maintenance)"
   ]
  },
  {
   "cell_type": "markdown",
   "metadata": {},
   "source": [
    "## Problem 4\n",
    "\n",
    "Use a list comprehension to flatten a nested list. <br>\n",
    "This is done by first looping through the values of nlist, and then looping through each value in the loop, and adding each value in the nested loop to the new list, flist. <br>\n",
    "The resulting list is then printed.<br>\n",
    "This is the equivalent of: <br>\n",
    "\n",
    "    flist = []\n",
    "    for x in nlist:\n",
    "        for y in x:\n",
    "            flist.append(y)\n"
   ]
  },
  {
   "cell_type": "code",
   "execution_count": 5,
   "metadata": {},
   "outputs": [
    {
     "name": "stdout",
     "output_type": "stream",
     "text": [
      "[1, 2, 3, 'A', 'B', 'C', 4, 5, 'D', 'E']\n"
     ]
    }
   ],
   "source": [
    "nlist = [ [1, 2, 3], ['A', 'B', 'C'], [4, 5], ['D', 'E'] ] #the original nested list\n",
    "#generate flist, by looping through all values of nlist\n",
    "#and then looping through those values,\n",
    "#or a nested for loop\n",
    "flist = [y for x in nlist for y in x]\n",
    "#print the resulting list\n",
    "print(flist)"
   ]
  },
  {
   "cell_type": "markdown",
   "metadata": {},
   "source": [
    "## Problem 5\n",
    "### Approach 1\n",
    "\n",
    "The makedict function takes a list and a number as input and returns a dictionary with that number of values from the list. <br>\n",
    "The parameters are mylist the list to be get the values from, and x the number of values to get from mylist. <br>\n",
    "If x is larger than the length of mylist, an exception is thrown. <br>\n",
    "If x is not larger than the length of mylist, and dictionary is created with the key values having format A+index, and values with the value of mylist at the given index. <br>\n",
    "An example would be if we were at index 2 of the maintenance_costs list - {A2: 'high'} <br>"
   ]
  },
  {
   "cell_type": "code",
   "execution_count": 6,
   "metadata": {},
   "outputs": [],
   "source": [
    "def makedict(mylist,x):\n",
    "    '''\n",
    "    The makedict function takes two parameters, a list and the number of items from the list to return, \n",
    "    and creates a dictionary containing that number of items.\n",
    "    An exception is thrown if the number entered is larger than the length of the list.\n",
    "    Parameters:\n",
    "    mylist - the list to create the dictionary from.\n",
    "    x - the number of values in mylist to add to the dictionary.\n",
    "    Return:\n",
    "    A dictionary containing x values from mylist.\n",
    "    \n",
    "    '''\n",
    "    newdict = {} #initalize the new dicitionary\n",
    "    if x > len(mylist): #test whether the inputted number is larger than the length of the list\n",
    "        raise Exception('The number you entered is larger than the length of the list!') #raise an exception if it is.\n",
    "    for index in range(x): #counter to loop through the list x times\n",
    "        newdict['A{}'.format(index)] = mylist[index] #add the key A + index and value mylist[index] to the dictionary.\n",
    "    return newdict #return the dictionary\n"
   ]
  },
  {
   "cell_type": "markdown",
   "metadata": {},
   "source": [
    "### Approach 2\n",
    "\n",
    "The makedict2 function takes a list and a number as input and returns a dictionary with that number of values from the list. <br>\n",
    "The parameters are mylist the list to be get the values from, and x the number of values to get from mylist. <br>\n",
    "If x is larger than the length of mylist, the function returns \"The number entered must not be greater than the length of the list!\". <br>\n",
    "If x is not larger than the length of mylist, and dictionary is created with the key values having format A+index, and values with the value of mylist at the given index. <br>\n",
    "An example would be if we were at index 2 of the maintenance_costs list - {A2: 'high'} <br>"
   ]
  },
  {
   "cell_type": "code",
   "execution_count": 7,
   "metadata": {},
   "outputs": [],
   "source": [
    "def makedict2(mylist,x):\n",
    "    '''\n",
    "    The makedict2 function takes two parameters, a list and the number of items from the list to return, \n",
    "    and creates a dictionary containing that number of items.\n",
    "    The function returns (without creating the dictionary) if the number entered is larger than the length of the list.\n",
    "    Parameters:\n",
    "    mylist - the list to create the dictionary from.\n",
    "    x - the number of values in mylist to add to the dictionary.\n",
    "    Return:\n",
    "    A dictionary containing x values from mylist.\n",
    "    \n",
    "    '''\n",
    "    newdict = {}\n",
    "    if x > len(mylist):\n",
    "        return 'The number entered must not be greater than the length of the list!'\n",
    "    for index in range(x):\n",
    "        newdict['A{}'.format(index)] = mylist[index]\n",
    "    return newdict"
   ]
  },
  {
   "cell_type": "markdown",
   "metadata": {},
   "source": [
    "#### Testing the two functions"
   ]
  },
  {
   "cell_type": "code",
   "execution_count": 8,
   "metadata": {},
   "outputs": [
    {
     "data": {
      "text/plain": [
       "'The number entered must not be greater than the length of the list!'"
      ]
     },
     "execution_count": 8,
     "metadata": {},
     "output_type": "execute_result"
    }
   ],
   "source": [
    "makedict2(prices,36)"
   ]
  },
  {
   "cell_type": "code",
   "execution_count": 9,
   "metadata": {},
   "outputs": [
    {
     "ename": "Exception",
     "evalue": "The number you entered is larger than the length of the list!",
     "output_type": "error",
     "traceback": [
      "\u001b[0;31m---------------------------------------------------------------------------\u001b[0m",
      "\u001b[0;31mException\u001b[0m                                 Traceback (most recent call last)",
      "\u001b[0;32m<ipython-input-9-4093ffb1fceb>\u001b[0m in \u001b[0;36m<module>\u001b[0;34m\u001b[0m\n\u001b[0;32m----> 1\u001b[0;31m \u001b[0mmakedict\u001b[0m\u001b[0;34m(\u001b[0m\u001b[0mprices\u001b[0m\u001b[0;34m,\u001b[0m \u001b[0;36m40\u001b[0m\u001b[0;34m)\u001b[0m\u001b[0;34m\u001b[0m\u001b[0;34m\u001b[0m\u001b[0m\n\u001b[0m",
      "\u001b[0;32m<ipython-input-6-3aa53e291a8a>\u001b[0m in \u001b[0;36mmakedict\u001b[0;34m(mylist, x)\u001b[0m\n\u001b[1;32m     13\u001b[0m     \u001b[0mnewdict\u001b[0m \u001b[0;34m=\u001b[0m \u001b[0;34m{\u001b[0m\u001b[0;34m}\u001b[0m \u001b[0;31m#initalize the new dicitionary\u001b[0m\u001b[0;34m\u001b[0m\u001b[0;34m\u001b[0m\u001b[0m\n\u001b[1;32m     14\u001b[0m     \u001b[0;32mif\u001b[0m \u001b[0mx\u001b[0m \u001b[0;34m>\u001b[0m \u001b[0mlen\u001b[0m\u001b[0;34m(\u001b[0m\u001b[0mmylist\u001b[0m\u001b[0;34m)\u001b[0m\u001b[0;34m:\u001b[0m \u001b[0;31m#test whether the inputted number is larger than the length of the list\u001b[0m\u001b[0;34m\u001b[0m\u001b[0;34m\u001b[0m\u001b[0m\n\u001b[0;32m---> 15\u001b[0;31m         \u001b[0;32mraise\u001b[0m \u001b[0mException\u001b[0m\u001b[0;34m(\u001b[0m\u001b[0;34m'The number you entered is larger than the length of the list!'\u001b[0m\u001b[0;34m)\u001b[0m \u001b[0;31m#raise an exception if it is.\u001b[0m\u001b[0;34m\u001b[0m\u001b[0;34m\u001b[0m\u001b[0m\n\u001b[0m\u001b[1;32m     16\u001b[0m     \u001b[0;32mfor\u001b[0m \u001b[0mindex\u001b[0m \u001b[0;32min\u001b[0m \u001b[0mrange\u001b[0m\u001b[0;34m(\u001b[0m\u001b[0mx\u001b[0m\u001b[0;34m)\u001b[0m\u001b[0;34m:\u001b[0m \u001b[0;31m#counter to loop through the list x times\u001b[0m\u001b[0;34m\u001b[0m\u001b[0;34m\u001b[0m\u001b[0m\n\u001b[1;32m     17\u001b[0m         \u001b[0mnewdict\u001b[0m\u001b[0;34m[\u001b[0m\u001b[0;34m'A{}'\u001b[0m\u001b[0;34m.\u001b[0m\u001b[0mformat\u001b[0m\u001b[0;34m(\u001b[0m\u001b[0mindex\u001b[0m\u001b[0;34m)\u001b[0m\u001b[0;34m]\u001b[0m \u001b[0;34m=\u001b[0m \u001b[0mmylist\u001b[0m\u001b[0;34m[\u001b[0m\u001b[0mindex\u001b[0m\u001b[0;34m]\u001b[0m \u001b[0;31m#add the key A + index and value mylist[index] to the dictionary.\u001b[0m\u001b[0;34m\u001b[0m\u001b[0;34m\u001b[0m\u001b[0m\n",
      "\u001b[0;31mException\u001b[0m: The number you entered is larger than the length of the list!"
     ]
    }
   ],
   "source": [
    "makedict(prices, 40)"
   ]
  },
  {
   "cell_type": "code",
   "execution_count": 10,
   "metadata": {},
   "outputs": [
    {
     "data": {
      "text/plain": [
       "{'A0': 'med', 'A1': 'small', 'A2': 'big', 'A3': 'big', 'A4': 'med'}"
      ]
     },
     "execution_count": 10,
     "metadata": {},
     "output_type": "execute_result"
    }
   ],
   "source": [
    "makedict(luggage_capacities, 5)"
   ]
  },
  {
   "cell_type": "code",
   "execution_count": 12,
   "metadata": {},
   "outputs": [
    {
     "data": {
      "text/plain": [
       "{'A0': 'high',\n",
       " 'A1': 'high',\n",
       " 'A2': 'high',\n",
       " 'A3': 'low',\n",
       " 'A4': 'low',\n",
       " 'A5': 'high',\n",
       " 'A6': 'med',\n",
       " 'A7': 'low',\n",
       " 'A8': 'low',\n",
       " 'A9': 'high'}"
      ]
     },
     "execution_count": 12,
     "metadata": {},
     "output_type": "execute_result"
    }
   ],
   "source": [
    "makedict2(maintenance_costs, 10)"
   ]
  },
  {
   "cell_type": "markdown",
   "metadata": {},
   "source": [
    "## Problem 6\n",
    "Use the new function to make two dictionaries:\n",
    "\n",
    "1. prices_dict - Containing the first 7 values of the prices list.\n",
    "2. luggage_dict - Containing the first 7 values of the luggage_capacities list. \n",
    "\n",
    "A string is printed out with the values of the two dictionaries for the key 'A4'. <br>\n",
    "The format method is used to properly format the string."
   ]
  },
  {
   "cell_type": "code",
   "execution_count": 11,
   "metadata": {},
   "outputs": [
    {
     "name": "stdout",
     "output_type": "stream",
     "text": [
      "A4 price: vhigh, A4 luggage capacity: med\n"
     ]
    }
   ],
   "source": [
    "prices_dict = makedict(prices,7) #prices dictionary with first 7 values of prices list\n",
    "luggage_dict = makedict(luggage_capacities,7) #luggage dict with first 7 values of luggage_capacities list.\n",
    "\n",
    "#print the price and luggage capacity  values of the respective dictionaries \n",
    "#with key A4.\n",
    "print(\"A4 price: {}, A4 luggage capacity: {}\".format(prices_dict['A4'],luggage_dict['A4']))"
   ]
  }
 ],
 "metadata": {
  "kernelspec": {
   "display_name": "Python 3",
   "language": "python",
   "name": "python3"
  },
  "language_info": {
   "codemirror_mode": {
    "name": "ipython",
    "version": 3
   },
   "file_extension": ".py",
   "mimetype": "text/x-python",
   "name": "python",
   "nbconvert_exporter": "python",
   "pygments_lexer": "ipython3",
   "version": "3.7.1"
  }
 },
 "nbformat": 4,
 "nbformat_minor": 2
}
