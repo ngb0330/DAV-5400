{
 "cells": [
  {
   "cell_type": "markdown",
   "metadata": {},
   "source": [
    "# DAV 5400 Assignment 4\n",
    "\n",
    "Using the Numpy package.\n",
    "\n",
    "## Problem 1\n",
    "Find the distinct/unique common items between two Numpy arrays.\n",
    "\n",
    "My approach uses Numpy's unique method and Numpy's intersect1d method to find the intersection of the unique members of each array.\n",
    "unique method takes a Numpy array as input, and returns the sorted unique elements of the array.\n",
    "intersect1d method returns an array containing intersection (or overlap) of two 1 dimensional Numpy arrays.\n",
    "\n",
    "Example of this approach:\n",
    "\n",
    "    import numpy as np\n",
    "    a1 = np.array([1,2,3,4,5,4,6,4,3])\n",
    "    a2 = np.array([1,2,4,7,8,9,8,7,8,9])\n",
    "    c = np.unique(a1) #np.array([1,2,3,4,5,6])\n",
    "    d = np.unique(a2) #np.array([1,2,4,7,8,9])\n",
    "    np.intersect1d(c,d) #np.array([1,2,4])\n"
   ]
  },
  {
   "cell_type": "code",
   "execution_count": 2,
   "metadata": {},
   "outputs": [],
   "source": [
    "#import numpy package\n",
    "import numpy as np"
   ]
  },
  {
   "cell_type": "code",
   "execution_count": 4,
   "metadata": {},
   "outputs": [
    {
     "data": {
      "text/plain": [
       "array([2, 4])"
      ]
     },
     "execution_count": 4,
     "metadata": {},
     "output_type": "execute_result"
    }
   ],
   "source": [
    "#initialize numpy arrays.\n",
    "a = np.array([1, 2, 3, 2, 3, 4, 3, 4, 5, 6])\n",
    "b = np.array([7, 2, 10, 2, 7, 4, 9, 4, 9, 8])\n",
    "\n",
    "#return intersection of unique values of the arrays.\n",
    "np.intersect1d(np.unique(a), np.unique(b))"
   ]
  },
  {
   "cell_type": "markdown",
   "metadata": {},
   "source": [
    "# Problem 2\n",
    "Create a 5 x 3 array that looks like this:\n",
    "<br>\n",
    "\n",
    "    | 1 | 6 | 11 |\n",
    "    | 2 | 7 | 12 |\n",
    "    | 3 | 8 | 13 |\n",
    "    | 4 | 9 | 14 |\n",
    "    | 5 | 10 | 15 |\n",
    "    \n",
    "First, I used Numpy's arange method to generate a 1 dimensional array, with all the numbers from 1 to 16 (excluding 16). <br>\n",
    "Then, I used Numpy's reshape method to reshape the 1 dimensional array into a 3 x 5 array.<br>\n",
    "Finally, I used Numpy's T method to transpose the 3 x 5 array to a 5 x 3 array. "
   ]
  },
  {
   "cell_type": "code",
   "execution_count": 6,
   "metadata": {},
   "outputs": [
    {
     "data": {
      "text/plain": [
       "array([[ 1,  6, 11],\n",
       "       [ 2,  7, 12],\n",
       "       [ 3,  8, 13],\n",
       "       [ 4,  9, 14],\n",
       "       [ 5, 10, 15]])"
      ]
     },
     "execution_count": 6,
     "metadata": {},
     "output_type": "execute_result"
    }
   ],
   "source": [
    "#Make 5 x 3 array of numbers from 1 to 15, sorted by column.\n",
    "np.arange(1,16).reshape(3,5).T"
   ]
  },
  {
   "cell_type": "markdown",
   "metadata": {},
   "source": [
    "## Problem 3\n",
    "Remove elements from first array that are also present in second array.<br>\n",
    "My approach uses Numpy's setdiff1d method to find the difference between the two sets. <br>\n",
    "The difference between two sets returns the elements that are only present in the first set (or those that are not also found in the second set)."
   ]
  },
  {
   "cell_type": "code",
   "execution_count": 9,
   "metadata": {},
   "outputs": [
    {
     "data": {
      "text/plain": [
       "array([ 1,  7,  8, 15])"
      ]
     },
     "execution_count": 9,
     "metadata": {},
     "output_type": "execute_result"
    }
   ],
   "source": [
    "# initialize the arrays.\n",
    "c = np.array([12, 5, 7, 15, 3, 1, 8])\n",
    "d = np.array([14, 6, 3, 11, 19, 12, 5])\n",
    "\n",
    "#set c to be the difference between the two arrays.\n",
    "c = np.setdiff1d(c,d)\n",
    "\n",
    "#return c, showing the difference between the arrays.\n",
    "c"
   ]
  },
  {
   "cell_type": "markdown",
   "metadata": {},
   "source": [
    "## Problem 4\n",
    "Create a Numpy array to show the cumulative miles recorded on a trip between NYC to Key West (1549 miles). <br>\n",
    "Convert that array to show the total miles rode per day of the trip. <br>\n",
    "My approach was to create two functions, bike_ride_odometer and bike_ride_daily, to create Numpy arrays holding the odometer readings and daily miles of the trip. <br>\n",
    "The bike_ride_odometer function takes the total distance travelled, an array containing distances that could have been travelled in 1 day, the total number of days on the trip, and the total number of rest_days on the trip. <br>\n",
    "I used the Numpy empty method to create an empty array of size total days to hold the odometer readings. <br>\n",
    "I then loop through and generate odometer readings until the constraints are met, that the total distance was travelled and that the number of rest days was met. <br>\n",
    "I loop through the number of days, and then choose a number between 0 and 4 using Numpy's randint method of the random library. <br>\n",
    "If the number is zero, and it's not the first day, and I haven't rested the amount I'm allowed to, and I didn't rest yesterday, than the distance travelled today is zero (ie. I rested). <br>\n",
    "Otherwise, the distance travelled today is obtained using Numpy's choice method of the random library to pick 1 random value from the per_day array, replace that value (so it can picked again), and  the item method is called to get just the item (as opposed to an array value). <br>\n",
    "If it's not the first day, than the odometer reading is yesterday's odometer reading plus today's distance. Otherwise, if it's the first day, the odometer reading is the daily distance. <br>\n",
    "When an array meeting all the constraints is generated, it is returned, breaking out of the loop to generate the array. <br>\n",
    "\n",
    "The second function I used is the bike_ride_daily function to convert the odometer reading to daily bike ride readings. <br>\n",
    "The input to the function is an array of odometer readings, and it returns an array of daily mileage.<br>\n",
    "It loops through the indeces of the odometer readings, and sets the daily reading to be today's odometer reading minus yesterday's odometer reading. <br>\n",
    "\n",
    "After creating the two functions, I created an array of average_bike_daily distances using Numpy's arange function to create an array of integers between 40 and 61 (excluding 61, so 40 to 60). <br>\n",
    "I then called my two functions, and finally looped through the indeces in my daily_array and printed the day, daily_mileage, and odometer readings for each day.\n"
   ]
  },
  {
   "cell_type": "code",
   "execution_count": 27,
   "metadata": {},
   "outputs": [
    {
     "name": "stdout",
     "output_type": "stream",
     "text": [
      "Day 1: Bike Miles Rode: 60 Odometer Reading: 60\n",
      "Day 2: Bike Miles Rode: 45 Odometer Reading: 105\n",
      "Day 3: Bike Miles Rode: 42 Odometer Reading: 147\n",
      "Day 4: Bike Miles Rode: 49 Odometer Reading: 196\n",
      "Day 5: Bike Miles Rode: 42 Odometer Reading: 238\n",
      "Day 6: Bike Miles Rode: 0 Odometer Reading: 238\n",
      "Day 7: Bike Miles Rode: 58 Odometer Reading: 296\n",
      "Day 8: Bike Miles Rode: 43 Odometer Reading: 339\n",
      "Day 9: Bike Miles Rode: 56 Odometer Reading: 395\n",
      "Day 10: Bike Miles Rode: 60 Odometer Reading: 455\n",
      "Day 11: Bike Miles Rode: 0 Odometer Reading: 455\n",
      "Day 12: Bike Miles Rode: 59 Odometer Reading: 514\n",
      "Day 13: Bike Miles Rode: 0 Odometer Reading: 514\n",
      "Day 14: Bike Miles Rode: 59 Odometer Reading: 573\n",
      "Day 15: Bike Miles Rode: 57 Odometer Reading: 630\n",
      "Day 16: Bike Miles Rode: 48 Odometer Reading: 678\n",
      "Day 17: Bike Miles Rode: 46 Odometer Reading: 724\n",
      "Day 18: Bike Miles Rode: 53 Odometer Reading: 777\n",
      "Day 19: Bike Miles Rode: 43 Odometer Reading: 820\n",
      "Day 20: Bike Miles Rode: 40 Odometer Reading: 860\n",
      "Day 21: Bike Miles Rode: 59 Odometer Reading: 919\n",
      "Day 22: Bike Miles Rode: 56 Odometer Reading: 975\n",
      "Day 23: Bike Miles Rode: 45 Odometer Reading: 1020\n",
      "Day 24: Bike Miles Rode: 0 Odometer Reading: 1020\n",
      "Day 25: Bike Miles Rode: 43 Odometer Reading: 1063\n",
      "Day 26: Bike Miles Rode: 54 Odometer Reading: 1117\n",
      "Day 27: Bike Miles Rode: 49 Odometer Reading: 1166\n",
      "Day 28: Bike Miles Rode: 60 Odometer Reading: 1226\n",
      "Day 29: Bike Miles Rode: 45 Odometer Reading: 1271\n",
      "Day 30: Bike Miles Rode: 46 Odometer Reading: 1317\n",
      "Day 31: Bike Miles Rode: 52 Odometer Reading: 1369\n",
      "Day 32: Bike Miles Rode: 52 Odometer Reading: 1421\n",
      "Day 33: Bike Miles Rode: 40 Odometer Reading: 1461\n",
      "Day 34: Bike Miles Rode: 44 Odometer Reading: 1505\n",
      "Day 35: Bike Miles Rode: 44 Odometer Reading: 1549\n"
     ]
    }
   ],
   "source": [
    "def bike_ride_odometer(total_distance, per_day, days, rest_days):\n",
    "    '''\n",
    "    The bike_ride_odometer function takes 4 parameters, the total distance biked, \n",
    "    an array of bike distances per day, \n",
    "    the number of days of the trip, and the number of rest days on the trip,\n",
    "    and returns an array of odometer readings for the trip meeting those constraints.\n",
    "    \n",
    "    Parameters: \n",
    "    total_distance: The integer value of total distance of the journey.\n",
    "    per_day: An array (or list) containing the potential daily distances, from which to generate odometer readings.\n",
    "    days: An integer value of the number of days of the trip.\n",
    "    rest_days: An integer value of the number of day on the trip that no distance was covered.\n",
    "    \n",
    "    Return:\n",
    "    An array containing odometer readings for the trip, with the last value of the array being the total_distance,\n",
    "    the length of the array being the days of the trip, and with the number of rest_days inputted.\n",
    "    '''\n",
    "    odometer = np.empty([days]) #initialize an empty array to contain odometer readings for the trip.\n",
    "    zeroes = 0 #intialize the zeroes variable to represent rest days.\n",
    "    \n",
    "    # while loop to loop through until the constraints are met.\n",
    "    # constraints are that last value in odometer must be total_distance\n",
    "    # and number of rest days must be rest_days\n",
    "    while not (odometer[days-1] == total_distance and zeroes == rest_days):\n",
    "        # loop through the days\n",
    "        for i in range(days):\n",
    "            # take a random number between 0 and 4. \n",
    "            # if number is zero, and not on the first day, and you have rested less than\n",
    "            # the number of rest_days and you didn't just rest.\n",
    "            if np.random.randint(4) == 0 and i > 0 and zeroes < rest_days and odometer[i-1] > odometer[i-2]:\n",
    "                # set x = 0 and add 1 to the zeroes (number of rest days)\n",
    "                x = 0\n",
    "                zeroes += 1\n",
    "            else:\n",
    "                #set x to be a random value from the per_day array.\n",
    "                x = np.random.choice(per_day,1, replace = True).item()\n",
    "            # if not on day 1.\n",
    "            if i > 0:\n",
    "                # The current odometer reading, is the previous odometer reading \n",
    "                #plus the distance travelled today.\n",
    "                odometer[i] = odometer[i-1] + x\n",
    "            # if it is day zero.\n",
    "            if i == 0:\n",
    "                # the odometer reading is the day's distance.\n",
    "                odometer[i] = x\n",
    "        # if the last day's reading is the total_distance and the zeroes is the number of rest_days\n",
    "        if odometer[days-1] == total_distance and zeroes == rest_days:\n",
    "            #return the odometer array\n",
    "            return odometer\n",
    "        else:\n",
    "            #reset the zeroes variable, and try and generate the odometer array to meet the constraints..\n",
    "            zeroes = 0\n",
    "            \n",
    "def bike_ride_daily(odometer):\n",
    "    '''\n",
    "    The bike_ride_daily function converts the daily readings from an odometer to be daily distances travelled.\n",
    "    Parameters:\n",
    "    odometer: An array of odometer readings from a bicycle trip.\n",
    "    Return:\n",
    "    An array of daily distances travelled.\n",
    "    '''\n",
    "    # initialize an empty array \n",
    "    daily = np.empty(len(odometer))\n",
    "    # loop throguh indeces in odometer array.\n",
    "    for i in range(len(odometer)):\n",
    "        # if not on the first day\n",
    "        if i > 0:\n",
    "            # set daily distance to be today's odometer reading minus yesterday's reading.\n",
    "            daily[i] = odometer[i] - odometer[i-1]\n",
    "        else:\n",
    "            # set today's distance to be today's odometer reading. \n",
    "            daily[i] = odometer[i]\n",
    "    # return the daily array (containing daily distances.)\n",
    "    return daily\n",
    "\n",
    "# create the average_bike_per_day array to hold all integer values between 40 and 60\n",
    "# as the average miles per day biked is 40-60.\n",
    "average_bike_per_day = np.arange(40,61)\n",
    "\n",
    "# Set variable nyc_to_key_west_odometer to be return from bike_ride_odometer function\n",
    "# when distance travelled is 1549 miles, the per_day distances should come from the average_bike_per_day array\n",
    "# the total number of days is 35 and there were 4 rest days.\n",
    "nyc_to_key_west_odometer = bike_ride_odometer(1549,average_bike_per_day,35,4)\n",
    "\n",
    "#Set variable nyc_to_key_west_per_day to be return of bike_ride_daily function\n",
    "# with input nyc_to_key_west_odometer.\n",
    "nyc_to_key_west_per_day = bike_ride_daily(nyc_to_key_west_odometer)\n",
    "\n",
    "# loop through the indeces in the nyc_to_key_per_day array\n",
    "for i in range(len(nyc_to_key_west_per_day)):\n",
    "    # print the day, bike miles rode, and odometer reading using format strings.\n",
    "    print(\"Day {}: Bike Miles Rode: {} Odometer Reading: {}\".format(i+1, int(nyc_to_key_west_per_day[i]), int(nyc_to_key_west_odometer[i])))"
   ]
  },
  {
   "cell_type": "markdown",
   "metadata": {},
   "source": [
    "## Problem 5\n",
    "Using data loaded into a Numpy array representing NYC Water Consumption obtained from \n",
    "https://data.cityofnewyork.us/Environment/Water-Consumption-In-The-New-York-City/ia2d-e54m, use Numpy functionality to answer some questions about the data."
   ]
  },
  {
   "cell_type": "code",
   "execution_count": 28,
   "metadata": {},
   "outputs": [
    {
     "name": "stderr",
     "output_type": "stream",
     "text": [
      "/anaconda3/lib/python3.7/site-packages/ipykernel_launcher.py:8: FutureWarning: Method .as_matrix will be removed in a future version. Use .values instead.\n",
      "  \n"
     ]
    },
    {
     "data": {
      "text/plain": [
       "numpy.ndarray"
      ]
     },
     "execution_count": 28,
     "metadata": {},
     "output_type": "execute_result"
    }
   ],
   "source": [
    "import pandas\n",
    "import numpy as np\n",
    "\n",
    "# supress scientific notation\n",
    "np.set_printoptions(suppress = True)\n",
    "\n",
    "# read the data file from GitHub and convert to a NumPy ndarray object\n",
    "nyc_water = pandas.read_csv('https://raw.githubusercontent.com/jtopor/DAV-5400/master/Week4/Water_Consumption_In_The_New_York_City.csv').as_matrix()\n",
    "\n",
    "# verify you have an ndarray object\n",
    "type(nyc_water)"
   ]
  },
  {
   "cell_type": "markdown",
   "metadata": {},
   "source": [
    "### Question 1\n",
    "What is the maximum yearly NYC consumption of water in millions of gallons per day? <br>\n",
    "The third column of the array has the NYC consumption of water in millions of gallons per day. <br>\n",
    "So I sliced the nyc_water array to get the third column, and called Numpy's max method on the slice, to find the maximum value. <br>"
   ]
  },
  {
   "cell_type": "code",
   "execution_count": 29,
   "metadata": {},
   "outputs": [
    {
     "data": {
      "text/plain": [
       "1512.0"
      ]
     },
     "execution_count": 29,
     "metadata": {},
     "output_type": "execute_result"
    }
   ],
   "source": [
    "# Max value of third column of nyc_water array.\n",
    "nyc_water[:, 2].max()"
   ]
  },
  {
   "cell_type": "markdown",
   "metadata": {},
   "source": [
    "### Question 2\n",
    "How many calendar years are represented within this data set? <br>\n",
    "I used Numpy's shape method to get the number of rows and columns in the data set.<br>\n",
    "I wanted only the row value, so I used subscript zero, to get the first value. <br>\n",
    "The number of rows corresponds to the number of years in the dataset, as each year is its own row.\""
   ]
  },
  {
   "cell_type": "code",
   "execution_count": 30,
   "metadata": {},
   "outputs": [
    {
     "data": {
      "text/plain": [
       "39"
      ]
     },
     "execution_count": 30,
     "metadata": {},
     "output_type": "execute_result"
    }
   ],
   "source": [
    "# Number of rows in nyc_water array.\n",
    "np.shape(nyc_water)[0]"
   ]
  },
  {
   "cell_type": "markdown",
   "metadata": {},
   "source": [
    "### Question 3\n",
    "What is the mean and the standard deviation of the per capita daily water consumption? <br>\n",
    "The fourth column of the array has the per capita daily water consumption. <br>\n",
    "I sliced the nyc_water array to get the fourth column, and then called the mean method on the slice. <br>\n",
    "I then called the std method on the slice to get the standard deviation of per capita daily water consumption. <br>\n"
   ]
  },
  {
   "cell_type": "code",
   "execution_count": 31,
   "metadata": {},
   "outputs": [
    {
     "data": {
      "text/plain": [
       "160.30769230769232"
      ]
     },
     "execution_count": 31,
     "metadata": {},
     "output_type": "execute_result"
    }
   ],
   "source": [
    "# Mean of the fourth column of nyc_water array.\n",
    "nyc_water[:,3].mean()"
   ]
  },
  {
   "cell_type": "code",
   "execution_count": 32,
   "metadata": {},
   "outputs": [
    {
     "data": {
      "text/plain": [
       "31.51894330370624"
      ]
     },
     "execution_count": 32,
     "metadata": {},
     "output_type": "execute_result"
    }
   ],
   "source": [
    "# Standard deviation of the fourth column of the nyc_water array.\n",
    "nyc_water[:,3].std()"
   ]
  },
  {
   "cell_type": "markdown",
   "metadata": {},
   "source": [
    "### Question 4\n",
    "What is the increase or decrease in population from year to year? Use NumPy's `diff` function to create an array of differences and save that to a variable called \"pop_diff\", then print that variable to the screen <br>\n",
    "Since the population is stored in the second column, I called Numpy's diff function on a slice of nyc_water array containing the second column. <br>\n",
    "I set that result to the pop_diff variable, and print the pop_diff variable"
   ]
  },
  {
   "cell_type": "code",
   "execution_count": 33,
   "metadata": {},
   "outputs": [
    {
     "name": "stdout",
     "output_type": "stream",
     "text": [
      "[-30461.   17602.   19864.   72119.   53290.   39540.   45192.   23230.\n",
      "  11243.   -9544.   -8525.   38851.   54443.   77222.   64292.   62582.\n",
      "  64772.   75631.   84816.   89401.   60618.   16685.5  16685.5  16685.5\n",
      "  16685.5  16685.5  16685.5  16685.5  16685.5  16685.5  16685.5 108965.\n",
      "  77081.   61281.   49530.   44512.   21171.   85025. ]\n"
     ]
    }
   ],
   "source": [
    "# Set pop_diff to equal result of Numpy's diff function called on second column of nyc_water.\n",
    "pop_diff = np.diff(nyc_water[:,1])\n",
    "\n",
    "# print the pop_diff array.\n",
    "print(pop_diff)"
   ]
  }
 ],
 "metadata": {
  "kernelspec": {
   "display_name": "Python 3",
   "language": "python",
   "name": "python3"
  },
  "language_info": {
   "codemirror_mode": {
    "name": "ipython",
    "version": 3
   },
   "file_extension": ".py",
   "mimetype": "text/x-python",
   "name": "python",
   "nbconvert_exporter": "python",
   "pygments_lexer": "ipython3",
   "version": "3.7.1"
  }
 },
 "nbformat": 4,
 "nbformat_minor": 2
}
