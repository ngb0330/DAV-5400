{
 "cells": [
  {
   "cell_type": "markdown",
   "metadata": {},
   "source": [
    "## Link to Dataset\n",
    "**Original Link**: [Original Link](https://www.kaggle.com/timschutzyang/dataset1)<br>\n",
    "**Github Link**: [Github Link](https://github.com/ngb0330/DAV-5400/blob/master/Week%201/baseballdata.csv) <br> <br>\n",
    "## About the Dataset\n",
    "The dataset that I chose is a dataset containing informating about MLB Teams from 1870-2016. It contains the team's win loss record, their manager, and who their top player was. <br>\n",
    "There are 2594 rows and 23 columns in the dataset. <br>\n",
    "The dataset interests me as I really like baseball, and am excited to learn more about it. <br> <br>\n",
    "## Questions to Explore with the Dataset\n",
    "I am excited to explore the following questions in my dataset:\n",
    "1. Is there a set pattern to when a manager is fired, or to when a team changes its manager? Do teams only change their manager when they performed poorly, or are there other factors at play?\n",
    "2. Is there a connection between how many years a manager is with a team and how successful that team is? In other words, is a manager more successful the longer he is with the team, and are teams more successful when they have long-term managers?\n",
    "3. Is there a connection to a manager's and/or team's success and how many wins (WAR) its top player generated?"
   ]
  },
  {
   "cell_type": "code",
   "execution_count": null,
   "metadata": {},
   "outputs": [],
   "source": []
  }
 ],
 "metadata": {
  "kernelspec": {
   "display_name": "Python 3",
   "language": "python",
   "name": "python3"
  },
  "language_info": {
   "codemirror_mode": {
    "name": "ipython",
    "version": 3
   },
   "file_extension": ".py",
   "mimetype": "text/x-python",
   "name": "python",
   "nbconvert_exporter": "python",
   "pygments_lexer": "ipython3",
   "version": "3.7.1"
  }
 },
 "nbformat": 4,
 "nbformat_minor": 2
}
